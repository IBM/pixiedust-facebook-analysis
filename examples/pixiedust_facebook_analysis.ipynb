{
 "cells": [
  {
   "cell_type": "markdown",
   "metadata": {
    "collapsed": true
   },
   "source": [
    "# Analyze Facebook Data Using IBM Watson and IBM Watson Studio\n",
    "\n",
    "This is a three-part notebook meant to show how anyone can enrich and analyze a combined dataset of unstructured and structured information with IBM Watson and IBM Watson Studio. For this example we are using a standard Facebook Analytics export which features texts from posts, articles and thumbnails, along with standard performance metrics such as likes, shares, and impressions. \n",
    "\n",
    "**Part I** will use the Natural Language Understanding and (optionally) Visual Recognition services from IBM Watson to enrich the Facebook posts, thumbnails, and articles by pulling out `Sentiment`, `Emotion`, `Entities`, `Keywords`, and `Images`. The end result of Part I will be additional features and metrics we can visualize in Part III. \n",
    "\n",
    "**Part II** will set up multiple pandas DataFrames that will contain the values, and metrics needed to find insights in the Part III tests and experiments.\n",
    "\n",
    "**Part III** will use charts to visualize the features that we discovered during enrichment and show how they correlate with customer impressions.\n",
    "\n",
    "\n",
    "#### You should only need to change data in the Setup portion of this notebook. All places where you see  <span style=\"color: red\"> User Input </span> is where you should be adding inputs. \n",
    "\n",
    "### Table of Contents\n",
    "\n",
    "### [**Part I - Enrich**](#part1)<br>\n",
    "1. [Setup](#setup)<br>\n",
    "   1.1 [Install Watson Developer Cloud and BeautifulSoup Packages](#setup1)<br>\n",
    "   1.2 [Install PixieDust](#pixie)<br> \n",
    "   1.3 [Restart Kernel](#restart)<br> \n",
    "   1.4 [Import Packages and Libraries](#setup2)<br>\n",
    "   1.5 [Add Service Credentials From IBM Cloud for Watson Services](#setup3)<br>\n",
    "2. [Load Data](#load)<br>\n",
    "   2.1 [Load Data From Cloud Object Storage as a pandas DataFrame](#load1)<br>\n",
    "   2.2 [Set Variables](#load2)<br>\n",
    "3. [Prepare Data](#prepare)<br>\n",
    "   3.1 [Data Cleansing with Python](#prepare1)<br>\n",
    "   3.2 [Beautiful Soup to Extract Thumbnails and Extented Links](#prepare2)<br>\n",
    "4. [Enrich Data](#enrich)<br>\n",
    "   4.1 [NLU for Post Text](#nlupost)<br>\n",
    "   4.2 [NLU for Thumbnail Text](#nlutn)<br>\n",
    "   4.3 [NLU for Article Text](#nlulink)<br>\n",
    "   4.4 [Visual Recognition](#visual)<br>\n",
    "5. [Write Data](#write)<br>\n",
    "   5.1 [Convert DataFrame to new CSV](#write1)<br>\n",
    "   5.2 [Write Data to Cloud Object Storage](#write2)<br>\n",
    "    \n",
    "### [**Part II - Data Preparation**](#part2)<br>\n",
    "1. [Prepare Data](#prepare)<br>\n",
    "   1.1 [Create Multiple DataFrames for Visualizations](#visualizations)<br>\n",
    "   1.2 [Create a Consolidated Sentiment and Emotion DataFrame](#tone)<br>\n",
    "   1.3 [Create a Consolidated Keyword DataFrame](#keyword)<br>\n",
    "   1.4 [Create a Consolidated Entity DataFrame](#entity)<br>\n",
    "  \n",
    "### [**Part III - Analyze**](#part3)<br>\n",
    "\n",
    "1. [Setup](#2setup)<br> \n",
    "    1.1 [Assign Variables](#2setup2)<br>\n",
    "2. [Visualize Data](#2visual)<br>\n",
    "    2.1 [Run PixieDust Visualization Library with Display() API](#2visual1)\n"
   ]
  },
  {
   "cell_type": "markdown",
   "metadata": {},
   "source": [
    "# <a id=\"part1\"></a>Part I - Enrich\n",
    "\n",
    "## <a id=\"setup\"></a>1. Setup\n",
    "To prepare your environment, you need to install some packages and enter credentials for the Watson services.\n",
    "\n",
    "### <a id=\"setup1\"></a> 1.1 Install Latest Watson Developer Cloud and Beautiful Soup Packages\n",
    "You need to install these packages:\n",
    " - [Watson APIs Python SDK](https://github.com/watson-developer-cloud/python-sdk): a client library for Watson services.\n",
    " - <a href=\"https://www.crummy.com/software/BeautifulSoup/bs4/doc/\" target=\"_blank\" rel=\"noopener noreferrer\">Beautiful Soup</a>: a library to parse data from HTML for enriching the Facebook data.\n",
    " - <a href=\"https://ibm-cds-labs.github.io/pixiedust/\" target=\"_blank\" rel=\"noopener noreferrer\">PixieDust</a>: a library to visualize the data. \n",
    "\n",
    "Install the Watson Python SDK package:"
   ]
  },
  {
   "cell_type": "code",
   "execution_count": 1,
   "metadata": {},
   "outputs": [],
   "source": [
    "!pip -q install --user --no-warn-script-location ibm-watson==4.3.0"
   ]
  },
  {
   "cell_type": "markdown",
   "metadata": {},
   "source": [
    "Install the Beautiful Soup package:"
   ]
  },
  {
   "cell_type": "code",
   "execution_count": 2,
   "metadata": {},
   "outputs": [],
   "source": [
    "!pip -q install --user beautifulsoup4==4.8.2"
   ]
  },
  {
   "cell_type": "markdown",
   "metadata": {},
   "source": [
    "<a id=\"pixie\"></a>\n",
    "### 1.2 Install PixieDust Library"
   ]
  },
  {
   "cell_type": "code",
   "execution_count": 3,
   "metadata": {},
   "outputs": [],
   "source": [
    "!pip -q install --user --no-warn-script-location --upgrade pixiedust==1.1.14"
   ]
  },
  {
   "cell_type": "markdown",
   "metadata": {},
   "source": [
    "<a id=\"restart\"></a>\n",
    "### 1.3 Restart Kernel\n",
    "> Required after installs/upgrades only.\n",
    "\n",
    "If any libraries were just installed or upgraded, <span style=\"color: red\">restart the kernel</span> before continuing. After this has been done once, you might want to comment out the `!pip install` lines above for cleaner output and a faster \"Run All\"."
   ]
  },
  {
   "cell_type": "markdown",
   "metadata": {},
   "source": [
    "<a id=\"setup2\"></a>\n",
    "### 1.4 Import Packages and Libraries\n",
    "> Tip: To check if you have a package installed, open a new cell and write: `help(<package-name>)`."
   ]
  },
  {
   "cell_type": "code",
   "execution_count": 4,
   "metadata": {},
   "outputs": [],
   "source": [
    "import json\n",
    "import sys\n",
    "\n",
    "from ibm_watson import NaturalLanguageUnderstandingV1\n",
    "from ibm_watson import VisualRecognitionV3\n",
    "from ibm_cloud_sdk_core.authenticators import IAMAuthenticator\n",
    "from ibm_watson.natural_language_understanding_v1 import Features, EntitiesOptions, KeywordsOptions, EmotionOptions, SentimentOptions\n",
    "\n",
    "import operator\n",
    "from functools import reduce\n",
    "from io import StringIO\n",
    "import numpy as np\n",
    "from bs4 import BeautifulSoup as bs\n",
    "from operator import itemgetter\n",
    "from os.path import join, dirname\n",
    "import pandas as pd\n",
    "import numpy as np\n",
    "import requests\n",
    "\n",
    "# Suppress some pandas warnings\n",
    "pd.options.mode.chained_assignment = None  # default='warn'\n",
    "# Suppress SSL warnings\n",
    "requests.packages.urllib3.disable_warnings()"
   ]
  },
  {
   "cell_type": "markdown",
   "metadata": {},
   "source": [
    "<a id='setup3'></a>\n",
    "### 1.5 Add Service Credentials From IBM Cloud for Watson Services\n",
    "Edit the following cell to provide your credentials for Watson and Natural Language Understanding and Visual Recognition.\n",
    "\n",
    "You must create a Watson Natural Language Understanding service and, optionally, a Watson Visual Recognition service on [IBM Cloud](https://cloud.ibm.com/).\n",
    "\n",
    "1. Create a service for [Natural Language Understanding (NLU)](https://cloud.ibm.com/catalog/services/natural-language-understanding). \n",
    "1. Create a service for [Visual Recognition](https://cloud.ibm.com/catalog/services/visual-recognition).\n",
    "1. Insert API keys and URLs in the following cell.\n",
    "1. Run the cell.\n",
    "\n",
    "###  <span style=\"color: red\"> _User Input_</span> "
   ]
  },
  {
   "cell_type": "code",
   "execution_count": 5,
   "metadata": {},
   "outputs": [],
   "source": [
    "# @hidden_cell\n",
    "\n",
    "# Watson Natural Language Understanding (NLU)\n",
    "NATURAL_LANGUAGE_UNDERSTANDING_API_KEY = ''\n",
    "NATURAL_LANGUAGE_UNDERSTANDING_URL = ''\n",
    "\n",
    "# Watson Visual Recognition (optional)\n",
    "VISUAL_RECOGNITION_API_KEY = ''\n",
    "VISUAL_RECOGNITION_URL = ''\n"
   ]
  },
  {
   "cell_type": "code",
   "execution_count": 6,
   "metadata": {},
   "outputs": [],
   "source": [
    "# Create the Watson clients\n",
    "\n",
    "nlu_auth = IAMAuthenticator(NATURAL_LANGUAGE_UNDERSTANDING_API_KEY)\n",
    "nlu = NaturalLanguageUnderstandingV1(version='2020-03-09',\n",
    "                                     authenticator=nlu_auth)\n",
    "nlu.set_service_url(NATURAL_LANGUAGE_UNDERSTANDING_URL)\n",
    "\n",
    "visual_recognition = False  # Making visrec optional.\n",
    "if VISUAL_RECOGNITION_API_KEY and VISUAL_RECOGNITION_URL:\n",
    "    vr_auth = IAMAuthenticator(VISUAL_RECOGNITION_API_KEY)\n",
    "    visual_recognition = VisualRecognitionV3(version='2019-03-09',\n",
    "                                             authenticator=vr_auth)\n",
    "    visual_recognition.set_service_url(VISUAL_RECOGNITION_URL)\n",
    "else:\n",
    "    print(\"Skipping Visual Recognition\")"
   ]
  },
  {
   "cell_type": "markdown",
   "metadata": {},
   "source": [
    "\n",
    "## <a id='load'></a>2. Load Data\n",
    "The data you'll analyzing is a sample of a standard export of the Facebook Insights Post information from the <a href=\"https://www.facebook.com/ibmwatson/\" target=\"_blank\" rel=\"noopener noreferrer\">IBM Watson Facebook page</a>. Engagement metrics such as clicks, impressions, and so on, are altered and do not reflect actual post performance data. The data is on the Watson Studio community page.\n",
    "\n",
    "### 2.1 Load the data as a pandas DataFrame\n",
    "\n",
    "To get the data and load it into a pandas DataFrame:\n",
    "\n",
    "1. Load the file by clicking the **Find and Add Data** icon and then dragging and dropping the file onto the pane or browsing for the file. The data is stored in the object storage container that is associated with your project.\n",
    "1. Click in the next cell and then choose **Insert to code > pandas DataFrame** from below the file name and then run the cell. Change the inserted variable name to `df_data_1`\n",
    "\n",
    "###  <span style=\"color: red\"> _User Input_</span> "
   ]
  },
  {
   "cell_type": "code",
   "execution_count": 7,
   "metadata": {},
   "outputs": [
    {
     "data": {
      "text/html": [
       "<div>\n",
       "<style scoped>\n",
       "    .dataframe tbody tr th:only-of-type {\n",
       "        vertical-align: middle;\n",
       "    }\n",
       "\n",
       "    .dataframe tbody tr th {\n",
       "        vertical-align: top;\n",
       "    }\n",
       "\n",
       "    .dataframe thead th {\n",
       "        text-align: right;\n",
       "    }\n",
       "</style>\n",
       "<table border=\"1\" class=\"dataframe\">\n",
       "  <thead>\n",
       "    <tr style=\"text-align: right;\">\n",
       "      <th></th>\n",
       "      <th>Post ID</th>\n",
       "      <th>Permalink</th>\n",
       "      <th>Post Message</th>\n",
       "      <th>Type</th>\n",
       "      <th>Countries</th>\n",
       "      <th>Languages</th>\n",
       "      <th>Posted</th>\n",
       "      <th>Audience Targeting</th>\n",
       "      <th>Lifetime Post Total Reach</th>\n",
       "      <th>Lifetime Post organic reach</th>\n",
       "      <th>...</th>\n",
       "      <th>Lifetime Matched Audience Targeting Consumptions by Type - other clicks</th>\n",
       "      <th>Lifetime Matched Audience Targeting Consumptions by Type - link clicks</th>\n",
       "      <th>Lifetime Matched Audience Targeting Consumptions by Type - photo view</th>\n",
       "      <th>Lifetime Matched Audience Targeting Consumptions by Type - video play</th>\n",
       "      <th>Lifetime Negative Feedback from Users by Type - hide_all_clicks</th>\n",
       "      <th>Lifetime Negative Feedback from Users by Type - hide_clicks</th>\n",
       "      <th>Lifetime Negative Feedback from Users by Type - report_spam_clicks</th>\n",
       "      <th>Lifetime Negative Feedback by Type - hide_all_clicks</th>\n",
       "      <th>Lifetime Negative Feedback by Type - hide_clicks</th>\n",
       "      <th>Lifetime Negative Feedback by Type - report_spam_clicks</th>\n",
       "    </tr>\n",
       "  </thead>\n",
       "  <tbody>\n",
       "    <tr>\n",
       "      <th>0</th>\n",
       "      <td>NaN</td>\n",
       "      <td>NaN</td>\n",
       "      <td>NaN</td>\n",
       "      <td>NaN</td>\n",
       "      <td>NaN</td>\n",
       "      <td>NaN</td>\n",
       "      <td>NaN</td>\n",
       "      <td>NaN</td>\n",
       "      <td>Lifetime: The number of people who had your Pa...</td>\n",
       "      <td>Lifetime: The number of people who had your Pa...</td>\n",
       "      <td>...</td>\n",
       "      <td>Lifetime: The number of clicks anywhere in the...</td>\n",
       "      <td>NaN</td>\n",
       "      <td>NaN</td>\n",
       "      <td>NaN</td>\n",
       "      <td>Lifetime: The number of times people have give...</td>\n",
       "      <td>NaN</td>\n",
       "      <td>NaN</td>\n",
       "      <td>Lifetime: The number of people who have given ...</td>\n",
       "      <td>NaN</td>\n",
       "      <td>NaN</td>\n",
       "    </tr>\n",
       "    <tr>\n",
       "      <th>1</th>\n",
       "      <td>187446750783_10156099244995784</td>\n",
       "      <td>https://www.facebook.com/ibmwatson/posts/10156...</td>\n",
       "      <td>In 2018, IBM has made significant strides towa...</td>\n",
       "      <td>Link</td>\n",
       "      <td>NaN</td>\n",
       "      <td>NaN</td>\n",
       "      <td>12/26/18 9:22</td>\n",
       "      <td></td>\n",
       "      <td>13560</td>\n",
       "      <td>13560</td>\n",
       "      <td>...</td>\n",
       "      <td>53</td>\n",
       "      <td>84.0</td>\n",
       "      <td>NaN</td>\n",
       "      <td>NaN</td>\n",
       "      <td>3</td>\n",
       "      <td>4.0</td>\n",
       "      <td>NaN</td>\n",
       "      <td>3</td>\n",
       "      <td>4.0</td>\n",
       "      <td>NaN</td>\n",
       "    </tr>\n",
       "    <tr>\n",
       "      <th>2</th>\n",
       "      <td>187446750783_10156082794855784</td>\n",
       "      <td>https://www.facebook.com/ibmwatson/posts/10156...</td>\n",
       "      <td>Available now on IBM Cloud and Cloud Private, ...</td>\n",
       "      <td>Photo</td>\n",
       "      <td>NaN</td>\n",
       "      <td>NaN</td>\n",
       "      <td>12/18/18 7:15</td>\n",
       "      <td></td>\n",
       "      <td>7837</td>\n",
       "      <td>7837</td>\n",
       "      <td>...</td>\n",
       "      <td>25</td>\n",
       "      <td>17.0</td>\n",
       "      <td>47.0</td>\n",
       "      <td>NaN</td>\n",
       "      <td>4</td>\n",
       "      <td>NaN</td>\n",
       "      <td>NaN</td>\n",
       "      <td>4</td>\n",
       "      <td>NaN</td>\n",
       "      <td>NaN</td>\n",
       "    </tr>\n",
       "    <tr>\n",
       "      <th>3</th>\n",
       "      <td>187446750783_10156079731075784</td>\n",
       "      <td>https://www.facebook.com/ibmwatson/posts/10156...</td>\n",
       "      <td>A year in review in AI: https://ibm.co/2QAlo29</td>\n",
       "      <td>Link</td>\n",
       "      <td>NaN</td>\n",
       "      <td>NaN</td>\n",
       "      <td>12/16/18 14:54</td>\n",
       "      <td></td>\n",
       "      <td>10727</td>\n",
       "      <td>10727</td>\n",
       "      <td>...</td>\n",
       "      <td>39</td>\n",
       "      <td>129.0</td>\n",
       "      <td>NaN</td>\n",
       "      <td>NaN</td>\n",
       "      <td>3</td>\n",
       "      <td>4.0</td>\n",
       "      <td>NaN</td>\n",
       "      <td>3</td>\n",
       "      <td>4.0</td>\n",
       "      <td>NaN</td>\n",
       "    </tr>\n",
       "    <tr>\n",
       "      <th>4</th>\n",
       "      <td>187446750783_10156067568775784</td>\n",
       "      <td>https://www.facebook.com/ibmwatson/posts/10156...</td>\n",
       "      <td>IBM Watson</td>\n",
       "      <td>SharedVideo</td>\n",
       "      <td>NaN</td>\n",
       "      <td>NaN</td>\n",
       "      <td>12/10/18 14:06</td>\n",
       "      <td></td>\n",
       "      <td>7937</td>\n",
       "      <td>7937</td>\n",
       "      <td>...</td>\n",
       "      <td>191</td>\n",
       "      <td>80.0</td>\n",
       "      <td>NaN</td>\n",
       "      <td>NaN</td>\n",
       "      <td>1</td>\n",
       "      <td>4.0</td>\n",
       "      <td>NaN</td>\n",
       "      <td>1</td>\n",
       "      <td>4.0</td>\n",
       "      <td>NaN</td>\n",
       "    </tr>\n",
       "  </tbody>\n",
       "</table>\n",
       "<p>5 rows × 54 columns</p>\n",
       "</div>"
      ],
      "text/plain": [
       "                          Post ID  \\\n",
       "0                             NaN   \n",
       "1  187446750783_10156099244995784   \n",
       "2  187446750783_10156082794855784   \n",
       "3  187446750783_10156079731075784   \n",
       "4  187446750783_10156067568775784   \n",
       "\n",
       "                                           Permalink  \\\n",
       "0                                                NaN   \n",
       "1  https://www.facebook.com/ibmwatson/posts/10156...   \n",
       "2  https://www.facebook.com/ibmwatson/posts/10156...   \n",
       "3  https://www.facebook.com/ibmwatson/posts/10156...   \n",
       "4  https://www.facebook.com/ibmwatson/posts/10156...   \n",
       "\n",
       "                                        Post Message         Type  Countries  \\\n",
       "0                                                NaN          NaN        NaN   \n",
       "1  In 2018, IBM has made significant strides towa...         Link        NaN   \n",
       "2  Available now on IBM Cloud and Cloud Private, ...        Photo        NaN   \n",
       "3     A year in review in AI: https://ibm.co/2QAlo29         Link        NaN   \n",
       "4                                         IBM Watson  SharedVideo        NaN   \n",
       "\n",
       "   Languages          Posted Audience Targeting  \\\n",
       "0        NaN             NaN                NaN   \n",
       "1        NaN   12/26/18 9:22                      \n",
       "2        NaN   12/18/18 7:15                      \n",
       "3        NaN  12/16/18 14:54                      \n",
       "4        NaN  12/10/18 14:06                      \n",
       "\n",
       "                           Lifetime Post Total Reach  \\\n",
       "0  Lifetime: The number of people who had your Pa...   \n",
       "1                                              13560   \n",
       "2                                               7837   \n",
       "3                                              10727   \n",
       "4                                               7937   \n",
       "\n",
       "                         Lifetime Post organic reach  ...  \\\n",
       "0  Lifetime: The number of people who had your Pa...  ...   \n",
       "1                                              13560  ...   \n",
       "2                                               7837  ...   \n",
       "3                                              10727  ...   \n",
       "4                                               7937  ...   \n",
       "\n",
       "  Lifetime Matched Audience Targeting Consumptions by Type - other clicks  \\\n",
       "0  Lifetime: The number of clicks anywhere in the...                        \n",
       "1                                                 53                        \n",
       "2                                                 25                        \n",
       "3                                                 39                        \n",
       "4                                                191                        \n",
       "\n",
       "  Lifetime Matched Audience Targeting Consumptions by Type - link clicks  \\\n",
       "0                                                NaN                       \n",
       "1                                               84.0                       \n",
       "2                                               17.0                       \n",
       "3                                              129.0                       \n",
       "4                                               80.0                       \n",
       "\n",
       "  Lifetime Matched Audience Targeting Consumptions by Type - photo view  \\\n",
       "0                                                NaN                      \n",
       "1                                                NaN                      \n",
       "2                                               47.0                      \n",
       "3                                                NaN                      \n",
       "4                                                NaN                      \n",
       "\n",
       "  Lifetime Matched Audience Targeting Consumptions by Type - video play  \\\n",
       "0                                                NaN                      \n",
       "1                                                NaN                      \n",
       "2                                                NaN                      \n",
       "3                                                NaN                      \n",
       "4                                                NaN                      \n",
       "\n",
       "  Lifetime Negative Feedback from Users by Type - hide_all_clicks  \\\n",
       "0  Lifetime: The number of times people have give...                \n",
       "1                                                  3                \n",
       "2                                                  4                \n",
       "3                                                  3                \n",
       "4                                                  1                \n",
       "\n",
       "  Lifetime Negative Feedback from Users by Type - hide_clicks  \\\n",
       "0                                                NaN            \n",
       "1                                                4.0            \n",
       "2                                                NaN            \n",
       "3                                                4.0            \n",
       "4                                                4.0            \n",
       "\n",
       "  Lifetime Negative Feedback from Users by Type - report_spam_clicks  \\\n",
       "0                                                NaN                   \n",
       "1                                                NaN                   \n",
       "2                                                NaN                   \n",
       "3                                                NaN                   \n",
       "4                                                NaN                   \n",
       "\n",
       "  Lifetime Negative Feedback by Type - hide_all_clicks  \\\n",
       "0  Lifetime: The number of people who have given ...     \n",
       "1                                                  3     \n",
       "2                                                  4     \n",
       "3                                                  3     \n",
       "4                                                  1     \n",
       "\n",
       "  Lifetime Negative Feedback by Type - hide_clicks  \\\n",
       "0                                              NaN   \n",
       "1                                              4.0   \n",
       "2                                              NaN   \n",
       "3                                              4.0   \n",
       "4                                              4.0   \n",
       "\n",
       "  Lifetime Negative Feedback by Type - report_spam_clicks  \n",
       "0                                                NaN       \n",
       "1                                                NaN       \n",
       "2                                                NaN       \n",
       "3                                                NaN       \n",
       "4                                                NaN       \n",
       "\n",
       "[5 rows x 54 columns]"
      ]
     },
     "execution_count": 7,
     "metadata": {},
     "output_type": "execute_result"
    }
   ],
   "source": [
    "# **Insert to code > pandas DataFrame**\n"
   ]
  },
  {
   "cell_type": "markdown",
   "metadata": {},
   "source": [
    "### <a id='load2'></a>2.2 Set variables\n",
    "You need to set these variables:\n",
    " - The name of the DataFrame\n",
    " - Your credentials for the source file\n",
    " - A file name for the enriched DataFrame\n",
    " \n",
    "Define a variable, `df`, for the DataFrame that you just created. If necessary, change the original DataFrame name to match the one you created."
   ]
  },
  {
   "cell_type": "code",
   "execution_count": 8,
   "metadata": {},
   "outputs": [],
   "source": [
    "# Make sure this uses the variable above. The number will vary in the inserted code.\n",
    "try:\n",
    "    df = df_data_1\n",
    "except NameError as e:\n",
    "    print('Error: Setup is incorrect or incomplete.\\n')\n",
    "    print('Follow the instructions to insert the pandas DataFrame above, and edit to')\n",
    "    print('make the generated df_data_# variable match the variable used here.')\n",
    "    raise"
   ]
  },
  {
   "cell_type": "markdown",
   "metadata": {},
   "source": [
    "**Select the cell below and place your cursor on an empty line below the comment.** \n",
    "Put in the credentials for the file you want to enrich by clicking on the 10/01 (upper right), then click `Insert to code` under the file you want to enrich, and choose `Insert Credentials`.\n",
    "\n",
    "**Change the inserted variable name to `credentials_1`**\n",
    "\n",
    "###  <span style=\"color: red\"> _User Input_</span> "
   ]
  },
  {
   "cell_type": "code",
   "execution_count": 9,
   "metadata": {},
   "outputs": [],
   "source": [
    "# insert credentials for file - Change to credentials_1\n",
    "# @hidden_cell\n",
    "# The following code contains the credentials for a file in your IBM Cloud Object Storage.\n",
    "# You might want to remove those credentials before you share your notebook.\n",
    "# @hidden_cell\n",
    "# The following code contains the credentials for a file in your IBM Cloud Object Storage.\n",
    "# You might want to remove those credentials before you share your notebook.\n"
   ]
  },
  {
   "cell_type": "code",
   "execution_count": 10,
   "metadata": {},
   "outputs": [],
   "source": [
    "# Make sure this uses the variable above. The number will vary in the inserted code.\n",
    "try:\n",
    "    credentials = credentials_1\n",
    "except NameError as e:\n",
    "    print('Error: Setup is incorrect or incomplete.\\n')\n",
    "    print('Follow the instructions to insert the file credentials above, and edit to')\n",
    "    print('make the generated credentials_# variable match the variable used here.')\n",
    "    raise"
   ]
  },
  {
   "cell_type": "markdown",
   "metadata": {},
   "source": [
    "<a id='prepare'></a>\n",
    "## 3. Prepare Data\n",
    "You'll prepare the data by cleansing it and extracting the URLs. Many of the posts contain both text and a URL. The first task is to separate URLs from the text so that they can be analyzed separately. Then you need to get thumbnails for the photos and links, and convert any shortened URLs to full URLs."
   ]
  },
  {
   "cell_type": "markdown",
   "metadata": {},
   "source": [
    "<a id='prepare1'></a>\n",
    "###  3.1 Data Cleansing with Python\n",
    "Renaming columns, removing noticeable noise in the data, pulling out URLs and appending to a new column to run through NLU.\n",
    "\n",
    "To cleanse the data, you'll rename a column and add a column with the URLs that were embedded in the post. \n",
    "\n",
    "Change the name of the `Post Message` column to `Text`:"
   ]
  },
  {
   "cell_type": "code",
   "execution_count": 11,
   "metadata": {},
   "outputs": [],
   "source": [
    "df.rename(columns={'Post Message': 'Text'}, inplace=True)"
   ]
  },
  {
   "cell_type": "code",
   "execution_count": 12,
   "metadata": {},
   "outputs": [],
   "source": [
    "# Drop the rows that have no value for the text.\n",
    "df.dropna(subset=['Text'], inplace=True)"
   ]
  },
  {
   "cell_type": "markdown",
   "metadata": {},
   "source": [
    "Use the `str.partition` function to remove strings that contain \"http\" and \"www\" from the `Text` column and save them in new DataFrames, then add all web addresses to a new `Link` column in the original DataFrame. This process captures all web addresses: https, http, and www."
   ]
  },
  {
   "cell_type": "code",
   "execution_count": 13,
   "metadata": {},
   "outputs": [],
   "source": [
    "df_http = df[\"Text\"].str.partition(\"http\")\n",
    "df_www = df[\"Text\"].str.partition(\"www\")\n",
    "\n",
    "# Combine delimiters with actual links\n",
    "df_http[\"Link\"] = df_http[1].map(str) + df_http[2]\n",
    "df_www[\"Link1\"] = df_www[1].map(str) + df_www[2]\n",
    "\n",
    "# Include only Link columns\n",
    "df_http.drop(df_http.columns[0:3], axis=1, inplace = True)\n",
    "df_www.drop(df_www.columns[0:3], axis=1, inplace = True)\n",
    "\n",
    "# Merge http and www DataFrames\n",
    "dfmerge = pd.concat([df_http, df_www], axis=1)\n",
    "\n",
    "# The following steps will allow you to merge data columns from the left to the right\n",
    "dfmerge = dfmerge.apply(lambda x: x.str.strip()).replace('', np.nan)\n",
    "\n",
    "# Use fillna to fill any blanks with the Link1 column\n",
    "dfmerge[\"Link\"].fillna(dfmerge[\"Link1\"], inplace = True)\n",
    "\n",
    "# Delete Link1 (www column)\n",
    "dfmerge.drop(\"Link1\", axis=1, inplace = True)\n",
    "\n",
    "# Combine Link data frame\n",
    "df = pd.concat([dfmerge,df], axis = 1)\n",
    "\n",
    "# Make sure text column is a string\n",
    "df[\"Text\"] = df[\"Text\"].astype(\"str\")\n",
    "\n",
    "# Strip links from Text column\n",
    "df['Text'] = df['Text'].apply(lambda x: x.split('http')[0])\n",
    "df['Text'] = df['Text'].apply(lambda x: x.split('www')[0])"
   ]
  },
  {
   "cell_type": "markdown",
   "metadata": {},
   "source": [
    "### <a id='prepare2'></a> 3.2 Extract thumbnails and extended links\n",
    "\n",
    "A standard Facebook export does not provide the thumbnail that usually summarizes the link or photo associated with each post. Use the Beautiful Soup library to go into the HTML of the post and extract the thumbnail text:"
   ]
  },
  {
   "cell_type": "code",
   "execution_count": 14,
   "metadata": {},
   "outputs": [],
   "source": [
    "# Change links from objects to strings\n",
    "for link in df.Link:\n",
    "    df.Link.to_string()\n",
    "\n",
    "piclinks = []\n",
    "description = []\n",
    "for url in df[\"Link\"]:\n",
    "    if pd.isnull(url):\n",
    "        piclinks.append(\"\")\n",
    "        description.append(\"\")\n",
    "        continue\n",
    "        \n",
    "    try:\n",
    "        # Skip certificate check with verify=False.\n",
    "        # Don't do this if your urls are not secure.\n",
    "        page3 = requests.get(url, verify=False)\n",
    "        if page3.status_code != requests.codes.ok:\n",
    "            piclinks.append(\"\")\n",
    "            description.append(\"\")\n",
    "            continue\n",
    "    except Exception as e:\n",
    "        print(\"Skipping url %s: %s\" % (url, e))\n",
    "        piclinks.append(\"\")\n",
    "        description.append(\"\")\n",
    "        continue\n",
    "        \n",
    "    soup3 = bs(page3.text,\"lxml\")\n",
    "    \n",
    "    pic = soup3.find('meta', property =\"og:image\")\n",
    "    if pic:\n",
    "        piclinks.append(pic[\"content\"])\n",
    "    else: \n",
    "        piclinks.append(\"\")\n",
    "    \n",
    "    content = None\n",
    "    desc = soup3.find(attrs={'name':'Description'})\n",
    "    if desc:\n",
    "        content = desc['content']\n",
    "    if not content or content == 'null':\n",
    "        # Try again with lowercase description\n",
    "        desc = soup3.find(attrs={'name':'description'})\n",
    "        if desc:\n",
    "            content = desc['content']\n",
    "    if not content or content == 'null':\n",
    "        description.append(\"\")\n",
    "    else:\n",
    "        description.append(content)\n",
    "            \n",
    "# Save thumbnail descriptions to df in a column titled 'Thumbnails'\n",
    "df[\"Thumbnails\"] = description\n",
    "# Save image links to df in a column titled 'Image'\n",
    "df[\"Image\"] = piclinks"
   ]
  },
  {
   "cell_type": "markdown",
   "metadata": {},
   "source": [
    "Convert shortened links to full links.\n",
    "Use requests module to pull extended links. This is only necessary if the Facebook page uses different links than the articles themselves. For this example we are using IBM Watson's Facebook export which uses an IBM link. \n"
   ]
  },
  {
   "cell_type": "code",
   "execution_count": 15,
   "metadata": {},
   "outputs": [],
   "source": [
    "shortlink = df[\"Link\"]\n",
    "extendedlink = []\n",
    "\n",
    "for link in shortlink:\n",
    "    if isinstance(link, float):  # Float is not a URL, probably NaN.\n",
    "        extendedlink.append('')\n",
    "    else:\n",
    "        try:\n",
    "            extended_link = requests.Session().head(link, allow_redirects=True).url\n",
    "            extendedlink.append(extended_link)\n",
    "        except Exception as e:\n",
    "            print(\"Skipping link %s: %s\" % (link, e))\n",
    "            extendedlink.append('')\n",
    "\n",
    "df[\"Extended Links\"] = extendedlink"
   ]
  },
  {
   "cell_type": "markdown",
   "metadata": {},
   "source": [
    "<a id='enrich'></a> \n",
    "## 4. Enrichment Time!\n",
    "<a id='nlupost'></a>\n",
    "###  4.1 NLU for the Post Text\n",
    "The following script is an example of how to use Natural Language Understanding to iterate through each post and extract enrichment features for future analysis.\n",
    "\n",
    "For this example, we are looking at the `Text` column in our DataFrame, which contains the text of each post. NLU can also iterate through a column of URLs, or other freeform text. There's a list within a list for the Keywords and Entities features to allow gathering multiple entities and keywords from each piece of text.\n",
    "\n",
    "Each extracted feature is appended to the DataFrame in a new column that's defined at the end of the script. If you want to run this same script for the other columns, set the loop iterable to the column name, if you are using URLs, change the `text=response` parameter to `url=response`, and update the new column names as necessary. "
   ]
  },
  {
   "cell_type": "code",
   "execution_count": 16,
   "metadata": {},
   "outputs": [],
   "source": [
    "# Define the list of features to get enrichment values for entities, keywords, emotion and sentiment\n",
    "features = Features(entities=EntitiesOptions(), keywords=KeywordsOptions(), emotion=EmotionOptions(), sentiment=SentimentOptions())\n",
    "\n",
    "overallSentimentScore = []\n",
    "overallSentimentType = []\n",
    "highestEmotion = []\n",
    "highestEmotionScore = []\n",
    "kywords = []\n",
    "entities = []\n",
    "\n",
    "# Go through every response and enrich the text using NLU.\n",
    "for text in df['Text']:\n",
    "  if not text:\n",
    "    # print(\"Text is empty\")\n",
    "    overallSentimentScore.append('0')\n",
    "    overallSentimentType.append('0')\n",
    "    highestEmotion.append(\"\")\n",
    "    highestEmotionScore.append(\"\")\n",
    "    kywords.append(\"\")\n",
    "    entities.append(\"\")\n",
    "    continue\n",
    "  else:\n",
    "    # We are assuming English to avoid errors when the language cannot be detected.\n",
    "    enriched_json = nlu.analyze(text=text, features=features, language='en').get_result()\n",
    "\n",
    "    # Get the SENTIMENT score and type\n",
    "    if 'sentiment' in enriched_json:\n",
    "        if('score' in enriched_json['sentiment'][\"document\"]):\n",
    "            overallSentimentScore.append(enriched_json[\"sentiment\"][\"document\"][\"score\"])\n",
    "        else:\n",
    "            overallSentimentScore.append('0')\n",
    "\n",
    "        if('label' in enriched_json['sentiment'][\"document\"]):\n",
    "            overallSentimentType.append(enriched_json[\"sentiment\"][\"document\"][\"label\"])\n",
    "        else:\n",
    "            overallSentimentType.append('0')\n",
    "    else:\n",
    "        overallSentimentScore.append('0')\n",
    "        overallSentimentType.append('0')\n",
    "\n",
    "    # Read the EMOTIONS into a dict and get the key (emotion) with maximum value\n",
    "    if 'emotion' in enriched_json:\n",
    "        me = max(enriched_json[\"emotion\"][\"document\"][\"emotion\"].items(), key=operator.itemgetter(1))[0]\n",
    "        highestEmotion.append(me)\n",
    "        highestEmotionScore.append(enriched_json[\"emotion\"][\"document\"][\"emotion\"][me])\n",
    "    else:\n",
    "        highestEmotion.append(\"\")\n",
    "        highestEmotionScore.append(\"\")\n",
    "\n",
    "    # Iterate and get KEYWORDS with a confidence of over 70%\n",
    "    if 'keywords' in enriched_json:\n",
    "        tmpkw = []\n",
    "        for kw in enriched_json['keywords']:\n",
    "            if(float(kw[\"relevance\"]) >= 0.7):\n",
    "                tmpkw.append(kw[\"text\"])\n",
    "        # Convert multiple keywords in a list to a string and append the string\n",
    "        kywords.append(', '.join(tmpkw))\n",
    "    else:\n",
    "        kywords.append(\"\")\n",
    "            \n",
    "    # Iterate and get Entities with a confidence of over 30%\n",
    "    if 'entities' in enriched_json:\n",
    "        tmpent = []\n",
    "        for ent in enriched_json['entities']: \n",
    "            if(float(ent[\"relevance\"]) >= 0.3):\n",
    "                tmpent.append(ent[\"type\"])\n",
    " \n",
    "        # Convert multiple entities in a list to a string and append the string\n",
    "        entities.append(', '.join(tmpent))\n",
    "    else:\n",
    "        entities.append(\"\")\n",
    "    \n",
    "# Create columns from the list and append to the DataFrame\n",
    "if highestEmotion:\n",
    "    df['TextHighestEmotion'] = highestEmotion\n",
    "if highestEmotionScore:\n",
    "    df['TextHighestEmotionScore'] = highestEmotionScore\n",
    "\n",
    "if overallSentimentType:\n",
    "    df['TextOverallSentimentType'] = overallSentimentType\n",
    "if overallSentimentScore:\n",
    "    df['TextOverallSentimentScore'] = overallSentimentScore\n",
    "\n",
    "df['TextKeywords'] = kywords\n",
    "df['TextEntities'] = entities"
   ]
  },
  {
   "cell_type": "markdown",
   "metadata": {},
   "source": [
    "After we extract all of the Keywords and Entities from each Post, we have columns with multiple Keywords and Entities separated by commas. For our Analysis in Part II, we also wanted the top Keyword and Entity for each Post. Because of this, we added two new columns to capture the `MaxTextKeyword` and `MaxTextEntity`."
   ]
  },
  {
   "cell_type": "code",
   "execution_count": 17,
   "metadata": {},
   "outputs": [],
   "source": [
    "# Choose first of Keywords and Entities\n",
    "df[\"MaxTextKeywords\"] = df[\"TextKeywords\"].apply(lambda x: x.split(',')[0])\n",
    "df[\"MaxTextEntity\"] = df[\"TextEntities\"].apply(lambda x: x.split(',')[0])"
   ]
  },
  {
   "cell_type": "markdown",
   "metadata": {},
   "source": [
    "<a id='nlutn'></a>\n",
    "###  4.2 NLU for Thumbnail Text\n",
    "\n",
    "We will repeat the same process for Thumbnails and Article Text."
   ]
  },
  {
   "cell_type": "code",
   "execution_count": 18,
   "metadata": {},
   "outputs": [],
   "source": [
    "# Define the list of features to get enrichment values for entities, keywords, emotion and sentiment\n",
    "features = Features(entities=EntitiesOptions(), keywords=KeywordsOptions(), emotion=EmotionOptions(), sentiment=SentimentOptions())\n",
    "\n",
    "overallSentimentScore = []\n",
    "overallSentimentType = []\n",
    "highestEmotion = []\n",
    "highestEmotionScore = []\n",
    "kywords = []\n",
    "entities = []\n",
    "\n",
    "# Go through every response and enrich the text using NLU.\n",
    "for text in df['Thumbnails']:\n",
    "    if not text:\n",
    "        overallSentimentScore.append(' ')\n",
    "        overallSentimentType.append(' ')\n",
    "        highestEmotion.append(' ')\n",
    "        highestEmotionScore.append(' ')\n",
    "        kywords.append(' ')\n",
    "        entities.append(' ')\n",
    "        continue\n",
    "\n",
    "    enriched_json = nlu.analyze(text=text, features=features, language='en').get_result()\n",
    "\n",
    "    # Get the SENTIMENT score and type\n",
    "    if 'sentiment' in enriched_json:\n",
    "        if('score' in enriched_json['sentiment'][\"document\"]):\n",
    "            overallSentimentScore.append(enriched_json[\"sentiment\"][\"document\"][\"score\"])\n",
    "        else:\n",
    "            overallSentimentScore.append(\"\")\n",
    "\n",
    "        if('label' in enriched_json['sentiment'][\"document\"]):\n",
    "            overallSentimentType.append(enriched_json[\"sentiment\"][\"document\"][\"label\"])\n",
    "        else:\n",
    "            overallSentimentType.append(\"\")\n",
    "\n",
    "    # Read the EMOTIONS into a dict and get the key (emotion) with maximum value\n",
    "    if 'emotion' in enriched_json:\n",
    "        me = max(enriched_json[\"emotion\"][\"document\"][\"emotion\"].items(), key=operator.itemgetter(1))[0]\n",
    "        highestEmotion.append(me)\n",
    "        highestEmotionScore.append(enriched_json[\"emotion\"][\"document\"][\"emotion\"][me])\n",
    "\n",
    "    else:\n",
    "        highestEmotion.append(\"\")\n",
    "        highestEmotionScore.append(\"\")\n",
    "\n",
    "    # Iterate and get KEYWORDS with a confidence of over 70%\n",
    "    if 'keywords' in enriched_json:\n",
    "        tmpkw = []\n",
    "        for kw in enriched_json['keywords']:\n",
    "            if(float(kw[\"relevance\"]) >= 0.7):\n",
    "                tmpkw.append(kw[\"text\"])\n",
    "        # Convert multiple keywords in a list to a string and append the string\n",
    "        kywords.append(', '.join(tmpkw))\n",
    "     \n",
    "    # Iterate and get Entities with a confidence of over 30%\n",
    "    if 'entities' in enriched_json:\n",
    "        tmpent = []\n",
    "        for ent in enriched_json['entities']:              \n",
    "            if(float(ent[\"relevance\"]) >= 0.3):\n",
    "                tmpent.append(ent[\"type\"])\n",
    "        # Convert multiple entities in a list to a string and append the string\n",
    "        entities.append(', '.join(tmpent))\n",
    "    else:\n",
    "        entities.append(\"\")     \n",
    "  \n",
    "# Create columns from the list and append to the DataFrame\n",
    "if highestEmotion:\n",
    "    df['ThumbnailHighestEmotion'] = highestEmotion\n",
    "if highestEmotionScore:\n",
    "    df['ThumbnailHighestEmotionScore'] = highestEmotionScore\n",
    "\n",
    "if overallSentimentType:\n",
    "    df['ThumbnailOverallSentimentType'] = overallSentimentType\n",
    "if overallSentimentScore:\n",
    "    df['ThumbnailOverallSentimentScore'] = overallSentimentScore\n",
    "\n",
    "df['ThumbnailKeywords'] = kywords\n",
    "df['ThumbnailEntities'] = entities"
   ]
  },
  {
   "cell_type": "markdown",
   "metadata": {},
   "source": [
    " Add two new columns to capture the `MaxThumbnailKeyword` and `MaxThumbnailEntity`:"
   ]
  },
  {
   "cell_type": "code",
   "execution_count": 19,
   "metadata": {},
   "outputs": [],
   "source": [
    "# Set 'Max' to first one from keywords and entities lists\n",
    "df[\"MaxThumbnailKeywords\"] = df[\"ThumbnailKeywords\"].apply(lambda x: x.split(',')[0])\n",
    "df[\"MaxThumbnailEntity\"] = df[\"ThumbnailEntities\"].apply(lambda x: x.split(',')[0])"
   ]
  },
  {
   "cell_type": "markdown",
   "metadata": {},
   "source": [
    "<a id='nlulink'></a> \n",
    "### 4.3 NLU for Article Text"
   ]
  },
  {
   "cell_type": "code",
   "execution_count": 20,
   "metadata": {},
   "outputs": [],
   "source": [
    "# Define the list of features to get enrichment values for entities, keywords, emotion and sentiment\n",
    "features = Features(entities=EntitiesOptions(), keywords=KeywordsOptions(), emotion=EmotionOptions(), sentiment=SentimentOptions())\n",
    "\n",
    "overallSentimentScore = []\n",
    "overallSentimentType = []\n",
    "highestEmotion = []\n",
    "highestEmotionScore = []\n",
    "kywords = []\n",
    "entities = []\n",
    "article_text = []\n",
    "        \n",
    "# Go through every response and enrich the article using NLU\n",
    "for url in df['Extended Links']:\n",
    "    if not url:\n",
    "        overallSentimentScore.append(' ')\n",
    "        overallSentimentType.append(' ')\n",
    "        highestEmotion.append(' ')\n",
    "        highestEmotionScore.append(' ')\n",
    "        kywords.append(' ')\n",
    "        entities.append(' ')\n",
    "        article_text.append(' ')\n",
    "        continue\n",
    "\n",
    "    # Run links through NLU to get entities, keywords, emotion and sentiment.\n",
    "    # Use return_analyzed_text to extract text for Tone Analyzer to use.\n",
    "    \n",
    "    try:\n",
    "        enriched_json = nlu.analyze(url=url,\n",
    "                                features=features,\n",
    "                                language='en',\n",
    "                                return_analyzed_text=True).get_result()\n",
    "        article_text.append(enriched_json[\"analyzed_text\"])\n",
    "    except Exception as e:\n",
    "        print(\"Skipping url %s: %s\" % (url, e))\n",
    "        overallSentimentScore.append(' ')\n",
    "        overallSentimentType.append(' ')\n",
    "        highestEmotion.append(' ')\n",
    "        highestEmotionScore.append(' ')\n",
    "        kywords.append(' ')\n",
    "        entities.append(' ')\n",
    "        article_text.append(' ')\n",
    "        continue\n",
    "      \n",
    "    \n",
    "    \n",
    "\n",
    "    # Get the SENTIMENT score and type\n",
    "    if 'sentiment' in enriched_json:\n",
    "        if('score' in enriched_json['sentiment'][\"document\"]):\n",
    "            overallSentimentScore.append(enriched_json[\"sentiment\"][\"document\"][\"score\"])\n",
    "        else:\n",
    "            overallSentimentScore.append('None')\n",
    "\n",
    "        if('label' in enriched_json['sentiment'][\"document\"]):\n",
    "            overallSentimentType.append(enriched_json[\"sentiment\"][\"document\"][\"label\"])\n",
    "        else:\n",
    "            overallSentimentType.append('')\n",
    "\n",
    "    # Read the EMOTIONS into a dict and get the key (emotion) with maximum value\n",
    "    if 'emotion' in enriched_json:\n",
    "        me = max(enriched_json[\"emotion\"][\"document\"][\"emotion\"].items(), key=operator.itemgetter(1))[0]\n",
    "        highestEmotion.append(me)\n",
    "        highestEmotionScore.append(enriched_json[\"emotion\"][\"document\"][\"emotion\"][me])\n",
    "\n",
    "    else:\n",
    "        highestEmotion.append('')\n",
    "        highestEmotionScore.append('')\n",
    "\n",
    "    # Iterate and get KEYWORDS with a confidence of over 70%\n",
    "    if 'keywords' in enriched_json:\n",
    "        tmpkw = []\n",
    "        for kw in enriched_json['keywords']:\n",
    "            if(float(kw[\"relevance\"]) >= 0.7):\n",
    "                tmpkw.append(kw[\"text\"])\n",
    "        # Convert multiple keywords in a list to a string and append the string\n",
    "        kywords.append(', '.join(tmpkw))\n",
    "    else: \n",
    "        kywords.append(\"\")\n",
    "            \n",
    "    # Iterate and get Entities with a confidence of over 30%\n",
    "    if 'entities' in enriched_json:\n",
    "        tmpent = []\n",
    "        for ent in enriched_json['entities']:               \n",
    "            if(float(ent[\"relevance\"]) >= 0.3):\n",
    "                tmpent.append(ent[\"type\"])\n",
    "        # Convert multiple entities in a list to a string and append the string\n",
    "        entities.append(', '.join(tmpent))\n",
    "    else:\n",
    "        entities.append(\"\")\n",
    "    \n",
    "# Create columns from the list and append to the DataFrame\n",
    "if highestEmotion:\n",
    "    df['LinkHighestEmotion'] = highestEmotion\n",
    "if highestEmotionScore:\n",
    "    df['LinkHighestEmotionScore'] = highestEmotionScore\n",
    "\n",
    "if overallSentimentType:\n",
    "    df['LinkOverallSentimentType'] = overallSentimentType\n",
    "if overallSentimentScore:\n",
    "    df['LinkOverallSentimentScore'] = overallSentimentScore\n",
    "\n",
    "df['LinkKeywords'] = kywords\n",
    "df['LinkEntities'] = entities\n",
    "df['Article Text'] = article_text"
   ]
  },
  {
   "cell_type": "markdown",
   "metadata": {},
   "source": [
    "Add two new columns to capture the `MaxLinkKeyword` and `MaxLinkEntity`:"
   ]
  },
  {
   "cell_type": "code",
   "execution_count": 21,
   "metadata": {},
   "outputs": [],
   "source": [
    "# Set 'Max' to first one from keywords and entities lists\n",
    "df[\"MaxLinkKeywords\"] = df[\"LinkKeywords\"].apply(lambda x: x.split(',')[0])\n",
    "df[\"MaxLinkEntity\"] = df[\"LinkEntities\"].apply(lambda x: x.split(',')[0])"
   ]
  },
  {
   "cell_type": "markdown",
   "metadata": {},
   "source": [
    "<a id='visual'></a> \n",
    "### 4.4 Visual Recognition\n",
    "Below uses Visual Recognition to classify the thumbnail images.\n",
    "\n",
    "> NOTE: When using the **free tier** of Visual Recognition, _classify_ has a limit of 250 images per day."
   ]
  },
  {
   "cell_type": "code",
   "execution_count": 22,
   "metadata": {
    "scrolled": true
   },
   "outputs": [
    {
     "name": "stderr",
     "output_type": "stream",
     "text": [
      "ERROR:root:Unknown error\n",
      "Traceback (most recent call last):\n",
      "  File \"/home/dsxuser/.local/lib/python3.6/site-packages/ibm_cloud_sdk_core/base_service.py\", line 229, in send\n",
      "    response.status_code, error_message, http_response=response)\n",
      "ibm_cloud_sdk_core.api_exception.ApiException: Error: Unknown error, Code: 400 , X-global-transaction-id: 63600348bed0e6dac2fa7a5190af9474\n"
     ]
    },
    {
     "name": "stdout",
     "output_type": "stream",
     "text": [
      "Skipping url https://1.cms.s81c.com/sites/default/files/2019-11-19/001.jpg: Error: Unknown error, Code: 400 , X-global-transaction-id: 63600348bed0e6dac2fa7a5190af9474\n"
     ]
    },
    {
     "name": "stderr",
     "output_type": "stream",
     "text": [
      "ERROR:root:Unknown error\n",
      "Traceback (most recent call last):\n",
      "  File \"/home/dsxuser/.local/lib/python3.6/site-packages/ibm_cloud_sdk_core/base_service.py\", line 229, in send\n",
      "    response.status_code, error_message, http_response=response)\n",
      "ibm_cloud_sdk_core.api_exception.ApiException: Error: Unknown error, Code: 400 , X-global-transaction-id: e9b329158ba052d19fa3bfd7059321ca\n"
     ]
    },
    {
     "name": "stdout",
     "output_type": "stream",
     "text": [
      "Skipping url https://img.deusm.com/informationweek/Oct/David_Cox_IBM.jpg : Error: Unknown error, Code: 400 , X-global-transaction-id: e9b329158ba052d19fa3bfd7059321ca\n"
     ]
    },
    {
     "name": "stderr",
     "output_type": "stream",
     "text": [
      "ERROR:root:Unknown error\n",
      "Traceback (most recent call last):\n",
      "  File \"/home/dsxuser/.local/lib/python3.6/site-packages/ibm_cloud_sdk_core/base_service.py\", line 229, in send\n",
      "    response.status_code, error_message, http_response=response)\n",
      "ibm_cloud_sdk_core.api_exception.ApiException: Error: Unknown error, Code: 400 , X-global-transaction-id: 7640b35163cee13bd63f625e4a570183\n"
     ]
    },
    {
     "name": "stdout",
     "output_type": "stream",
     "text": [
      "Skipping url https://1.cms.s81c.com/sites/default/files/2019-04-22/explainable-ai.jpg: Error: Unknown error, Code: 400 , X-global-transaction-id: 7640b35163cee13bd63f625e4a570183\n"
     ]
    },
    {
     "name": "stderr",
     "output_type": "stream",
     "text": [
      "ERROR:root:Unknown error\n",
      "Traceback (most recent call last):\n",
      "  File \"/home/dsxuser/.local/lib/python3.6/site-packages/ibm_cloud_sdk_core/base_service.py\", line 229, in send\n",
      "    response.status_code, error_message, http_response=response)\n",
      "ibm_cloud_sdk_core.api_exception.ApiException: Error: Unknown error, Code: 400 , X-global-transaction-id: 2959d9ae943770c206ea9516c3cb8eaf\n"
     ]
    },
    {
     "name": "stdout",
     "output_type": "stream",
     "text": [
      "Skipping url https://1.cms.s81c.com/sites/default/files/2019-04-22/explainable-ai.jpg: Error: Unknown error, Code: 400 , X-global-transaction-id: 2959d9ae943770c206ea9516c3cb8eaf\n"
     ]
    },
    {
     "name": "stderr",
     "output_type": "stream",
     "text": [
      "ERROR:root:Unknown error\n",
      "Traceback (most recent call last):\n",
      "  File \"/home/dsxuser/.local/lib/python3.6/site-packages/ibm_cloud_sdk_core/base_service.py\", line 229, in send\n",
      "    response.status_code, error_message, http_response=response)\n",
      "ibm_cloud_sdk_core.api_exception.ApiException: Error: Unknown error, Code: 400 , X-global-transaction-id: c6329d2255de6d1f01135a908568d461\n"
     ]
    },
    {
     "name": "stdout",
     "output_type": "stream",
     "text": [
      "Skipping url //si.wsj.net/public/resources/images/BN-XY012_0320_c_P_20180320173444.jpg: Error: Unknown error, Code: 400 , X-global-transaction-id: c6329d2255de6d1f01135a908568d461\n"
     ]
    },
    {
     "name": "stderr",
     "output_type": "stream",
     "text": [
      "ERROR:root:Unknown error\n",
      "Traceback (most recent call last):\n",
      "  File \"/home/dsxuser/.local/lib/python3.6/site-packages/ibm_cloud_sdk_core/base_service.py\", line 229, in send\n",
      "    response.status_code, error_message, http_response=response)\n",
      "ibm_cloud_sdk_core.api_exception.ApiException: Error: Unknown error, Code: 400 , X-global-transaction-id: d02db92c2ec09b5a783d593a97533cbe\n"
     ]
    },
    {
     "name": "stdout",
     "output_type": "stream",
     "text": [
      "Skipping url //si.wsj.net/public/resources/images/BN-XY012_0320_c_P_20180320173444.jpg: Error: Unknown error, Code: 400 , X-global-transaction-id: d02db92c2ec09b5a783d593a97533cbe\n"
     ]
    },
    {
     "name": "stderr",
     "output_type": "stream",
     "text": [
      "ERROR:root:Unknown error\n",
      "Traceback (most recent call last):\n",
      "  File \"/home/dsxuser/.local/lib/python3.6/site-packages/ibm_cloud_sdk_core/base_service.py\", line 229, in send\n",
      "    response.status_code, error_message, http_response=response)\n",
      "ibm_cloud_sdk_core.api_exception.ApiException: Error: Unknown error, Code: 400 , X-global-transaction-id: 71d0375b1b4c46244609b03dfb0d6dac\n"
     ]
    },
    {
     "name": "stdout",
     "output_type": "stream",
     "text": [
      "Skipping url https://1.www.s81c.com/common/images/ibm-leadspace-1200x627.jpg: Error: Unknown error, Code: 400 , X-global-transaction-id: 71d0375b1b4c46244609b03dfb0d6dac\n"
     ]
    },
    {
     "name": "stderr",
     "output_type": "stream",
     "text": [
      "ERROR:root:Unknown error\n",
      "Traceback (most recent call last):\n",
      "  File \"/home/dsxuser/.local/lib/python3.6/site-packages/ibm_cloud_sdk_core/base_service.py\", line 229, in send\n",
      "    response.status_code, error_message, http_response=response)\n",
      "ibm_cloud_sdk_core.api_exception.ApiException: Error: Unknown error, Code: 400 , X-global-transaction-id: aef31e51308e58916573cb57b3a3aaff\n"
     ]
    },
    {
     "name": "stdout",
     "output_type": "stream",
     "text": [
      "Skipping url //si.wsj.net/public/resources/images/BN-XY012_0320_c_P_20180320173444.jpg: Error: Unknown error, Code: 400 , X-global-transaction-id: aef31e51308e58916573cb57b3a3aaff\n"
     ]
    },
    {
     "name": "stderr",
     "output_type": "stream",
     "text": [
      "ERROR:root:Unknown error\n",
      "Traceback (most recent call last):\n",
      "  File \"/home/dsxuser/.local/lib/python3.6/site-packages/ibm_cloud_sdk_core/base_service.py\", line 229, in send\n",
      "    response.status_code, error_message, http_response=response)\n",
      "ibm_cloud_sdk_core.api_exception.ApiException: Error: Unknown error, Code: 400 , X-global-transaction-id: 77a0dfbd323d18c9ec4016615786e2a9\n"
     ]
    },
    {
     "name": "stdout",
     "output_type": "stream",
     "text": [
      "Skipping url //si.wsj.net/public/resources/images/BN-XY012_0320_c_P_20180320173444.jpg: Error: Unknown error, Code: 400 , X-global-transaction-id: 77a0dfbd323d18c9ec4016615786e2a9\n"
     ]
    },
    {
     "name": "stderr",
     "output_type": "stream",
     "text": [
      "ERROR:root:Unknown error\n",
      "Traceback (most recent call last):\n",
      "  File \"/home/dsxuser/.local/lib/python3.6/site-packages/ibm_cloud_sdk_core/base_service.py\", line 229, in send\n",
      "    response.status_code, error_message, http_response=response)\n",
      "ibm_cloud_sdk_core.api_exception.ApiException: Error: Unknown error, Code: 400 , X-global-transaction-id: fd5bed0fcebd3816b78e3ca3ab01c275\n"
     ]
    },
    {
     "name": "stdout",
     "output_type": "stream",
     "text": [
      "Skipping url https://1.www.s81c.com/common/images/ibm-leadspace-1200x627.jpg: Error: Unknown error, Code: 400 , X-global-transaction-id: fd5bed0fcebd3816b78e3ca3ab01c275\n"
     ]
    },
    {
     "name": "stderr",
     "output_type": "stream",
     "text": [
      "ERROR:root:Unknown error\n",
      "Traceback (most recent call last):\n",
      "  File \"/home/dsxuser/.local/lib/python3.6/site-packages/ibm_cloud_sdk_core/base_service.py\", line 229, in send\n",
      "    response.status_code, error_message, http_response=response)\n",
      "ibm_cloud_sdk_core.api_exception.ApiException: Error: Unknown error, Code: 400 , X-global-transaction-id: 39803e0afc48020a932191e7f8931675\n"
     ]
    },
    {
     "name": "stdout",
     "output_type": "stream",
     "text": [
      "Skipping url //si.wsj.net/public/resources/images/BN-XY012_0320_c_P_20180320173444.jpg: Error: Unknown error, Code: 400 , X-global-transaction-id: 39803e0afc48020a932191e7f8931675\n"
     ]
    },
    {
     "name": "stderr",
     "output_type": "stream",
     "text": [
      "ERROR:root:Unknown error\n",
      "Traceback (most recent call last):\n",
      "  File \"/home/dsxuser/.local/lib/python3.6/site-packages/ibm_cloud_sdk_core/base_service.py\", line 229, in send\n",
      "    response.status_code, error_message, http_response=response)\n",
      "ibm_cloud_sdk_core.api_exception.ApiException: Error: Unknown error, Code: 400 , X-global-transaction-id: 09a46b852c2171ddc838e649429cf2fa\n"
     ]
    },
    {
     "name": "stdout",
     "output_type": "stream",
     "text": [
      "Skipping url https://1.cms.s81c.com/sites/default/files/2019-02-11/assistant_chatbot_static_leadspace_2800x1195_0.jpg: Error: Unknown error, Code: 400 , X-global-transaction-id: 09a46b852c2171ddc838e649429cf2fa\n"
     ]
    },
    {
     "name": "stderr",
     "output_type": "stream",
     "text": [
      "ERROR:root:Unknown error\n",
      "Traceback (most recent call last):\n",
      "  File \"/home/dsxuser/.local/lib/python3.6/site-packages/ibm_cloud_sdk_core/base_service.py\", line 229, in send\n",
      "    response.status_code, error_message, http_response=response)\n",
      "ibm_cloud_sdk_core.api_exception.ApiException: Error: Unknown error, Code: 400 , X-global-transaction-id: 9cce671e0d954f46c69aa7e9e589c3c9\n"
     ]
    },
    {
     "name": "stdout",
     "output_type": "stream",
     "text": [
      "Skipping url https://1.www.s81c.com/common/images/ibm-leadspace-1200x627.jpg: Error: Unknown error, Code: 400 , X-global-transaction-id: 9cce671e0d954f46c69aa7e9e589c3c9\n"
     ]
    }
   ],
   "source": [
    "if visual_recognition:\n",
    "    piclinks = df[\"Image\"]\n",
    "\n",
    "    picclass = []\n",
    "    piccolor = []\n",
    "    pictype1 = []\n",
    "    pictype2 = []\n",
    "    pictype3 = []\n",
    "\n",
    "    for pic in piclinks:\n",
    "        if not pic or pic == 'default-img':\n",
    "            picclass.append(' ')\n",
    "            piccolor.append(' ')\n",
    "            pictype1.append(' ')\n",
    "            pictype2.append(' ')\n",
    "            pictype3.append(' ')\n",
    "            continue\n",
    "\n",
    "        classes = []\n",
    "        enriched_json = {}\n",
    "        try:\n",
    "            enriched_json = visual_recognition.classify(url=pic).get_result()\n",
    "        except Exception as e:\n",
    "            print(\"Skipping url %s: %s\" % (pic, e))\n",
    "\n",
    "        if 'error' in enriched_json:\n",
    "            print(enriched_json['error'])\n",
    "        if 'images' in enriched_json and 'classifiers' in enriched_json['images'][0]:\n",
    "            classes = enriched_json['images'][0][\"classifiers\"][0][\"classes\"]\n",
    "\n",
    "        color1 = None\n",
    "        class1 = None\n",
    "        type_hierarchy1 = None\n",
    "\n",
    "        for iclass in classes:\n",
    "            # Grab the first color, first class, and first type hierarchy.\n",
    "            # Note: Usually you'd filter by 'score' too.\n",
    "            if not type_hierarchy1 and 'type_hierarchy' in iclass:\n",
    "                type_hierarchy1 = iclass['type_hierarchy']\n",
    "            if not class1:\n",
    "                class1 = iclass['class']\n",
    "            if not color1 and iclass['class'].endswith(' color'):\n",
    "                color1 = iclass['class'][:-len(' color')]\n",
    "            if type_hierarchy1 and class1 and color1:\n",
    "                # We are only using 1 of each per image. When we have all 3, break.\n",
    "                break\n",
    "\n",
    "        picclass.append(class1 or ' ')\n",
    "        piccolor.append(color1 or ' ')\n",
    "        type_split = (type_hierarchy1 or '/ / / ').split('/')\n",
    "        pictype1.append(type_split[1] if len(type_split) > 1 else '-')\n",
    "        pictype2.append(type_split[2] if len(type_split) > 2 else '- ')\n",
    "        pictype3.append(type_split[3] if len(type_split) > 3 else '-')\n",
    "\n",
    "    df[\"Image Color\"] = piccolor\n",
    "    df[\"Image Class\"] = picclass\n",
    "    df[\"Image Type\"] = pictype1\n",
    "    df[\"Image Subtype\"] = pictype2\n",
    "    df[\"Image Subtype2\"] = pictype3"
   ]
  },
  {
   "cell_type": "markdown",
   "metadata": {},
   "source": [
    " <a id='write'></a>\n",
    "## Enrichment is now COMPLETE!\n",
    "<a id='write1'></a> \n",
    "Save a copy of the enriched DataFrame as a file in Cloud Object Storage. To run the upload_file function we first need to create a variable that contains our credentials we created in section 2.2. No user input is required as we already have all of the information we need. To upload the file to COS simply run the next two cells."
   ]
  },
  {
   "cell_type": "code",
   "execution_count": 23,
   "metadata": {},
   "outputs": [],
   "source": [
    "cos = ibm_boto3.client(service_name='s3',\n",
    "    ibm_api_key_id=credentials['IBM_API_KEY_ID'],\n",
    "    ibm_service_instance_id=credentials['IAM_SERVICE_ID'],\n",
    "    ibm_auth_endpoint=credentials['IBM_AUTH_ENDPOINT'],\n",
    "    config=Config(signature_version='oauth'),\n",
    "    endpoint_url=credentials['ENDPOINT'])"
   ]
  },
  {
   "cell_type": "code",
   "execution_count": 24,
   "metadata": {},
   "outputs": [],
   "source": [
    "# Build the enriched file name from the original filename.\n",
    "localfilename = 'enriched_' + credentials['FILE']\n",
    "\n",
    "# Write a CSV file from the enriched pandas DataFrame.\n",
    "df.to_csv(localfilename, index=False)\n",
    "\n",
    "# Use the above put_file method with credentials to put the file in Object Storage.\n",
    "cos.upload_file(localfilename, Bucket=credentials['BUCKET'],Key=localfilename)"
   ]
  },
  {
   "cell_type": "code",
   "execution_count": 25,
   "metadata": {},
   "outputs": [],
   "source": [
    "# If you want to use the enriched local file, you can read it back in.\n",
    "# This might be handy if you already enriched and just want to re-run\n",
    "# from this cell and below. Uncomment the following line.\n",
    "\n",
    "# df = pd.read_csv(localfilename)"
   ]
  },
  {
   "cell_type": "markdown",
   "metadata": {},
   "source": [
    "<a id=\"part2\"></a> \n",
    "# Part II - Data Preparation\n",
    "<a id='prepare'></a>\n",
    "## 1. Prepare Data\n",
    " <a id='visualizations'></a>\n",
    "### 1.1 Prepare Multiple DataFrames for Visualizations\n",
    "Before we can create the separate tables for each Watson feature we need to organize and reformat the data. First, we need to determine which data points are tied to metrics. Second, we need to make sure make sure each metric is numeric. _(This is necessary for PixieDust in Part III)_"
   ]
  },
  {
   "cell_type": "code",
   "execution_count": 26,
   "metadata": {},
   "outputs": [],
   "source": [
    "# Put the lifetime metrics in a list\n",
    "metrics = [metric for metric in df.columns.values.tolist() if 'Lifetime' in metric]"
   ]
  },
  {
   "cell_type": "markdown",
   "metadata": {},
   "source": [
    "<a id='tone'></a> \n",
    "### 1.2 Create a Consolidated Sentiment and Emotion DataFrame\n",
    "You'll create a DataFrame for the sentiment and emotion of the post text and a DataFrame for the sentiment and emotion of the article text. Then you'll combine them into one DataFrame.\n"
   ]
  },
  {
   "cell_type": "markdown",
   "metadata": {},
   "source": [
    "#### Post Sentiment and Emotion DataFrame"
   ]
  },
  {
   "cell_type": "code",
   "execution_count": 27,
   "metadata": {},
   "outputs": [],
   "source": [
    "# Create a list with only Post sentiment and emotion values\n",
    "post_tones = [\"Text\",\"TextHighestEmotion\", \"TextHighestEmotionScore\", \"TextOverallSentimentType\", \"TextOverallSentimentScore\"]\n",
    "\n",
    "# Append DataFrame with these metrics\n",
    "post_tones.extend(metrics)\n",
    "\n",
    "# Create a new DataFrame with metrics and sentiment and emotion\n",
    "df_post_tones = df[post_tones]\n",
    "\n",
    "# Determine which tone values are suppose to be numeric and ensure they are numeric. \n",
    "post_numeric_values = [\"TextHighestEmotionScore\", \"TextOverallSentimentScore\"]\n",
    "for i in post_numeric_values:\n",
    "    df_post_tones[i] = pd.to_numeric(df_post_tones[i], errors='coerce')\n",
    "\n",
    "# Make all metrics numeric\n",
    "for i in metrics:\n",
    "    df_post_tones[i] = pd.to_numeric(df_post_tones[i], errors='coerce')\n",
    "\n",
    "# Add in a column to distinguish what portion the enrichment was happening \n",
    "df_post_tones[\"Type\"] = \"Post\""
   ]
  },
  {
   "cell_type": "markdown",
   "metadata": {},
   "source": [
    "#### Article Sentiment and Emotion DataFrame"
   ]
  },
  {
   "cell_type": "code",
   "execution_count": 28,
   "metadata": {},
   "outputs": [],
   "source": [
    "# Create a list with only Article sentiment and emotion values\n",
    "article_tones = [\"Text\", \"LinkHighestEmotion\", \"LinkHighestEmotionScore\", \"LinkOverallSentimentType\", \"LinkOverallSentimentScore\"]\n",
    "\n",
    "# Append DataFrame with these metrics\n",
    "article_tones.extend(metrics)\n",
    "\n",
    "# Create a new DataFrame with metrics and sentiment and emotion\n",
    "df_article_tones = df[article_tones]\n",
    "\n",
    "# Determine which values are suppose to be numeric and ensure they are numeric. \n",
    "art_numeric_values = [\"LinkHighestEmotionScore\", \"LinkOverallSentimentScore\"]\n",
    "for i in art_numeric_values:\n",
    "    df_article_tones[i] = pd.to_numeric(df_article_tones[i], errors='coerce')\n",
    "    \n",
    "# Make all metrics numeric\n",
    "for i in metrics:\n",
    "    df_article_tones[i] = pd.to_numeric(df_article_tones[i], errors='coerce')\n",
    "\n",
    "# Add in a column to distinguish what portion the enrichment was happening \n",
    "df_article_tones[\"Type\"] = \"Article\""
   ]
  },
  {
   "cell_type": "markdown",
   "metadata": {},
   "source": [
    "#### Combine Post and Article DataFrames to Make DataFrame with Sentiment and Emotion"
   ]
  },
  {
   "cell_type": "code",
   "execution_count": null,
   "metadata": {},
   "outputs": [],
   "source": [
    "# First make the Column Headers the same\n",
    "df_post_tones.rename(columns={\"TextHighestEmotion\":\"Emotion\",\n",
    "                              \"TextHighestEmotionScore\":\"Emotion Score\",\n",
    "                              \"TextOverallSentimentType\": \"Sentiment\",\n",
    "                              \"TextOverallSentimentScore\": \"Sentiment Score\"\n",
    "                             },\n",
    "                     inplace=True)\n",
    "\n",
    "df_article_tones.rename(columns={\"LinkHighestEmotion\":\"Emotion\",\n",
    "                                 \"LinkHighestEmotionScore\":\"Emotion Score\",\n",
    "                                 \"LinkOverallSentimentType\": \"Sentiment\",\n",
    "                                 \"LinkOverallSentimentScore\": \"Sentiment Score\"\n",
    "                                },\n",
    "                        inplace=True)\n",
    "\n",
    "# Combine into one data frame\n",
    "df_tones = pd.concat([df_post_tones, df_article_tones])\n"
   ]
  },
  {
   "cell_type": "code",
   "execution_count": 30,
   "metadata": {},
   "outputs": [],
   "source": [
    "# Only keep the positive, neutral, and negative sentiments. The others are empty or unusable.\n",
    "df_tones = df_tones[df_tones.Sentiment.isin(['positive', 'neutral', 'negative'])]"
   ]
  },
  {
   "cell_type": "markdown",
   "metadata": {},
   "source": [
    " <a id='keyword'></a> \n",
    "### 1.3 Create a Consolidated Keyword DataFrame\n",
    "You'll create DataFrames for the keywords of the article text, the thumbnail text, and the post text. Then you'll combine them into one DataFrame."
   ]
  },
  {
   "cell_type": "markdown",
   "metadata": {},
   "source": [
    " #### Article Keyword DataFrame "
   ]
  },
  {
   "cell_type": "code",
   "execution_count": 31,
   "metadata": {},
   "outputs": [],
   "source": [
    "# Create a list with only Article Keywords\n",
    "article_keywords = [\"Text\", \"MaxLinkKeywords\"]\n",
    "\n",
    "# Append DataFrame with these metrics\n",
    "article_keywords.extend(metrics)\n",
    "\n",
    "# Create a new DataFrame with keywords and metrics\n",
    "df_article_keywords = df[article_keywords]\n",
    "\n",
    "# Make all metrics numeric\n",
    "for i in metrics:\n",
    "    df_article_keywords[i] = pd.to_numeric(df_article_keywords[i], errors='coerce')\n",
    "\n",
    "# Drop NA Values in Keywords Column\n",
    "df_article_keywords['MaxLinkKeywords'].replace(' ', np.nan, inplace=True)\n",
    "df_article_keywords.dropna(subset=['MaxLinkKeywords'], inplace=True)\n",
    "\n",
    "# Add in a column to distinguish what portion the enrichment was happening \n",
    "df_article_keywords[\"Type\"] = \"Article\""
   ]
  },
  {
   "cell_type": "markdown",
   "metadata": {},
   "source": [
    "#### Thumbnail Keyword DataFrame "
   ]
  },
  {
   "cell_type": "code",
   "execution_count": 32,
   "metadata": {},
   "outputs": [],
   "source": [
    "# Create a list with only Thumbnail Keywords\n",
    "thumbnail_keywords = [\"Text\", \"MaxThumbnailKeywords\"]\n",
    "\n",
    "# Append DataFrame with these metrics\n",
    "thumbnail_keywords.extend(metrics)\n",
    "\n",
    "# Create a new DataFrame with keywords and metrics\n",
    "df_thumbnail_keywords = df[thumbnail_keywords]\n",
    "\n",
    "# Make all metrics numeric\n",
    "for i in metrics:\n",
    "    df_thumbnail_keywords[i] = pd.to_numeric(df_thumbnail_keywords[i], errors='coerce')\n",
    "    \n",
    "# Drop NA Values in Keywords Column\n",
    "df_thumbnail_keywords['MaxThumbnailKeywords'].replace(' ', np.nan, inplace=True)\n",
    "df_thumbnail_keywords.dropna(subset=['MaxThumbnailKeywords'], inplace=True)\n",
    "\n",
    "# Add in a column to distinguish what portion the enrichment was happening \n",
    "df_thumbnail_keywords[\"Type\"] = \"Thumbnails\""
   ]
  },
  {
   "cell_type": "markdown",
   "metadata": {},
   "source": [
    "#### Post Keyword DataFrame "
   ]
  },
  {
   "cell_type": "code",
   "execution_count": 33,
   "metadata": {},
   "outputs": [],
   "source": [
    "# Create a list with only Thumbnail Keywords\n",
    "post_keywords = [\"Text\", \"MaxTextKeywords\"]\n",
    "\n",
    "# Append DataFrame with these metrics\n",
    "post_keywords.extend(metrics)\n",
    "\n",
    "# Create a new DataFrame with keywords and metrics\n",
    "df_post_keywords = df[post_keywords]\n",
    "\n",
    "# Make all metrics numeric\n",
    "for i in metrics:\n",
    "    df_post_keywords[i] = pd.to_numeric(df_post_keywords[i], errors='coerce')\n",
    "    \n",
    "# Drop NA Values in Keywords Column\n",
    "df_post_keywords['MaxTextKeywords'].replace(' ', np.nan, inplace=True)\n",
    "df_post_keywords.dropna(subset=['MaxTextKeywords'], inplace=True)\n",
    "\n",
    "# Add in a column to distinguish what portion the enrichment was happening \n",
    "df_post_keywords[\"Type\"] = \"Posts\""
   ]
  },
  {
   "cell_type": "markdown",
   "metadata": {},
   "source": [
    "#### Combine Post, Thumbnail, and Article DataFrames to Make One Keywords DataFrame"
   ]
  },
  {
   "cell_type": "code",
   "execution_count": 34,
   "metadata": {},
   "outputs": [],
   "source": [
    "# First make the column headers the same\n",
    "df_post_keywords.rename(columns={\"MaxTextKeywords\": \"Keywords\"}, inplace=True)\n",
    "df_thumbnail_keywords.rename(columns={\"MaxThumbnailKeywords\":\"Keywords\"}, inplace=True)\n",
    "df_article_keywords.rename(columns={\"MaxLinkKeywords\":\"Keywords\"}, inplace=True)\n",
    "\n",
    "# Combine into one data frame\n",
    "df_keywords = pd.concat([df_post_keywords, df_thumbnail_keywords, df_article_keywords])\n",
    "\n",
    "# Discard posts with lower total reach to make charting easier\n",
    "df_keywords = df_keywords[df_keywords[\"Lifetime Post Total Reach\"] > 20000]\n"
   ]
  },
  {
   "cell_type": "markdown",
   "metadata": {},
   "source": [
    "<a id='entity'></a>\n",
    "###  1.4 Create a Consolidated Entity DataFrame\n",
    "You'll create DataFrames for the entities of the article text, the thumbnail text, and the post text. Then you'll combine them into one DataFrame."
   ]
  },
  {
   "cell_type": "markdown",
   "metadata": {},
   "source": [
    "#### Article Entity DataFrame "
   ]
  },
  {
   "cell_type": "code",
   "execution_count": 35,
   "metadata": {},
   "outputs": [],
   "source": [
    "# Create a list with only Article Keywords\n",
    "article_entities = [\"Text\", \"MaxLinkEntity\"]\n",
    "\n",
    "# Append DataFrame with these metrics\n",
    "article_entities.extend(metrics)\n",
    "\n",
    "# Create a new DataFrame with keywords and metrics\n",
    "df_article_entities = df[article_entities]\n",
    "    \n",
    "# Make all metrics numeric\n",
    "for i in metrics:\n",
    "    df_article_entities[i] = pd.to_numeric(df_article_entities[i], errors='coerce')\n",
    "    \n",
    "# Drop NA Values in Keywords Column\n",
    "df_article_entities['MaxLinkEntity'] = df[\"MaxLinkEntity\"].replace(r'\\s+', np.nan, regex=True)\n",
    "df_article_entities.dropna(subset=['MaxLinkEntity'], inplace=True)\n",
    "\n",
    "# Add in a column to distinguish what portion the enrichment was happening \n",
    "df_article_entities[\"Type\"] = \"Article\""
   ]
  },
  {
   "cell_type": "markdown",
   "metadata": {},
   "source": [
    "#### Thumbnail Entity DataFrame"
   ]
  },
  {
   "cell_type": "code",
   "execution_count": 36,
   "metadata": {},
   "outputs": [],
   "source": [
    "# Create a list with only Thumbnail Keywords\n",
    "thumbnail_entities = [\"Text\", \"MaxThumbnailEntity\"]\n",
    "\n",
    "# Append DataFrame with these metrics\n",
    "thumbnail_entities.extend(metrics)\n",
    "\n",
    "# Create a new DataFrame with keywords and metrics\n",
    "df_thumbnail_entities = df[thumbnail_entities]\n",
    "\n",
    "# Make all metrics numeric\n",
    "for i in metrics:\n",
    "    df_thumbnail_entities[i] = pd.to_numeric(df_thumbnail_entities[i], errors='coerce')\n",
    "    \n",
    "# Drop NA Values in Keywords Column\n",
    "df_thumbnail_entities['MaxThumbnailEntity'] = df_thumbnail_entities['MaxThumbnailEntity'].replace(r'\\s+', np.nan, regex=True)\n",
    "df_thumbnail_entities.dropna(subset=['MaxThumbnailEntity'], inplace=True)\n",
    "\n",
    "# Add in a column to distinguish what portion the enrichment was happening \n",
    "df_thumbnail_entities[\"Type\"] = \"Thumbnails\""
   ]
  },
  {
   "cell_type": "markdown",
   "metadata": {},
   "source": [
    "#### Post Entity DataFrame"
   ]
  },
  {
   "cell_type": "code",
   "execution_count": 37,
   "metadata": {},
   "outputs": [],
   "source": [
    "# Create a list with only Thumbnail Keywords\n",
    "post_entities = [\"Text\", \"MaxTextEntity\"]\n",
    "\n",
    "# Append DataFrame with these metrics\n",
    "post_entities.extend(metrics)\n",
    "\n",
    "# Create a new DataFrame with keywords and metrics\n",
    "df_post_entities = df[post_entities]\n",
    "\n",
    "# Make all metrics numeric\n",
    "for i in metrics:\n",
    "    df_post_entities[i] = pd.to_numeric(df_post_entities[i], errors='coerce')\n",
    "    \n",
    "# Drop NA Values in Keywords Column\n",
    "df_post_entities['MaxTextEntity'] = df_post_entities['MaxTextEntity'].replace(r'\\s+', np.nan, regex=True)\n",
    "df_post_entities.dropna(subset=['MaxTextEntity'], inplace=True)\n",
    "\n",
    "# Add in a column to distinguish what portion the enrichment was happening \n",
    "df_post_entities[\"Type\"] = \"Posts\""
   ]
  },
  {
   "cell_type": "markdown",
   "metadata": {},
   "source": [
    "#### Combine Post, Thumbnail, and Article DataFrames to Make One Entity DataFrame"
   ]
  },
  {
   "cell_type": "code",
   "execution_count": 38,
   "metadata": {},
   "outputs": [],
   "source": [
    "# First make the column headers the same\n",
    "df_post_entities.rename(columns={\"MaxTextEntity\": \"Entities\"}, inplace=True)\n",
    "\n",
    "df_thumbnail_entities.rename(columns={\"MaxThumbnailEntity\":\"Entities\"}, inplace=True)\n",
    "\n",
    "df_article_entities.rename(columns={\"MaxLinkEntity\":\"Entities\"}, inplace=True)\n",
    "\n",
    "# Combine into one data frame\n",
    "df_entities = pd.concat([df_post_entities, df_thumbnail_entities, df_article_entities])\n",
    "\n",
    "df_entities[\"Entities\"] = df_entities[\"Entities\"].replace('', np.nan)\n",
    "df_entities.dropna(subset=[\"Entities\"], inplace=True)"
   ]
  },
  {
   "cell_type": "markdown",
   "metadata": {},
   "source": [
    "<a id='image_dataframe'></a>\n",
    "###  1.5 Create a Consolidated Image DataFrame"
   ]
  },
  {
   "cell_type": "markdown",
   "metadata": {},
   "source": [
    "#### Combine Metrics with Type Hierarchy, Class and Color to Make One Image DataFrame"
   ]
  },
  {
   "cell_type": "code",
   "execution_count": 39,
   "metadata": {},
   "outputs": [],
   "source": [
    "if visual_recognition:\n",
    "    # Create a list with only Visual Recognition columns\n",
    "    pic_keywords = ['Image Type', 'Image Subtype', 'Image Subtype2', 'Image Class', 'Image Color']\n",
    "\n",
    "    # Append DataFrame with these metrics\n",
    "    pic_keywords.extend(metrics)\n",
    "\n",
    "    # Create a new DataFrame with keywords and metrics\n",
    "    df_pic_keywords = df[pic_keywords]\n",
    "\n",
    "    # Make all metrics numeric\n",
    "    for i in metrics:\n",
    "        df_pic_keywords[i] = pd.to_numeric(df_pic_keywords[i], errors='coerce')\n",
    "\n",
    "    # Discard posts with lower total reach to make charting easier\n",
    "    df_pic_keywords = df_pic_keywords[df_pic_keywords[\"Lifetime Post Total Reach\"] > 15000]"
   ]
  },
  {
   "cell_type": "code",
   "execution_count": 40,
   "metadata": {},
   "outputs": [],
   "source": [
    "if visual_recognition:\n",
    "    images = df_pic_keywords[df_pic_keywords['Image Type'] != ' ']"
   ]
  },
  {
   "cell_type": "markdown",
   "metadata": {},
   "source": [
    "<a id=\"part3\"></a> \n",
    "# Part III\n",
    "<a id='2setup'></a> \n",
    "## 1. Setup\n",
    "<a id='2setup2'></a>\n",
    "###  1.1 Assign Variables\n",
    "Assign new DataFrames to variables. "
   ]
  },
  {
   "cell_type": "code",
   "execution_count": 41,
   "metadata": {},
   "outputs": [],
   "source": [
    "entities = df_entities\n",
    "tones = df_tones\n",
    "keywords = df_keywords"
   ]
  },
  {
   "cell_type": "markdown",
   "metadata": {},
   "source": [
    "<a id='2visual'></a>\n",
    "##  2. Visualize Data\n",
    "<a id='2visual1'></a> \n",
    "### 2.1 Run PixieDust Visualization Library with Display() API\n",
    "PixieDust lets you visualize your data in just a few clicks using the display() API. You can find more info at https://pixiedust.github.io/pixiedust/displayapi.html."
   ]
  },
  {
   "cell_type": "markdown",
   "metadata": {},
   "source": [
    "#### We can use a pie chart to identify how lifetime engagement was broken up by sentiment. \n",
    "\n",
    "Click on the `Options` button to change the chart.  Here are some things to try:\n",
    "* Add *Type* to make the breakdown show *Post* or *Article*.\n",
    "* Show *Emotion* intead of *Sentiment* (or both).\n",
    "* Try a different metric."
   ]
  },
  {
   "cell_type": "code",
   "execution_count": 42,
   "metadata": {},
   "outputs": [
    {
     "name": "stdout",
     "output_type": "stream",
     "text": [
      "Pixiedust database opened successfully\n",
      "Table VERSION_TRACKER created successfully\n",
      "Table METRICS_TRACKER created successfully\n",
      "\n",
      "Share anonymous install statistics? (opt-out instructions)\n",
      "\n",
      "PixieDust will record metadata on its environment the next time the package is installed or updated. The data is anonymized and aggregated to help plan for future releases, and records only the following values:\n",
      "\n",
      "{\n",
      "   \"data_sent\": currentDate,\n",
      "   \"runtime\": \"python\",\n",
      "   \"application_version\": currentPixiedustVersion,\n",
      "   \"space_id\": nonIdentifyingUniqueId,\n",
      "   \"config\": {\n",
      "       \"repository_id\": \"https://github.com/ibm-watson-data-lab/pixiedust\",\n",
      "       \"target_runtimes\": [\"Data Science Experience\"],\n",
      "       \"event_id\": \"web\",\n",
      "       \"event_organizer\": \"dev-journeys\"\n",
      "   }\n",
      "}\n",
      "You can opt out by calling pixiedust.optOut() in a new cell.\n"
     ]
    },
    {
     "data": {
      "text/html": [
       "\n",
       "        <div style=\"margin:10px\">\n",
       "            <a href=\"https://github.com/ibm-watson-data-lab/pixiedust\" target=\"_new\">\n",
       "                <img src=\"https://github.com/ibm-watson-data-lab/pixiedust/raw/master/docs/_static/pd_icon32.png\" style=\"float:left;margin-right:10px\"/>\n",
       "            </a>\n",
       "            <span>Pixiedust version 1.1.14</span>\n",
       "        </div>\n",
       "        "
      ],
      "text/plain": [
       "<IPython.core.display.HTML object>"
      ]
     },
     "metadata": {},
     "output_type": "display_data"
    },
    {
     "name": "stdout",
     "output_type": "stream",
     "text": [
      "Pixiedust runtime updated. Please restart kernel\n",
      "Table USER_PREFERENCES created successfully\n",
      "Table service_connections created successfully\n"
     ]
    },
    {
     "data": {
      "text/html": [
       "<div>Warning: You are not running the latest version of PixieDust. Current is 1.1.14, Latest is 1.1.18</div>"
      ],
      "text/plain": [
       "<IPython.core.display.HTML object>"
      ]
     },
     "metadata": {},
     "output_type": "display_data"
    },
    {
     "data": {
      "text/html": [
       "\n",
       "                <div>Please copy and run the following command in a new cell to upgrade: <span style=\"background-color:#ececec;font-family:monospace;padding:0 5px\">!pip install --user --upgrade pixiedust</span></div>\n",
       "            "
      ],
      "text/plain": [
       "<IPython.core.display.HTML object>"
      ]
     },
     "metadata": {},
     "output_type": "display_data"
    },
    {
     "data": {
      "text/html": [
       "<div>Please restart kernel after upgrading.</div>"
      ],
      "text/plain": [
       "<IPython.core.display.HTML object>"
      ]
     },
     "metadata": {},
     "output_type": "display_data"
    }
   ],
   "source": [
    "import pixiedust"
   ]
  },
  {
   "cell_type": "code",
   "execution_count": 43,
   "metadata": {
    "pixiedust": {
     "displayParams": {
      "aggregation": "SUM",
      "chartsize": "70",
      "charttype": "stacked",
      "clusterby": "Type",
      "handlerId": "pieChart",
      "keyFields": "Emotion",
      "legend": "true",
      "mpld3": "false",
      "orientation": "horizontal",
      "rendererId": "matplotlib",
      "rowCount": "100",
      "sortby": "Values DESC",
      "title": "Lifetime Engaged Users by Emotion",
      "valueFields": "Lifetime Engaged Users",
      "ylabel": "true"
     }
    }
   },
   "outputs": [
    {
     "data": {
      "text/html": [
       "<style type=\"text/css\">.pd_warning{display:none;}</style><div class=\"pd_warning\"><em>Hey, there's something awesome here! To see it, open this notebook outside GitHub, in a viewer like Jupyter</em></div>\n",
       "        <div class=\"pd_save is-viewer-good\" style=\"padding-right:10px;text-align: center;line-height:initial !important;font-size: xx-large;font-weight: 500;color: coral;\">\n",
       "            Lifetime Engaged Users by Emotion\n",
       "        </div>\n",
       "    <div id=\"chartFigure51ff61a2\" class=\"pd_save is-viewer-good\" style=\"overflow-x:auto\">\n",
       "            \n",
       "                    \n",
       "                            <center><img style=\"max-width:initial !important\" src=\"data:image/png;base64,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\" class=\"pd_save\"></center>\n",
       "                        \n",
       "                    \n",
       "                \n",
       "        </div>"
      ],
      "text/plain": [
       "<IPython.core.display.HTML object>"
      ]
     },
     "metadata": {},
     "output_type": "display_data"
    }
   ],
   "source": [
    "display(tones)"
   ]
  },
  {
   "cell_type": "markdown",
   "metadata": {},
   "source": [
    "#### Now let's look at the same statistics as a bar chart.\n",
    "\n",
    "It is the same line of code. Use the `Edit Metadata` button to see how PixieDust knows to show us a bar chart. If you don't have a button use the menu and select `View > Cell Toolbar > Edit Metadata`.\n",
    "\n",
    "A bar chart is better at showing more information. We added `Cluster By: Type` so we already see numbers for posts and articles. Notice what the chart tells you. Most of our articles and posts are `positive`. But what sentiment really engages more users?  Click on `Options` and try this:\n",
    "\n",
    "* Change the aggregation to `AVG`.\n",
    "\n",
    "What sentiment leads to higher average engagement?\n"
   ]
  },
  {
   "cell_type": "code",
   "execution_count": 44,
   "metadata": {
    "pixiedust": {
     "displayParams": {
      "aggregation": "SUM",
      "chartsize": "70",
      "charttype": "stacked",
      "clusterby": "Type",
      "handlerId": "barChart",
      "keyFields": "Sentiment",
      "legend": "true",
      "orientation": "horizontal",
      "rendererId": "matplotlib",
      "rowCount": "100",
      "sortby": "Values DESC",
      "title": "Lifetime Engaged Users by Sentiment",
      "valueFields": "Lifetime Engaged Users"
     }
    },
    "scrolled": false
   },
   "outputs": [
    {
     "data": {
      "text/html": [
       "<style type=\"text/css\">.pd_warning{display:none;}</style><div class=\"pd_warning\"><em>Hey, there's something awesome here! To see it, open this notebook outside GitHub, in a viewer like Jupyter</em></div>\n",
       "        <div class=\"pd_save is-viewer-good\" style=\"padding-right:10px;text-align: center;line-height:initial !important;font-size: xx-large;font-weight: 500;color: coral;\">\n",
       "            Lifetime Engaged Users by Sentiment\n",
       "        </div>\n",
       "    <div id=\"chartFigurec300652f\" class=\"pd_save is-viewer-good\" style=\"overflow-x:auto\">\n",
       "            \n",
       "                    \n",
       "                            <center><img style=\"max-width:initial !important\" src=\"data:image/png;base64,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\" class=\"pd_save\"></center>\n",
       "                        \n",
       "                    \n",
       "                \n",
       "        </div>"
      ],
      "text/plain": [
       "<IPython.core.display.HTML object>"
      ]
     },
     "metadata": {},
     "output_type": "display_data"
    }
   ],
   "source": [
    "display(tones)"
   ]
  },
  {
   "cell_type": "markdown",
   "metadata": {},
   "source": [
    "#### Now let's look at the entities that were detected by Natural Language Understanding.\n",
    "\n",
    "The following bar chart shows the entities that were detected. This time we are stacking negative feedback and \"likes\" to get a picture of the kind of feedback the entities were getting. We chose a horizontal, stacked bar chart with descending values for a little variety.\n",
    "\n",
    "* Try a different renderer and see what you get."
   ]
  },
  {
   "cell_type": "code",
   "execution_count": 45,
   "metadata": {
    "pixiedust": {
     "displayParams": {
      "aggregation": "SUM",
      "chartsize": "70",
      "charttype": "stacked",
      "handlerId": "barChart",
      "keyFields": "Entities",
      "orientation": "horizontal",
      "rendererId": "matplotlib",
      "rowCount": "100",
      "sortby": "Values DESC",
      "title": "Entities in Posts and Articles",
      "valueFields": "Lifetime Post Stories by action type - like,Lifetime Negative Feedback from Users"
     }
    },
    "scrolled": false
   },
   "outputs": [
    {
     "data": {
      "text/html": [
       "<style type=\"text/css\">.pd_warning{display:none;}</style><div class=\"pd_warning\"><em>Hey, there's something awesome here! To see it, open this notebook outside GitHub, in a viewer like Jupyter</em></div>\n",
       "        <div class=\"pd_save is-viewer-good\" style=\"padding-right:10px;text-align: center;line-height:initial !important;font-size: xx-large;font-weight: 500;color: coral;\">\n",
       "            Entities in Posts and Articles\n",
       "        </div>\n",
       "    <div id=\"chartFiguref966f294\" class=\"pd_save is-viewer-good\" style=\"overflow-x:auto\">\n",
       "            \n",
       "                    \n",
       "                            <center><img style=\"max-width:initial !important\" src=\"data:image/png;base64,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\" class=\"pd_save\"></center>\n",
       "                        \n",
       "                    \n",
       "                \n",
       "        </div>"
      ],
      "text/plain": [
       "<IPython.core.display.HTML object>"
      ]
     },
     "metadata": {},
     "output_type": "display_data"
    }
   ],
   "source": [
    "display(entities)"
   ]
  },
  {
   "cell_type": "markdown",
   "metadata": {},
   "source": [
    "#### Next we look at the keywords detected by Natural Language Understanding\n"
   ]
  },
  {
   "cell_type": "code",
   "execution_count": 46,
   "metadata": {
    "pixiedust": {
     "displayParams": {
      "aggregation": "SUM",
      "chartsize": "85",
      "charttype": "stacked",
      "clusterby": "Type",
      "handlerId": "barChart",
      "keyFields": "Keywords",
      "legend": "true",
      "mpld3": "false",
      "orientation": "horizontal",
      "rendererId": "matplotlib",
      "rowCount": "100",
      "sortby": "Values DESC",
      "timeseries": "false",
      "title": "Keyword Total Reach",
      "valueFields": "Lifetime Post Total Reach"
     }
    },
    "scrolled": false
   },
   "outputs": [
    {
     "data": {
      "text/html": [
       "<style type=\"text/css\">.pd_warning{display:none;}</style><div class=\"pd_warning\"><em>Hey, there's something awesome here! To see it, open this notebook outside GitHub, in a viewer like Jupyter</em></div>\n",
       "        <div class=\"pd_save is-viewer-good\" style=\"padding-right:10px;text-align: center;line-height:initial !important;font-size: xx-large;font-weight: 500;color: coral;\">\n",
       "            Keyword Total Reach\n",
       "        </div>\n",
       "    <div id=\"chartFigurefa0d0330\" class=\"pd_save is-viewer-good\" style=\"overflow-x:auto\">\n",
       "            \n",
       "                    \n",
       "                            <center><img style=\"max-width:initial !important\" src=\"data:image/png;base64,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\" class=\"pd_save\"></center>\n",
       "                        \n",
       "                    \n",
       "                \n",
       "        </div>"
      ],
      "text/plain": [
       "<IPython.core.display.HTML object>"
      ]
     },
     "metadata": {},
     "output_type": "display_data"
    }
   ],
   "source": [
    "display(keywords)"
   ]
  },
  {
   "cell_type": "markdown",
   "metadata": {},
   "source": [
    "#### Now let's take a look at what Visual Recognition can show us.\n",
    "\n",
    "See how the images influenced the metrics. We've used visual recognition to identify a class and a type hierarchy for each image. We've also captured the top recognized color for each image. Our sample data doesn't have a significant number of data points, but these three charts demonstrate how you could:\n",
    "\n",
    "1. Recognize image classes that correlate to higher total reach.\n",
    "1. Add a type hierarchy for a higher level abstraction or to add grouping/stacking to the class data.\n",
    "1. Determine if image color correlates to total reach.\n",
    "\n",
    "Visual recognition makes it surprisingly easy to do all of the above. Of course, you can easily try different metrics as you experiment. If you are not convinced that you should add ultramarine laser pictures to all of your articles, then you might want to do some research with a better data sample."
   ]
  },
  {
   "cell_type": "code",
   "execution_count": 47,
   "metadata": {
    "pixiedust": {
     "displayParams": {
      "aggregation": "SUM",
      "chartsize": "85",
      "charttype": "stacked",
      "handlerId": "barChart",
      "keyFields": "Image Class",
      "legend": "true",
      "orientation": "horizontal",
      "rendererId": "matplotlib",
      "rowCount": "100",
      "sortby": "Values DESC",
      "title": "Image Classes",
      "valueFields": "Lifetime Post Total Reach"
     }
    }
   },
   "outputs": [
    {
     "data": {
      "text/html": [
       "<style type=\"text/css\">.pd_warning{display:none;}</style><div class=\"pd_warning\"><em>Hey, there's something awesome here! To see it, open this notebook outside GitHub, in a viewer like Jupyter</em></div>\n",
       "        <div class=\"pd_save is-viewer-good\" style=\"padding-right:10px;text-align: center;line-height:initial !important;font-size: xx-large;font-weight: 500;color: coral;\">\n",
       "            Image Classes\n",
       "        </div>\n",
       "    <div id=\"chartFigure63af9581\" class=\"pd_save is-viewer-good\" style=\"overflow-x:auto\">\n",
       "            \n",
       "                    \n",
       "                            <center><img style=\"max-width:initial !important\" src=\"data:image/png;base64,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\" class=\"pd_save\"></center>\n",
       "                        \n",
       "                    \n",
       "                \n",
       "        </div>"
      ],
      "text/plain": [
       "<IPython.core.display.HTML object>"
      ]
     },
     "metadata": {},
     "output_type": "display_data"
    }
   ],
   "source": [
    "if visual_recognition:\n",
    "    display(images)"
   ]
  },
  {
   "cell_type": "code",
   "execution_count": 48,
   "metadata": {
    "pixiedust": {
     "displayParams": {
      "aggregation": "SUM",
      "chartsize": "85",
      "charttype": "stacked",
      "clusterby": "Image Type",
      "handlerId": "barChart",
      "keyFields": "Image Subtype",
      "legend": "true",
      "mpld3": "false",
      "orientation": "horizontal",
      "rendererId": "matplotlib",
      "rowCount": "100",
      "sortby": "Values DESC",
      "stretch": "false",
      "title": "Image Type Hierarchy",
      "valueFields": "Lifetime Post Total Reach"
     }
    }
   },
   "outputs": [
    {
     "data": {
      "text/html": [
       "<style type=\"text/css\">.pd_warning{display:none;}</style><div class=\"pd_warning\"><em>Hey, there's something awesome here! To see it, open this notebook outside GitHub, in a viewer like Jupyter</em></div>\n",
       "        <div class=\"pd_save is-viewer-good\" style=\"padding-right:10px;text-align: center;line-height:initial !important;font-size: xx-large;font-weight: 500;color: coral;\">\n",
       "            Image Type Hierarchy\n",
       "        </div>\n",
       "    <div id=\"chartFigured8b50291\" class=\"pd_save is-viewer-good\" style=\"overflow-x:auto\">\n",
       "            \n",
       "                    \n",
       "                            <center><img style=\"max-width:initial !important\" src=\"data:image/png;base64,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\" class=\"pd_save\"></center>\n",
       "                        \n",
       "                    \n",
       "                \n",
       "        </div>"
      ],
      "text/plain": [
       "<IPython.core.display.HTML object>"
      ]
     },
     "metadata": {},
     "output_type": "display_data"
    }
   ],
   "source": [
    "if visual_recognition:\n",
    "    display(images)"
   ]
  },
  {
   "cell_type": "code",
   "execution_count": 49,
   "metadata": {
    "pixiedust": {
     "displayParams": {
      "aggregation": "SUM",
      "chartsize": "85",
      "charttype": "stacked",
      "handlerId": "barChart",
      "keyFields": "Image Color",
      "legend": "true",
      "orientation": "horizontal",
      "rendererId": "matplotlib",
      "rowCount": "100",
      "sortby": "Values DESC",
      "title": "Image Color",
      "valueFields": "Lifetime Post Total Reach"
     }
    }
   },
   "outputs": [
    {
     "data": {
      "text/html": [
       "<style type=\"text/css\">.pd_warning{display:none;}</style><div class=\"pd_warning\"><em>Hey, there's something awesome here! To see it, open this notebook outside GitHub, in a viewer like Jupyter</em></div>\n",
       "        <div class=\"pd_save is-viewer-good\" style=\"padding-right:10px;text-align: center;line-height:initial !important;font-size: xx-large;font-weight: 500;color: coral;\">\n",
       "            Image Color\n",
       "        </div>\n",
       "    <div id=\"chartFigure0fa69a46\" class=\"pd_save is-viewer-good\" style=\"overflow-x:auto\">\n",
       "            \n",
       "                    \n",
       "                            <center><img style=\"max-width:initial !important\" src=\"data:image/png;base64,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\" class=\"pd_save\"></center>\n",
       "                        \n",
       "                    \n",
       "                \n",
       "        </div>"
      ],
      "text/plain": [
       "<IPython.core.display.HTML object>"
      ]
     },
     "metadata": {},
     "output_type": "display_data"
    }
   ],
   "source": [
    "if visual_recognition:\n",
    "    display(images)"
   ]
  },
  {
   "cell_type": "markdown",
   "metadata": {},
   "source": [
    "<hr>\n",
    "Copyright © IBM Corp. 2017, 2018. This notebook and its source code are released under the terms of the Apache 2.0."
   ]
  },
  {
   "cell_type": "markdown",
   "metadata": {},
   "source": [
    "Licensed under the Apache License, Version 2.0 (the \"License\"); you may\n",
    "not use this file except in compliance with the License. You may obtain\n",
    "a copy of the License at\n",
    "\n",
    "      http://www.apache.org/licenses/LICENSE-2.0\n",
    "\n",
    "Unless required by applicable law or agreed to in writing, software\n",
    "distributed under the License is distributed on an \"AS IS\" BASIS, WITHOUT\n",
    "WARRANTIES OR CONDITIONS OF ANY KIND, either express or implied. See the\n",
    "License for the specific language governing permissions and limitations\n",
    "under the License."
   ]
  }
 ],
 "metadata": {
  "kernelspec": {
   "display_name": "Python 3.6",
   "language": "python",
   "name": "python3"
  },
  "language_info": {
   "codemirror_mode": {
    "name": "ipython",
    "version": 3
   },
   "file_extension": ".py",
   "mimetype": "text/x-python",
   "name": "python",
   "nbconvert_exporter": "python",
   "pygments_lexer": "ipython3",
   "version": "3.6.9"
  }
 },
 "nbformat": 4,
 "nbformat_minor": 1
}
