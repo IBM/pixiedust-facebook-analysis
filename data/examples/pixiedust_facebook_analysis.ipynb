{
 "cells": [
  {
   "cell_type": "markdown",
   "metadata": {},
   "source": [
    "<div style=\"background:#F5F7FA; height:100px; padding: 2em; font-size:14px;\">\n",
    "<span style=\"font-size:18px;color:#152935;\">Want to do more?</span><span style=\"border: 1px solid #3d70b2;padding: 15px;float:right;margin-right:40px; color:#3d70b2; \"><a href=\"https://ibm.co/wsnotebooks\" target=\"_blank\" style=\"color: #3d70b2;text-decoration: none;\">Sign Up</a></span><br>\n",
    "<span style=\"color:#5A6872;\"> Try out this notebook with your free trial of IBM Watson Studio.</span>\n",
    "</div>"
   ]
  },
  {
   "cell_type": "markdown",
   "metadata": {
    "collapsed": true
   },
   "source": [
    "# Analyze Facebook Data Using IBM Watson and IBM Watson Studio\n",
    "\n",
    "This is a three-part notebook written in `Python_3.5` meant to show how anyone can enrich and analyze a combined dataset of unstructured and structured information with IBM Watson and IBM Watson Studio. For this example we are using a standard Facebook Analytics export which features texts from posts, articles and thumbnails, along with standard performance metrics such as likes, shares, and impressions. \n",
    "\n",
    "**Part I** will use the Natual Language Understanding, Visual Recognition and Tone Analyzer Services from IBM Watson to enrich the Facebook Posts, Thumbnails, and Articles by pulling out `Emotion Tones`, `Social Tones`, `Language Tones`, `Entities`, `Keywords`, and `Document Sentiment`. The end result of Part I will be additional features and metrics we can test, analyze, and visualize in Part III. \n",
    "\n",
    "**Part II** will be used to set up the visualizations and tests we will run in Part III. The end result of Part II will be multiple pandas DataFrames that will contain the values, and metrics needed to find insights from the Part III tests and experiments.\n",
    "\n",
    "**Part III** will include services from IBM's Watson Studio, including IBM's own data visualization library PixieDust. In Part III we will run analysis on the data from the Facebook Analytics export, such as the number of likes, comments, shares, to the overall reach for each post, and will compare it to the enriched data we pulled in Part I.\n",
    "\n",
    "\n",
    "#### You should only need to change data in the Setup portion of this notebook. All places where you see  <span style=\"color: red\"> User Input </span> is where you should be adding inputs. \n",
    "\n",
    "### Table of Contents\n",
    "\n",
    "### [**Part I - Enrich**](#part1)<br>\n",
    "1. [Setup](#setup)<br>\n",
    "   1.1 [Install Watson Developer Cloud and BeautifulSoup Packages](#setup1)<br>\n",
    "   1.2 [Install PixieDust](#pixie)<br> \n",
    "   1.3 [Restart Kernel](#restart)<br> \n",
    "   1.4 [Import Packages and Libraries](#setup2)<br>\n",
    "   1.5 [Add Service Credentials From IBM Cloud for Watson Services](#setup3)<br>\n",
    "2. [Load Data](#load)<br>\n",
    "   2.1 [Load Data From Cloud Object Storage as a pandas DataFrame](#load1)<br>\n",
    "   2.2 [Set Variables](#load2)<br>\n",
    "3. [Prepare Data](#prepare)<br>\n",
    "   3.1 [Data Cleansing with Python](#prepare1)<br>\n",
    "   3.2 [Beautiful Soup to Extract Thumbnails and Extented Links](#prepare2)<br>\n",
    "4. [Enrich Data](#enrich)<br>\n",
    "   4.1 [NLU for Post Text](#nlupost)<br>\n",
    "   4.2 [NLU for Thumbnail Text](#nlutn)<br>\n",
    "   4.3 [NLU for Article Text](#nlulink)<br>\n",
    "   4.4 [Tone Analyzer for Post Text](#tonepost)<br>\n",
    "   4.5 [Tone Analyzer for Article Text](#tonearticle)<br>\n",
    "   4.6 [Visual Recognition](#visual)<br>\n",
    "5. [Write Data](#write)<br>\n",
    "   5.1 [Convert DataFrame to new CSV](#write1)<br>\n",
    "   5.2 [Write Data to Cloud Object Storage](#write2)<br>\n",
    "    \n",
    "### [**Part II - Data Preparation**](#part2)<br>\n",
    "1. [Prepare Data](#prepare)<br>\n",
    "   1.1 [Create Multiple DataFrames for Visualizations](#visualizations)<br>\n",
    "   1.2 [Create a Consolidated Tone DataFrame](#tone)<br>\n",
    "   1.3 [Create a Consolidated Keyword DataFrame](#keyword)<br>\n",
    "   1.4 [Create a Consolidated Entity DataFrame](#entity)<br>\n",
    "  \n",
    "### [**Part III - Analyze**](#part3)<br>\n",
    "\n",
    "1. [Setup](#2setup)<br> \n",
    "    1.1 [Assign Variables](#2setup2)<br>\n",
    "2. [Visualize Data](#2visual)<br>\n",
    "    2.1 [Run PixieDust Visualization Library with Display() API](#2visual1)\n",
    "   \n",
    "### Learn more about the technology used:\n",
    "\n",
    "* [Natual Language Understanding](https://www.ibm.com/watson/developercloud/natural-language-understanding.html)\n",
    "* [Tone Analyzer](https://www.ibm.com/watson/developercloud/tone-analyzer.html)\n",
    "* [Visual Recognition](https://www.ibm.com/watson/services/visual-recognition/)\n",
    "* [Beautiful Soup](https://www.crummy.com/software/BeautifulSoup/bs4/doc/)\n",
    "* [PixieDust](https://github.com/ibm-cds-labs/pixiedust) (Part III)"
   ]
  },
  {
   "cell_type": "markdown",
   "metadata": {},
   "source": [
    "# <a id=\"part1\"></a>Part I - Enrich\n",
    "\n",
    "## <a id=\"setup\"></a>1. Setup\n",
    "To prepare your environment, you need to install some packages and enter credentials for the two Watson services.\n",
    "\n",
    "### <a id=\"setup1\"></a> 1.1 Install Latest Watson Developer Cloud and Beautiful Soup Packages\n",
    "You need to install these packages:\n",
    " - [Watson Developer Cloud](https://github.com/watson-developer-cloud/python-sdk): a client library for Watson services.\n",
    " - <a href=\"https://www.crummy.com/software/BeautifulSoup/bs4/doc/\" target=\"_blank\" rel=\"noopener noreferrer\">Beautiful Soup</a>: a library to parse data from HTML for enriching the Facebook data.\n",
    " - <a href=\"https://ibm-cds-labs.github.io/pixiedust/\" target=\"_blank\" rel=\"noopener noreferrer\">PixieDust</a>: a library to visualize the data. \n",
    "\n",
    "Install the Watson Developer Cloud package:"
   ]
  },
  {
   "cell_type": "code",
   "execution_count": 51,
   "metadata": {},
   "outputs": [],
   "source": [
    "!pip -q install watson-developer-cloud==2.5.1"
   ]
  },
  {
   "cell_type": "markdown",
   "metadata": {},
   "source": [
    "Install the Beautiful Soup package:"
   ]
  },
  {
   "cell_type": "code",
   "execution_count": 52,
   "metadata": {},
   "outputs": [],
   "source": [
    "!pip -q install --upgrade beautifulsoup4==4.6.3"
   ]
  },
  {
   "cell_type": "markdown",
   "metadata": {},
   "source": [
    "<a id=\"pixie\"></a>\n",
    "### 1.2 Install PixieDust Library\n",
    "This notebook provides an overview of how to use the PixieDust library to analyze and visualize various data sets. If you are new to PixieDust or would like to learn more about the library, please go to this [Introductory Notebook](https://apsportal.ibm.com/exchange/public/entry/view/5b000ed5abda694232eb5be84c3dd7c1) or visit the [PixieDust Github](https://ibm-cds-labs.github.io/pixiedust/). The `Setup` section for this notebook uses instructions from the [Intro To PixieDust](https://github.com/ibm-cds-labs/pixiedust/blob/master/notebook/Intro%20to%20PixieDust.ipynb) notebook."
   ]
  },
  {
   "cell_type": "markdown",
   "metadata": {},
   "source": [
    "Ensure you are running the latest version of PixieDust by running the following cell. Do not run this cell if you installed PixieDust locally from source and want to continue to run PixieDust from source."
   ]
  },
  {
   "cell_type": "code",
   "execution_count": 53,
   "metadata": {},
   "outputs": [],
   "source": [
    "!pip -q install --user --upgrade pixiedust==1.1.14"
   ]
  },
  {
   "cell_type": "markdown",
   "metadata": {},
   "source": [
    "<a id=\"restart\"></a>\n",
    "### 1.3 Restart Kernel\n",
    "> Required after installs/upgrades only.\n",
    "\n",
    "If any libraries were just installed or upgraded, <span style=\"color: red\">restart the kernel</span> before continuing. After this has been done once, you might want to comment out the `!pip install` lines above for cleaner output and a faster \"Run All\"."
   ]
  },
  {
   "cell_type": "markdown",
   "metadata": {},
   "source": [
    "<a id=\"setup2\"></a>\n",
    "### 1.4 Import Packages and Libraries\n",
    "> Tip: To check if you have a package installed, open a new cell and write: `help(<package-name>)`."
   ]
  },
  {
   "cell_type": "code",
   "execution_count": 54,
   "metadata": {},
   "outputs": [],
   "source": [
    "import json\n",
    "import sys\n",
    "\n",
    "import watson_developer_cloud\n",
    "from watson_developer_cloud import ToneAnalyzerV3, VisualRecognitionV3\n",
    "from watson_developer_cloud import NaturalLanguageUnderstandingV1\n",
    "from watson_developer_cloud.natural_language_understanding_v1 import Features, EntitiesOptions, KeywordsOptions, EmotionOptions, SentimentOptions\n",
    "\n",
    "import operator\n",
    "from functools import reduce\n",
    "from io import StringIO\n",
    "import numpy as np\n",
    "from bs4 import BeautifulSoup as bs\n",
    "from operator import itemgetter\n",
    "from os.path import join, dirname\n",
    "import pandas as pd\n",
    "import numpy as np\n",
    "import requests\n",
    "import pixiedust\n",
    "\n",
    "# Suppress some pandas warnings\n",
    "pd.options.mode.chained_assignment = None  # default='warn'\n",
    "# Suppress SSL warnings\n",
    "requests.packages.urllib3.disable_warnings()"
   ]
  },
  {
   "cell_type": "markdown",
   "metadata": {},
   "source": [
    "<a id='setup3'></a>\n",
    "### 1.5 Add Service Credentials From IBM Cloud for Watson Services\n",
    "Edit the following cell to provide your credentials for Watson Visual Recognition, Natural Language Understanding and Tone Analyzer.\n",
    "\n",
    "You must create a Watson Natural Language Understanding service, a Watson Tone Analyzer service, and a Watson Visual Recognition service on [IBM Cloud](bluemix.net).\n",
    "\n",
    "1. Create a service for [Natural Language Understanding (NLU)](https://www.ibm.com/watson/developercloud/natural-language-understanding.html). \n",
    "1. Create a service for [Tone Analyzer](https://cloud.ibm.com/catalog/services/tone-analyzer?taxonomyNavigation=watson).\n",
    "1. Create a service for [Visual Recognition](https://cloud.ibm.com/catalog/services/visual-recognition).\n",
    "1. Insert API keys and URLs in the following cell.\n",
    "1. Run the cell.\n",
    "\n",
    "###  <span style=\"color: red\"> _User Input_</span> "
   ]
  },
  {
   "cell_type": "code",
   "execution_count": 55,
   "metadata": {},
   "outputs": [],
   "source": [
    "# @hidden_cell\n",
    "\n",
    "# Watson Visual Recognition\n",
    "VISUAL_RECOGNITION_API_KEY = '<add_vr_api_key>'\n",
    "\n",
    "# Watson Natural Language Understanding (NLU)\n",
    "NATURAL_LANGUAGE_UNDERSTANDING_API_KEY = '<add_nlu_api_key>'\n",
    "NATURAL_LANGUAGE_UNDERSTANDING_URL = '<add_nlu_url>'\n",
    "\n",
    "# Watson Tone Analyzer\n",
    "TONE_ANALYZER_API_KEY = '<add_tone_api_key>'\n",
    "TONE_ANALYZER_URL = '<add_tone_url>'\n"
   ]
  },
  {
   "cell_type": "code",
   "execution_count": 56,
   "metadata": {},
   "outputs": [],
   "source": [
    "# Create the Watson clients\n",
    "\n",
    "nlu = watson_developer_cloud.NaturalLanguageUnderstandingV1(version='2018-12-14',\n",
    "                                                            iam_apikey=NATURAL_LANGUAGE_UNDERSTANDING_API_KEY,\n",
    "                                                            url=NATURAL_LANGUAGE_UNDERSTANDING_URL)\n",
    "tone_analyzer = ToneAnalyzerV3(version='2016-05-19',  # do not change this version\n",
    "                               iam_apikey=TONE_ANALYZER_API_KEY,\n",
    "                               url=TONE_ANALYZER_URL)\n",
    "\n",
    "visual_recognition = VisualRecognitionV3(version='2018-12-14', iam_apikey=VISUAL_RECOGNITION_API_KEY)"
   ]
  },
  {
   "cell_type": "markdown",
   "metadata": {},
   "source": [
    "\n",
    "## <a id='load'></a>2. Load Data\n",
    "The data you'll analyzing is a sample of a standard export of the Facebook Insights Post information from the <a href=\"https://www.facebook.com/ibmwatson/\" target=\"_blank\" rel=\"noopener noreferrer\">IBM Watson Facebook page</a>. Engagement metrics such as clicks, impressions, and so on, are altered and do not reflect actual post performance data. The data is on the Watson Studio community page.\n",
    "\n",
    "### 2.1 Load data from Object Storage\n",
    "\n",
    "To get the data and load it into a pandas DataFrame:\n",
    "\n",
    "1. Go to the [IBM Watson Facebook posts for 2015](https://apsportal.ibm.com/exchange/public/entry/view/ebaf6aab3f42217a22fb787d296fde9d) data card and click the download icon to save the file on your computer.\n",
    "1. Back in your notebook, load the file by clicking the **Find and Add Data** icon and then dragging and dropping the file onto the pane or browsing for the file. The data is stored in the object storage container that is associated with your project.\n",
    "1. Click in the next cell and then choose **Insert to code > Insert pandas DataFrame** from below the file name and then run the cell. Change the inserted variable name to `df_data_1`\n",
    "\n",
    "Note: There is an issue (https://github.com/IBM/pixiedust-facebook-analysis/issues/39)\n",
    " that causes failure of non utf-8 encodings that requires a workaround.\n",
    " You would fix this in the cell below by adding an encoding parameter to read_csv(). For our example_facebook_data.csv:\n",
    "\n",
    "  `df_data_1 = pd.read_csv(body, encoding='latin-1')` \n",
    "###  <span style=\"color: red\"> _User Input_</span> "
   ]
  },
  {
   "cell_type": "code",
   "execution_count": 57,
   "metadata": {},
   "outputs": [
    {
     "data": {
      "text/html": [
       "<div>\n",
       "<style scoped>\n",
       "    .dataframe tbody tr th:only-of-type {\n",
       "        vertical-align: middle;\n",
       "    }\n",
       "\n",
       "    .dataframe tbody tr th {\n",
       "        vertical-align: top;\n",
       "    }\n",
       "\n",
       "    .dataframe thead th {\n",
       "        text-align: right;\n",
       "    }\n",
       "</style>\n",
       "<table border=\"1\" class=\"dataframe\">\n",
       "  <thead>\n",
       "    <tr style=\"text-align: right;\">\n",
       "      <th></th>\n",
       "      <th>Post ID</th>\n",
       "      <th>Permalink</th>\n",
       "      <th>Post Message</th>\n",
       "      <th>Type</th>\n",
       "      <th>Countries</th>\n",
       "      <th>Languages</th>\n",
       "      <th>Posted</th>\n",
       "      <th>Audience Targeting</th>\n",
       "      <th>Lifetime Post Total Reach</th>\n",
       "      <th>Lifetime Post organic reach</th>\n",
       "      <th>...</th>\n",
       "      <th>Lifetime Post consumers by type - photo view</th>\n",
       "      <th>Lifetime Post Consumptions by type - link clicks</th>\n",
       "      <th>Lifetime Post Consumptions by type - other clicks</th>\n",
       "      <th>Lifetime Post Consumptions by type - photo view</th>\n",
       "      <th>Lifetime Negative feedback - hide_all_clicks</th>\n",
       "      <th>Lifetime Negative feedback - hide_clicks</th>\n",
       "      <th>Lifetime Negative feedback - unlike_page_clicks</th>\n",
       "      <th>Lifetime Negative Feedback from Users by Type - hide_all_clicks</th>\n",
       "      <th>Lifetime Negative Feedback from Users by Type - hide_clicks</th>\n",
       "      <th>Lifetime Negative Feedback from Users by Type - unlike_page_clicks</th>\n",
       "    </tr>\n",
       "  </thead>\n",
       "  <tbody>\n",
       "    <tr>\n",
       "      <th>0</th>\n",
       "      <td>NaN</td>\n",
       "      <td>NaN</td>\n",
       "      <td>NaN</td>\n",
       "      <td>NaN</td>\n",
       "      <td>NaN</td>\n",
       "      <td>NaN</td>\n",
       "      <td>NaN</td>\n",
       "      <td>NaN</td>\n",
       "      <td>Lifetime: The total number of people your Page...</td>\n",
       "      <td>Lifetime: The number of people who saw your Pa...</td>\n",
       "      <td>...</td>\n",
       "      <td>NaN</td>\n",
       "      <td>Lifetime: The number of clicks anywhere in you...</td>\n",
       "      <td>NaN</td>\n",
       "      <td>NaN</td>\n",
       "      <td>Lifetime: The number of people who have given ...</td>\n",
       "      <td>NaN</td>\n",
       "      <td>NaN</td>\n",
       "      <td>Lifetime: The number of times people have give...</td>\n",
       "      <td>NaN</td>\n",
       "      <td>NaN</td>\n",
       "    </tr>\n",
       "    <tr>\n",
       "      <th>1</th>\n",
       "      <td>187446750783_10153359024455784</td>\n",
       "      <td>https://www.facebook.com/ibmwatson/posts/10153...</td>\n",
       "      <td>Cheers to a wonderful New Year with Chef Watso...</td>\n",
       "      <td>Photo</td>\n",
       "      <td>NaN</td>\n",
       "      <td>NaN</td>\n",
       "      <td>12/31/15 6:28</td>\n",
       "      <td></td>\n",
       "      <td>2291</td>\n",
       "      <td>2291</td>\n",
       "      <td>...</td>\n",
       "      <td>4.0</td>\n",
       "      <td>21</td>\n",
       "      <td>27.0</td>\n",
       "      <td>4.0</td>\n",
       "      <td>NaN</td>\n",
       "      <td>NaN</td>\n",
       "      <td>NaN</td>\n",
       "      <td>NaN</td>\n",
       "      <td>NaN</td>\n",
       "      <td>NaN</td>\n",
       "    </tr>\n",
       "    <tr>\n",
       "      <th>2</th>\n",
       "      <td>187446750783_10153215851080784</td>\n",
       "      <td>https://www.facebook.com/ibmwatson/posts/10153...</td>\n",
       "      <td>IBM Watson's cover photo</td>\n",
       "      <td>Photo</td>\n",
       "      <td>NaN</td>\n",
       "      <td>NaN</td>\n",
       "      <td>12/31/15 6:26</td>\n",
       "      <td></td>\n",
       "      <td>158</td>\n",
       "      <td>158</td>\n",
       "      <td>...</td>\n",
       "      <td>307.0</td>\n",
       "      <td>NaN</td>\n",
       "      <td>NaN</td>\n",
       "      <td>544.0</td>\n",
       "      <td>NaN</td>\n",
       "      <td>NaN</td>\n",
       "      <td>NaN</td>\n",
       "      <td>NaN</td>\n",
       "      <td>NaN</td>\n",
       "      <td>NaN</td>\n",
       "    </tr>\n",
       "    <tr>\n",
       "      <th>3</th>\n",
       "      <td>187446750783_10153357233820784</td>\n",
       "      <td>https://www.facebook.com/ibmwatson/posts/10153...</td>\n",
       "      <td>What is Watson? IBM Watson is a technology pla...</td>\n",
       "      <td>Photo</td>\n",
       "      <td>NaN</td>\n",
       "      <td>NaN</td>\n",
       "      <td>12/30/15 7:00</td>\n",
       "      <td></td>\n",
       "      <td>4203</td>\n",
       "      <td>4203</td>\n",
       "      <td>...</td>\n",
       "      <td>67.0</td>\n",
       "      <td>26</td>\n",
       "      <td>102.0</td>\n",
       "      <td>94.0</td>\n",
       "      <td>NaN</td>\n",
       "      <td>NaN</td>\n",
       "      <td>NaN</td>\n",
       "      <td>NaN</td>\n",
       "      <td>NaN</td>\n",
       "      <td>NaN</td>\n",
       "    </tr>\n",
       "    <tr>\n",
       "      <th>4</th>\n",
       "      <td>187446750783_10153353697105784</td>\n",
       "      <td>https://www.facebook.com/ibmwatson/posts/10153...</td>\n",
       "      <td>Did you know that we have been hosting a serie...</td>\n",
       "      <td>Photo</td>\n",
       "      <td>NaN</td>\n",
       "      <td>NaN</td>\n",
       "      <td>12/28/15 7:05</td>\n",
       "      <td></td>\n",
       "      <td>2847</td>\n",
       "      <td>2847</td>\n",
       "      <td>...</td>\n",
       "      <td>62.0</td>\n",
       "      <td>19</td>\n",
       "      <td>37.0</td>\n",
       "      <td>83.0</td>\n",
       "      <td>1</td>\n",
       "      <td>NaN</td>\n",
       "      <td>NaN</td>\n",
       "      <td>1</td>\n",
       "      <td>NaN</td>\n",
       "      <td>NaN</td>\n",
       "    </tr>\n",
       "  </tbody>\n",
       "</table>\n",
       "<p>5 rows × 52 columns</p>\n",
       "</div>"
      ],
      "text/plain": [
       "                          Post ID  \\\n",
       "0                             NaN   \n",
       "1  187446750783_10153359024455784   \n",
       "2  187446750783_10153215851080784   \n",
       "3  187446750783_10153357233820784   \n",
       "4  187446750783_10153353697105784   \n",
       "\n",
       "                                           Permalink  \\\n",
       "0                                                NaN   \n",
       "1  https://www.facebook.com/ibmwatson/posts/10153...   \n",
       "2  https://www.facebook.com/ibmwatson/posts/10153...   \n",
       "3  https://www.facebook.com/ibmwatson/posts/10153...   \n",
       "4  https://www.facebook.com/ibmwatson/posts/10153...   \n",
       "\n",
       "                                        Post Message   Type  Countries  \\\n",
       "0                                                NaN    NaN        NaN   \n",
       "1  Cheers to a wonderful New Year with Chef Watso...  Photo        NaN   \n",
       "2                           IBM Watson's cover photo  Photo        NaN   \n",
       "3  What is Watson? IBM Watson is a technology pla...  Photo        NaN   \n",
       "4  Did you know that we have been hosting a serie...  Photo        NaN   \n",
       "\n",
       "   Languages         Posted Audience Targeting  \\\n",
       "0        NaN            NaN                NaN   \n",
       "1        NaN  12/31/15 6:28                      \n",
       "2        NaN  12/31/15 6:26                      \n",
       "3        NaN  12/30/15 7:00                      \n",
       "4        NaN  12/28/15 7:05                      \n",
       "\n",
       "                           Lifetime Post Total Reach  \\\n",
       "0  Lifetime: The total number of people your Page...   \n",
       "1                                               2291   \n",
       "2                                                158   \n",
       "3                                               4203   \n",
       "4                                               2847   \n",
       "\n",
       "                         Lifetime Post organic reach  \\\n",
       "0  Lifetime: The number of people who saw your Pa...   \n",
       "1                                               2291   \n",
       "2                                                158   \n",
       "3                                               4203   \n",
       "4                                               2847   \n",
       "\n",
       "                                 ...                                  \\\n",
       "0                                ...                                   \n",
       "1                                ...                                   \n",
       "2                                ...                                   \n",
       "3                                ...                                   \n",
       "4                                ...                                   \n",
       "\n",
       "  Lifetime Post consumers by type - photo view  \\\n",
       "0                                          NaN   \n",
       "1                                          4.0   \n",
       "2                                        307.0   \n",
       "3                                         67.0   \n",
       "4                                         62.0   \n",
       "\n",
       "    Lifetime Post Consumptions by type - link clicks  \\\n",
       "0  Lifetime: The number of clicks anywhere in you...   \n",
       "1                                                 21   \n",
       "2                                                NaN   \n",
       "3                                                 26   \n",
       "4                                                 19   \n",
       "\n",
       "  Lifetime Post Consumptions by type - other clicks  \\\n",
       "0                                               NaN   \n",
       "1                                              27.0   \n",
       "2                                               NaN   \n",
       "3                                             102.0   \n",
       "4                                              37.0   \n",
       "\n",
       "  Lifetime Post Consumptions by type - photo view  \\\n",
       "0                                             NaN   \n",
       "1                                             4.0   \n",
       "2                                           544.0   \n",
       "3                                            94.0   \n",
       "4                                            83.0   \n",
       "\n",
       "        Lifetime Negative feedback - hide_all_clicks  \\\n",
       "0  Lifetime: The number of people who have given ...   \n",
       "1                                                NaN   \n",
       "2                                                NaN   \n",
       "3                                                NaN   \n",
       "4                                                  1   \n",
       "\n",
       "  Lifetime Negative feedback - hide_clicks  \\\n",
       "0                                      NaN   \n",
       "1                                      NaN   \n",
       "2                                      NaN   \n",
       "3                                      NaN   \n",
       "4                                      NaN   \n",
       "\n",
       "  Lifetime Negative feedback - unlike_page_clicks  \\\n",
       "0                                             NaN   \n",
       "1                                             NaN   \n",
       "2                                             NaN   \n",
       "3                                             NaN   \n",
       "4                                             NaN   \n",
       "\n",
       "  Lifetime Negative Feedback from Users by Type - hide_all_clicks  \\\n",
       "0  Lifetime: The number of times people have give...                \n",
       "1                                                NaN                \n",
       "2                                                NaN                \n",
       "3                                                NaN                \n",
       "4                                                  1                \n",
       "\n",
       "  Lifetime Negative Feedback from Users by Type - hide_clicks  \\\n",
       "0                                                NaN            \n",
       "1                                                NaN            \n",
       "2                                                NaN            \n",
       "3                                                NaN            \n",
       "4                                                NaN            \n",
       "\n",
       "  Lifetime Negative Feedback from Users by Type - unlike_page_clicks  \n",
       "0                                                NaN                  \n",
       "1                                                NaN                  \n",
       "2                                                NaN                  \n",
       "3                                                NaN                  \n",
       "4                                                NaN                  \n",
       "\n",
       "[5 rows x 52 columns]"
      ]
     },
     "execution_count": 57,
     "metadata": {},
     "output_type": "execute_result"
    }
   ],
   "source": [
    "# **Insert to code > Insert pandas DataFrame**\n"
   ]
  },
  {
   "cell_type": "markdown",
   "metadata": {},
   "source": [
    "### <a id='load2'></a>2.2 Set variables\n",
    "You need to set these variables:\n",
    " - The name of the DataFrame\n",
    " - Your credentials for the source file\n",
    " - A file name for the enriched DataFrame\n",
    " \n",
    "Define a variable, `df`, for the DataFrame that you just created. If necessary, change the original DataFrame name to match the one you created."
   ]
  },
  {
   "cell_type": "code",
   "execution_count": 58,
   "metadata": {},
   "outputs": [],
   "source": [
    "# Make sure this uses the variable above. The number will vary in the inserted code.\n",
    "try:\n",
    "    df = df_data_1\n",
    "except NameError as e:\n",
    "    print('Error: Setup is incorrect or incomplete.\\n')\n",
    "    print('Follow the instructions to insert the pandas DataFrame above, and edit to')\n",
    "    print('make the generated df_data_# variable match the variable used here.')\n",
    "    raise"
   ]
  },
  {
   "cell_type": "markdown",
   "metadata": {},
   "source": [
    "**Select the cell below and place your cursor on an empty line below the comment.** \n",
    "Put in the credentials for the file you want to enrich by clicking on the 10/01 (upper right), then click `Insert to code` under the file you want to enrich, and choose `Insert Credentials`.\n",
    "\n",
    "**Change the inserted variable name to `credentials_1`**\n",
    "\n",
    "###  <span style=\"color: red\"> _User Input_</span> "
   ]
  },
  {
   "cell_type": "code",
   "execution_count": 59,
   "metadata": {},
   "outputs": [],
   "source": [
    "# insert credentials for file - Change to credentials_1\n"
   ]
  },
  {
   "cell_type": "code",
   "execution_count": 60,
   "metadata": {},
   "outputs": [],
   "source": [
    "# Make sure this uses the variable above. The number will vary in the inserted code.\n",
    "try:\n",
    "    credentials = credentials_1\n",
    "except NameError as e:\n",
    "    print('Error: Setup is incorrect or incomplete.\\n')\n",
    "    print('Follow the instructions to insert the file credentials above, and edit to')\n",
    "    print('make the generated credentials_# variable match the variable used here.')\n",
    "    raise"
   ]
  },
  {
   "cell_type": "markdown",
   "metadata": {},
   "source": [
    "<a id='prepare'></a>\n",
    "## 3. Prepare Data\n",
    "You'll prepare the data by cleansing it and extracting the URLs. Many of the posts contain both text and a URL. The first task is to separate URLs from the text so that they can be analyzed separately. Then you need to get thumbnails for the photos and links, and convert any shortened URLs to full URLs."
   ]
  },
  {
   "cell_type": "markdown",
   "metadata": {},
   "source": [
    "<a id='prepare1'></a>\n",
    "###  3.1 Data Cleansing with Python\n",
    "Renaming columns, removing noticeable noise in the data, pulling out URLs and appending to a new column to run through NLU.\n",
    "\n",
    "To cleanse the data, you'll rename a column and add a column with the URLs that were embedded in the post. \n",
    "\n",
    "Change the name of the `Post Message` column to `Text`:"
   ]
  },
  {
   "cell_type": "code",
   "execution_count": 61,
   "metadata": {},
   "outputs": [],
   "source": [
    "df.rename(columns={'Post Message': 'Text'}, inplace=True)"
   ]
  },
  {
   "cell_type": "code",
   "execution_count": 62,
   "metadata": {},
   "outputs": [],
   "source": [
    "# Drop the rows that have NaN for the text.\n",
    "df.dropna(subset=['Text'], inplace=True)"
   ]
  },
  {
   "cell_type": "markdown",
   "metadata": {},
   "source": [
    "Use the `str.partition` function to remove strings that contain \"http\" and \"www\" from the `Text` column and save them in new DataFrames, then add all web addresses to a new `Link` column in the original DataFrame. This process captures all web addresses: https, http, and www."
   ]
  },
  {
   "cell_type": "code",
   "execution_count": 63,
   "metadata": {},
   "outputs": [],
   "source": [
    "df_http = df[\"Text\"].str.partition(\"http\")\n",
    "df_www = df[\"Text\"].str.partition(\"www\")\n",
    "\n",
    "# Combine delimiters with actual links\n",
    "df_http[\"Link\"] = df_http[1].map(str) + df_http[2]\n",
    "df_www[\"Link1\"] = df_www[1].map(str) + df_www[2]\n",
    "\n",
    "# Include only Link columns\n",
    "df_http.drop(df_http.columns[0:3], axis=1, inplace = True)\n",
    "df_www.drop(df_www.columns[0:3], axis=1, inplace = True)\n",
    "\n",
    "# Merge http and www DataFrames\n",
    "dfmerge = pd.concat([df_http, df_www], axis=1)\n",
    "\n",
    "# The following steps will allow you to merge data columns from the left to the right\n",
    "dfmerge = dfmerge.apply(lambda x: x.str.strip()).replace('', np.nan)\n",
    "\n",
    "# Use fillna to fill any blanks with the Link1 column\n",
    "dfmerge[\"Link\"].fillna(dfmerge[\"Link1\"], inplace = True)\n",
    "\n",
    "# Delete Link1 (www column)\n",
    "dfmerge.drop(\"Link1\", axis=1, inplace = True)\n",
    "\n",
    "# Combine Link data frame\n",
    "df = pd.concat([dfmerge,df], axis = 1)\n",
    "\n",
    "# Make sure text column is a string\n",
    "df[\"Text\"] = df[\"Text\"].astype(\"str\")\n",
    "\n",
    "# Strip links from Text column\n",
    "df['Text'] = df['Text'].apply(lambda x: x.split('http')[0])\n",
    "df['Text'] = df['Text'].apply(lambda x: x.split('www')[0])"
   ]
  },
  {
   "cell_type": "markdown",
   "metadata": {},
   "source": [
    "### <a id='prepare2'></a> 3.2 Extract thumbnails and extended links\n",
    "\n",
    "A standard Facebook export does not provide the thumbnail that usually summarizes the link or photo associated with each post. Use the Beautiful Soup library to go into the HTML of the post and extract the thumbnail text:"
   ]
  },
  {
   "cell_type": "code",
   "execution_count": 64,
   "metadata": {},
   "outputs": [
    {
     "name": "stdout",
     "output_type": "stream",
     "text": [
      "Skipping url http://ibm.co/1VdSQDU: HTTPSConnectionPool(host='www.ibmchefwatson.com', port=443): Max retries exceeded with url: / (Caused by NewConnectionError('<urllib3.connection.VerifiedHTTPSConnection object at 0x2ab28fccd320>: Failed to establish a new connection: [Errno 110] Connection timed out',))\n",
      "Skipping url http://ibm.co/1VdSQDU: HTTPSConnectionPool(host='www.ibmchefwatson.com', port=443): Max retries exceeded with url: / (Caused by NewConnectionError('<urllib3.connection.VerifiedHTTPSConnection object at 0x2ab28fcc8048>: Failed to establish a new connection: [Errno 110] Connection timed out',))\n",
      "Skipping url http://ibm.co/1FdAhfn: HTTPSConnectionPool(host='asmarterplanet.com', port=443): Max retries exceeded with url: /blog/2015/09/watson-developer-cloud-new-platform-startup-innovation.html (Caused by SSLError(SSLError(\"bad handshake: Error([('SSL routines', 'SSL23_GET_SERVER_HELLO', 'tlsv1 unrecognized name')],)\",),))\n",
      "Skipping url http://ibm.co/1h2b0Jr: HTTPSConnectionPool(host='asmarterplanet.com', port=443): Max retries exceeded with url: /blog/2015/09/watson-developer-cloud-new-platform-startup-innovation.html (Caused by SSLError(SSLError(\"bad handshake: Error([('SSL routines', 'SSL23_GET_SERVER_HELLO', 'tlsv1 unrecognized name')],)\",),))\n"
     ]
    }
   ],
   "source": [
    "# Change links from objects to strings\n",
    "for link in df.Link:\n",
    "    df.Link.to_string()\n",
    "\n",
    "piclinks = []\n",
    "description = []\n",
    "for url in df[\"Link\"]:\n",
    "    if pd.isnull(url):\n",
    "        piclinks.append(\"\")\n",
    "        description.append(\"\")\n",
    "        continue\n",
    "        \n",
    "    try:\n",
    "        # Skip certificate check with verify=False.\n",
    "        # Don't do this if your urls are not secure.\n",
    "        page3 = requests.get(url, verify=False)\n",
    "        if page3.status_code != requests.codes.ok:\n",
    "            piclinks.append(\"\")\n",
    "            description.append(\"\")\n",
    "            continue\n",
    "    except Exception as e:\n",
    "        print(\"Skipping url %s: %s\" % (url, e))\n",
    "        piclinks.append(\"\")\n",
    "        description.append(\"\")\n",
    "        continue\n",
    "        \n",
    "    soup3 = bs(page3.text,\"lxml\")\n",
    "    \n",
    "    pic = soup3.find('meta', property =\"og:image\")\n",
    "    if pic:\n",
    "        piclinks.append(pic[\"content\"])\n",
    "    else: \n",
    "        piclinks.append(\"\")\n",
    "    \n",
    "    content = None\n",
    "    desc = soup3.find(attrs={'name':'Description'})\n",
    "    if desc:\n",
    "        content = desc['content']\n",
    "    if not content or content == 'null':\n",
    "        # Try again with lowercase description\n",
    "        desc = soup3.find(attrs={'name':'description'})\n",
    "        if desc:\n",
    "            content = desc['content']\n",
    "    if not content or content == 'null':\n",
    "        description.append(\"\")\n",
    "    else:\n",
    "        description.append(content)\n",
    "            \n",
    "# Save thumbnail descriptions to df in a column titled 'Thumbnails'\n",
    "df[\"Thumbnails\"] = description\n",
    "# Save image links to df in a column titled 'Image'\n",
    "df[\"Image\"] = piclinks"
   ]
  },
  {
   "cell_type": "markdown",
   "metadata": {},
   "source": [
    "Convert shortened links to full links.\n",
    "Use requests module to pull extended links. This is only necessary if the Facebook page uses different links than the articles themselves. For this example we are using IBM Watson's Facebook export which uses an IBM link. \n"
   ]
  },
  {
   "cell_type": "code",
   "execution_count": 65,
   "metadata": {},
   "outputs": [
    {
     "name": "stdout",
     "output_type": "stream",
     "text": [
      "Skipping link http://ibm.co/1VdSQDU: HTTPSConnectionPool(host='www.ibmchefwatson.com', port=443): Max retries exceeded with url: / (Caused by NewConnectionError('<urllib3.connection.VerifiedHTTPSConnection object at 0x2ab28fcc8908>: Failed to establish a new connection: [Errno 110] Connection timed out',))\n",
      "Skipping link http://ibm.co/1VdSQDU: HTTPSConnectionPool(host='www.ibmchefwatson.com', port=443): Max retries exceeded with url: / (Caused by NewConnectionError('<urllib3.connection.VerifiedHTTPSConnection object at 0x2ab28fcbeb70>: Failed to establish a new connection: [Errno 110] Connection timed out',))\n",
      "Skipping link http://ibm.co/1FdAhfn: HTTPSConnectionPool(host='asmarterplanet.com', port=443): Max retries exceeded with url: /blog/2015/09/watson-developer-cloud-new-platform-startup-innovation.html (Caused by SSLError(SSLError(\"bad handshake: Error([('SSL routines', 'SSL23_GET_SERVER_HELLO', 'tlsv1 unrecognized name')],)\",),))\n",
      "Skipping link http://ibm.co/1h2b0Jr: HTTPSConnectionPool(host='asmarterplanet.com', port=443): Max retries exceeded with url: /blog/2015/09/watson-developer-cloud-new-platform-startup-innovation.html (Caused by SSLError(SSLError(\"bad handshake: Error([('SSL routines', 'SSL23_GET_SERVER_HELLO', 'tlsv1 unrecognized name')],)\",),))\n"
     ]
    }
   ],
   "source": [
    "shortlink = df[\"Link\"]\n",
    "extendedlink = []\n",
    "\n",
    "for link in shortlink:\n",
    "    if isinstance(link, float):  # Float is not a URL, probably NaN.\n",
    "        extendedlink.append('')\n",
    "    else:\n",
    "        try:\n",
    "            extended_link = requests.Session().head(link, allow_redirects=True).url\n",
    "            extendedlink.append(extended_link)\n",
    "        except Exception as e:\n",
    "            print(\"Skipping link %s: %s\" % (link, e))\n",
    "            extendedlink.append('')\n",
    "\n",
    "df[\"Extended Links\"] = extendedlink"
   ]
  },
  {
   "cell_type": "markdown",
   "metadata": {},
   "source": [
    "<a id='enrich'></a> \n",
    "## 4. Enrichment Time!\n",
    "<a id='nlupost'></a>\n",
    "###  4.1 NLU for the Post Text\n",
    "The following script is an example of how to use Natural Language Understanding to iterate through each post and extract enrichment features for future analysis.\n",
    "\n",
    "For this example, we are looking at the `Text` column in our DataFrame, which contains the text of each post. NLU can also iterate through a column of URLs, or other freeform text. There's a list within a list for the Keywords and Entities features to allow gathering multiple entities and keywords from each piece of text.\n",
    "\n",
    "Each extracted feature is appended to the DataFrame in a new column that's defined at the end of the script. If you want to run this same script for the other columns, set the loop iterable to the column name, if you are using URLs, change the `text=response` parameter to `url=response`, and update the new column names as necessary. "
   ]
  },
  {
   "cell_type": "code",
   "execution_count": 66,
   "metadata": {},
   "outputs": [],
   "source": [
    "# Define the list of features to get enrichment values for entities, keywords, emotion and sentiment\n",
    "features = Features(entities=EntitiesOptions(), keywords=KeywordsOptions(), emotion=EmotionOptions(), sentiment=SentimentOptions())\n",
    "\n",
    "overallSentimentScore = []\n",
    "overallSentimentType = []\n",
    "highestEmotion = []\n",
    "highestEmotionScore = []\n",
    "kywords = []\n",
    "entities = []\n",
    "\n",
    "# Go through every response and enrich the text using NLU.\n",
    "for text in df['Text']:\n",
    "    # We are assuming English to avoid errors when the language cannot be detected.\n",
    "    enriched_json = nlu.analyze(text=text, features=features, language='en').get_result()\n",
    "\n",
    "    # Get the SENTIMENT score and type\n",
    "    if 'sentiment' in enriched_json:\n",
    "        if('score' in enriched_json['sentiment'][\"document\"]):\n",
    "            overallSentimentScore.append(enriched_json[\"sentiment\"][\"document\"][\"score\"])\n",
    "        else:\n",
    "            overallSentimentScore.append('0')\n",
    "\n",
    "        if('label' in enriched_json['sentiment'][\"document\"]):\n",
    "            overallSentimentType.append(enriched_json[\"sentiment\"][\"document\"][\"label\"])\n",
    "        else:\n",
    "            overallSentimentType.append('0')\n",
    "    else:\n",
    "        overallSentimentScore.append('0')\n",
    "        overallSentimentType.append('0')\n",
    "\n",
    "    # Read the EMOTIONS into a dict and get the key (emotion) with maximum value\n",
    "    if 'emotion' in enriched_json:\n",
    "        me = max(enriched_json[\"emotion\"][\"document\"][\"emotion\"].items(), key=operator.itemgetter(1))[0]\n",
    "        highestEmotion.append(me)\n",
    "        highestEmotionScore.append(enriched_json[\"emotion\"][\"document\"][\"emotion\"][me])\n",
    "    else:\n",
    "        highestEmotion.append(\"\")\n",
    "        highestEmotionScore.append(\"\")\n",
    "\n",
    "    # Iterate and get KEYWORDS with a confidence of over 70%\n",
    "    if 'keywords' in enriched_json:\n",
    "        tmpkw = []\n",
    "        for kw in enriched_json['keywords']:\n",
    "            if(float(kw[\"relevance\"]) >= 0.7):\n",
    "                tmpkw.append(kw[\"text\"])\n",
    "        # Convert multiple keywords in a list to a string and append the string\n",
    "        kywords.append(', '.join(tmpkw))\n",
    "    else:\n",
    "        kywords.append(\"\")\n",
    "            \n",
    "    # Iterate and get Entities with a confidence of over 30%\n",
    "    if 'entities' in enriched_json:\n",
    "        tmpent = []\n",
    "        for ent in enriched_json['entities']: \n",
    "            if(float(ent[\"relevance\"]) >= 0.3):\n",
    "                tmpent.append(ent[\"type\"])\n",
    " \n",
    "        # Convert multiple entities in a list to a string and append the string\n",
    "        entities.append(', '.join(tmpent))\n",
    "    else:\n",
    "        entities.append(\"\")    \n",
    "    \n",
    "# Create columns from the list and append to the DataFrame\n",
    "if highestEmotion:\n",
    "    df['TextHighestEmotion'] = highestEmotion\n",
    "if highestEmotionScore:\n",
    "    df['TextHighestEmotionScore'] = highestEmotionScore\n",
    "\n",
    "if overallSentimentType:\n",
    "    df['TextOverallSentimentType'] = overallSentimentType\n",
    "if overallSentimentScore:\n",
    "    df['TextOverallSentimentScore'] = overallSentimentScore\n",
    "\n",
    "df['TextKeywords'] = kywords\n",
    "df['TextEntities'] = entities"
   ]
  },
  {
   "cell_type": "markdown",
   "metadata": {},
   "source": [
    "After we extract all of the Keywords and Entities from each Post, we have columns with multiple Keywords and Entities separated by commas. For our Analysis in Part II, we also wanted the top Keyword and Entity for each Post. Because of this, we added two new columns to capture the `MaxTextKeyword` and `MaxTextEntity`."
   ]
  },
  {
   "cell_type": "code",
   "execution_count": 67,
   "metadata": {},
   "outputs": [],
   "source": [
    "# Choose first of Keywords,Concepts, Entities\n",
    "df[\"MaxTextKeywords\"] = df[\"TextKeywords\"].apply(lambda x: x.split(',')[0])\n",
    "df[\"MaxTextEntity\"] = df[\"TextEntities\"].apply(lambda x: x.split(',')[0])"
   ]
  },
  {
   "cell_type": "markdown",
   "metadata": {},
   "source": [
    "<a id='nlutn'></a>\n",
    "###  4.2 NLU for Thumbnail Text\n",
    "\n",
    "We will repeat the same process for Thumbnails and Article Text."
   ]
  },
  {
   "cell_type": "code",
   "execution_count": 68,
   "metadata": {},
   "outputs": [],
   "source": [
    "# Define the list of features to get enrichment values for entities, keywords, emotion and sentiment\n",
    "features = Features(entities=EntitiesOptions(), keywords=KeywordsOptions(), emotion=EmotionOptions(), sentiment=SentimentOptions())\n",
    "\n",
    "overallSentimentScore = []\n",
    "overallSentimentType = []\n",
    "highestEmotion = []\n",
    "highestEmotionScore = []\n",
    "kywords = []\n",
    "entities = []\n",
    "\n",
    "# Go through every response and enrich the text using NLU.\n",
    "for text in df['Thumbnails']:\n",
    "    if not text:\n",
    "        overallSentimentScore.append(' ')\n",
    "        overallSentimentType.append(' ')\n",
    "        highestEmotion.append(' ')\n",
    "        highestEmotionScore.append(' ')\n",
    "        kywords.append(' ')\n",
    "        entities.append(' ')\n",
    "        continue\n",
    "\n",
    "    enriched_json = nlu.analyze(text=text, features=features, language='en').get_result()\n",
    "\n",
    "    # Get the SENTIMENT score and type\n",
    "    if 'sentiment' in enriched_json:\n",
    "        if('score' in enriched_json['sentiment'][\"document\"]):\n",
    "            overallSentimentScore.append(enriched_json[\"sentiment\"][\"document\"][\"score\"])\n",
    "        else:\n",
    "            overallSentimentScore.append(\"\")\n",
    "\n",
    "        if('label' in enriched_json['sentiment'][\"document\"]):\n",
    "            overallSentimentType.append(enriched_json[\"sentiment\"][\"document\"][\"label\"])\n",
    "        else:\n",
    "            overallSentimentType.append(\"\")\n",
    "\n",
    "    # Read the EMOTIONS into a dict and get the key (emotion) with maximum value\n",
    "    if 'emotion' in enriched_json:\n",
    "        me = max(enriched_json[\"emotion\"][\"document\"][\"emotion\"].items(), key=operator.itemgetter(1))[0]\n",
    "        highestEmotion.append(me)\n",
    "        highestEmotionScore.append(enriched_json[\"emotion\"][\"document\"][\"emotion\"][me])\n",
    "\n",
    "    else:\n",
    "        highestEmotion.append(\"\")\n",
    "        highestEmotionScore.append(\"\")\n",
    "\n",
    "    # Iterate and get KEYWORDS with a confidence of over 70%\n",
    "    if 'keywords' in enriched_json:\n",
    "        tmpkw = []\n",
    "        for kw in enriched_json['keywords']:\n",
    "            if(float(kw[\"relevance\"]) >= 0.7):\n",
    "                tmpkw.append(kw[\"text\"])\n",
    "        # Convert multiple keywords in a list to a string and append the string\n",
    "        kywords.append(', '.join(tmpkw))\n",
    "     \n",
    "    # Iterate and get Entities with a confidence of over 30%\n",
    "    if 'entities' in enriched_json:\n",
    "        tmpent = []\n",
    "        for ent in enriched_json['entities']:              \n",
    "            if(float(ent[\"relevance\"]) >= 0.3):\n",
    "                tmpent.append(ent[\"type\"])\n",
    "        # Convert multiple entities in a list to a string and append the string\n",
    "        entities.append(', '.join(tmpent))\n",
    "    else:\n",
    "        entities.append(\"\")     \n",
    "  \n",
    "# Create columns from the list and append to the DataFrame\n",
    "if highestEmotion:\n",
    "    df['ThumbnailHighestEmotion'] = highestEmotion\n",
    "if highestEmotionScore:\n",
    "    df['ThumbnailHighestEmotionScore'] = highestEmotionScore\n",
    "\n",
    "if overallSentimentType:\n",
    "    df['ThumbnailOverallSentimentType'] = overallSentimentType\n",
    "if overallSentimentScore:\n",
    "    df['ThumbnailOverallSentimentScore'] = overallSentimentScore\n",
    "\n",
    "df['ThumbnailKeywords'] = kywords\n",
    "df['ThumbnailEntities'] = entities"
   ]
  },
  {
   "cell_type": "markdown",
   "metadata": {},
   "source": [
    " Add two new columns to capture the `MaxThumbnailKeyword` and `MaxThumbnailEntity`:"
   ]
  },
  {
   "cell_type": "code",
   "execution_count": 69,
   "metadata": {},
   "outputs": [],
   "source": [
    "# Set 'Max' to first one from keywords and entities lists\n",
    "df[\"MaxThumbnailKeywords\"] = df[\"ThumbnailKeywords\"].apply(lambda x: x.split(',')[0])\n",
    "df[\"MaxThumbnailEntity\"] = df[\"ThumbnailEntities\"].apply(lambda x: x.split(',')[0])"
   ]
  },
  {
   "cell_type": "markdown",
   "metadata": {},
   "source": [
    "<a id='nlulink'></a> \n",
    "### 4.3 NLU for Article Text"
   ]
  },
  {
   "cell_type": "code",
   "execution_count": 70,
   "metadata": {},
   "outputs": [
    {
     "name": "stdout",
     "output_type": "stream",
     "text": [
      "Skipping url https://www-304.ibm.com/connections/blogs/predictiveanalytics/entry/5_reasons_you_need_deep_social_media_analytics_for_better_business_outcomes1?lang=en_us: Error: Could not fetch URL: File not found, Code: 400 , X-dp-watson-tran-id: gateway02-87391703 , X-global-transaction-id: ffea405d5c1442c005357dd7\n",
      "Skipping url https://community.watsonanalytics.com/watson-analytics-just-got-more-socially-savvy/: Error: Could not fetch URL: File not found, Code: 400 , X-dp-watson-tran-id: gateway02-191816081 , X-global-transaction-id: ffea405d5c1442c40b6ee191\n",
      "Skipping url https://www-304.ibm.com/connections/blogs/predictiveanalytics/entry/5_reasons_you_need_deep_social_media_analytics_for_better_business_outcomes1?lang=en_us: Error: Could not fetch URL: File not found, Code: 400 , X-dp-watson-tran-id: gateway01-252077161 , X-global-transaction-id: 7ecac92c5c1442c60f066469\n",
      "Skipping url https://developer.ibm.com/watson/blog/2015/11/25/ibm-watson-ecosystem-launches-in-the-netherlands/: Error: Could not fetch URL: File not found, Code: 400 , X-dp-watson-tran-id: gateway01-236585973 , X-global-transaction-id: 7ecac92c5c1442c80e1a03f5\n",
      "Skipping url https://www.ibm.com/smarterplanet/us/en/wild-ducks-podcast/episode-10-technology-and-education-podcast.html: Error: Could not fetch URL: File not found, Code: 400 , X-dp-watson-tran-id: gateway02-253427801 , X-global-transaction-id: ffea405d5c1442cc0f1b0059\n",
      "Skipping url https://www.bizjournals.com/newyork/news/2015/11/16/ibm-watson-artificial-intelligence-business.html: Error: invalid request: resolved content is empty, Code: 400 , X-dp-watson-tran-id: gateway01-236591909 , X-global-transaction-id: 7ecac92c5c1442cd0e1a1b25\n",
      "Skipping url https://www.ibm.com/smarterplanet/us/en/think/healthcare/?cmp=C3440&cm=h&csr=masters2015&cr=youtube&ct=C34403XW&cn=healthcare-youtube: Error: Could not fetch URL: File not found, Code: 400 , X-dp-watson-tran-id: gateway02-191824945 , X-global-transaction-id: ffea405d5c1442cd0b6f0431\n",
      "Skipping url https://www.ibm.com/smarterplanet/us/en/ibmwatson/watson-cloud.html: Error: Could not fetch URL: File not found, Code: 400 , X-dp-watson-tran-id: gateway02-191827153 , X-global-transaction-id: ffea405d5c1442d20b6f0cd1\n"
     ]
    }
   ],
   "source": [
    "# Define the list of features to get enrichment values for entities, keywords, emotion and sentiment\n",
    "features = Features(entities=EntitiesOptions(), keywords=KeywordsOptions(), emotion=EmotionOptions(), sentiment=SentimentOptions())\n",
    "\n",
    "overallSentimentScore = []\n",
    "overallSentimentType = []\n",
    "highestEmotion = []\n",
    "highestEmotionScore = []\n",
    "kywords = []\n",
    "entities = []\n",
    "article_text = []\n",
    "        \n",
    "# Go through every response and enrich the article using NLU\n",
    "for url in df['Extended Links']:\n",
    "    if not url:\n",
    "        overallSentimentScore.append(' ')\n",
    "        overallSentimentType.append(' ')\n",
    "        highestEmotion.append(' ')\n",
    "        highestEmotionScore.append(' ')\n",
    "        kywords.append(' ')\n",
    "        entities.append(' ')\n",
    "        article_text.append(' ')\n",
    "        continue\n",
    "\n",
    "    # Run links through NLU to get entities, keywords, emotion and sentiment.\n",
    "    # Use return_analyzed_text to extract text for Tone Analyzer to use.\n",
    "    \n",
    "    try:\n",
    "        enriched_json = nlu.analyze(url=url,\n",
    "                                features=features,\n",
    "                                language='en',\n",
    "                                return_analyzed_text=True).get_result()\n",
    "        article_text.append(enriched_json[\"analyzed_text\"])\n",
    "    except Exception as e:\n",
    "        print(\"Skipping url %s: %s\" % (url, e))\n",
    "        overallSentimentScore.append(' ')\n",
    "        overallSentimentType.append(' ')\n",
    "        highestEmotion.append(' ')\n",
    "        highestEmotionScore.append(' ')\n",
    "        kywords.append(' ')\n",
    "        entities.append(' ')\n",
    "        article_text.append(' ')\n",
    "        continue\n",
    "      \n",
    "    \n",
    "    \n",
    "\n",
    "    # Get the SENTIMENT score and type\n",
    "    if 'sentiment' in enriched_json:\n",
    "        if('score' in enriched_json['sentiment'][\"document\"]):\n",
    "            overallSentimentScore.append(enriched_json[\"sentiment\"][\"document\"][\"score\"])\n",
    "        else:\n",
    "            overallSentimentScore.append('None')\n",
    "\n",
    "        if('label' in enriched_json['sentiment'][\"document\"]):\n",
    "            overallSentimentType.append(enriched_json[\"sentiment\"][\"document\"][\"label\"])\n",
    "        else:\n",
    "            overallSentimentType.append('')\n",
    "\n",
    "    # Read the EMOTIONS into a dict and get the key (emotion) with maximum value\n",
    "    if 'emotion' in enriched_json:\n",
    "        me = max(enriched_json[\"emotion\"][\"document\"][\"emotion\"].items(), key=operator.itemgetter(1))[0]\n",
    "        highestEmotion.append(me)\n",
    "        highestEmotionScore.append(enriched_json[\"emotion\"][\"document\"][\"emotion\"][me])\n",
    "\n",
    "    else:\n",
    "        highestEmotion.append('')\n",
    "        highestEmotionScore.append('')\n",
    "\n",
    "    # Iterate and get KEYWORDS with a confidence of over 70%\n",
    "    if 'keywords' in enriched_json:\n",
    "        tmpkw = []\n",
    "        for kw in enriched_json['keywords']:\n",
    "            if(float(kw[\"relevance\"]) >= 0.7):\n",
    "                tmpkw.append(kw[\"text\"])\n",
    "        # Convert multiple keywords in a list to a string and append the string\n",
    "        kywords.append(', '.join(tmpkw))\n",
    "    else: \n",
    "        kywords.append(\"\")\n",
    "            \n",
    "    # Iterate and get Entities with a confidence of over 30%\n",
    "    if 'entities' in enriched_json:\n",
    "        tmpent = []\n",
    "        for ent in enriched_json['entities']:               \n",
    "            if(float(ent[\"relevance\"]) >= 0.3):\n",
    "                tmpent.append(ent[\"type\"])\n",
    "        # Convert multiple entities in a list to a string and append the string\n",
    "        entities.append(', '.join(tmpent))\n",
    "    else:\n",
    "        entities.append(\"\")\n",
    "    \n",
    "# Create columns from the list and append to the DataFrame\n",
    "if highestEmotion:\n",
    "    df['LinkHighestEmotion'] = highestEmotion\n",
    "if highestEmotionScore:\n",
    "    df['LinkHighestEmotionScore'] = highestEmotionScore\n",
    "\n",
    "if overallSentimentType:\n",
    "    df['LinkOverallSentimentType'] = overallSentimentType\n",
    "if overallSentimentScore:\n",
    "    df['LinkOverallSentimentScore'] = overallSentimentScore\n",
    "\n",
    "df['LinkKeywords'] = kywords\n",
    "df['LinkEntities'] = entities\n",
    "df['Article Text'] = article_text"
   ]
  },
  {
   "cell_type": "markdown",
   "metadata": {},
   "source": [
    "Add two new columns to capture the `MaxLinkKeyword` and `MaxLinkEntity`:"
   ]
  },
  {
   "cell_type": "code",
   "execution_count": 71,
   "metadata": {},
   "outputs": [],
   "source": [
    "# Set 'Max' to first one from keywords and entities lists\n",
    "df[\"MaxLinkKeywords\"] = df[\"LinkKeywords\"].apply(lambda x: x.split(',')[0])\n",
    "df[\"MaxLinkEntity\"] = df[\"LinkEntities\"].apply(lambda x: x.split(',')[0])"
   ]
  },
  {
   "cell_type": "markdown",
   "metadata": {},
   "source": [
    "### <a id='tonepost'></a>4.4 Tone Analyzer for Post Text\n",
    "Now use the Tone Analyzer to gather the top social, writing, and emotion tones from the post text and append them, along with their respective scores, to the DataFrame. "
   ]
  },
  {
   "cell_type": "code",
   "execution_count": 72,
   "metadata": {},
   "outputs": [],
   "source": [
    "highestEmotionTone = []\n",
    "emotionToneScore = []\n",
    "\n",
    "highestLanguageTone = []\n",
    "languageToneScore = []\n",
    "\n",
    "highestSocialTone = []\n",
    "socialToneScore = []\n",
    "\n",
    "for text in df['Text']:\n",
    "    enriched_json = tone_analyzer.tone(text, content_type='text/plain').get_result()\n",
    " \n",
    "    me = max(enriched_json[\"document_tone\"][\"tone_categories\"][0][\"tones\"], key = itemgetter('score'))['tone_name']      \n",
    "    highestEmotionTone.append(me)\n",
    "    you = max(enriched_json[\"document_tone\"][\"tone_categories\"][0][\"tones\"], key = itemgetter('score'))['score']\n",
    "    emotionToneScore.append(you)\n",
    "            \n",
    "    me1 = max(enriched_json[\"document_tone\"][\"tone_categories\"][1][\"tones\"], key = itemgetter('score'))['tone_name']      \n",
    "    highestLanguageTone.append(me1)\n",
    "    you1 = max(enriched_json[\"document_tone\"][\"tone_categories\"][1][\"tones\"], key = itemgetter('score'))['score']\n",
    "    languageToneScore.append(you1)\n",
    "            \n",
    "    me2 = max(enriched_json[\"document_tone\"][\"tone_categories\"][2][\"tones\"], key = itemgetter('score'))['tone_name']      \n",
    "    highestSocialTone.append(me2)\n",
    "    you2 = max(enriched_json[\"document_tone\"][\"tone_categories\"][2][\"tones\"], key = itemgetter('score'))['score']\n",
    "    socialToneScore.append(you2)\n",
    "    \n",
    "df['highestEmotionTone'] = highestEmotionTone    \n",
    "df['emotionToneScore'] = emotionToneScore\n",
    "df['languageToneScore'] = languageToneScore\n",
    "df['highestLanguageTone'] = highestLanguageTone\n",
    "df['highestSocialTone'] = highestSocialTone    \n",
    "df['socialToneScore'] = socialToneScore"
   ]
  },
  {
   "cell_type": "markdown",
   "metadata": {},
   "source": [
    "<a id='tonearticle'></a> \n",
    "### 4.5 Tone Analyzer for Article Text"
   ]
  },
  {
   "cell_type": "markdown",
   "metadata": {},
   "source": [
    "Unlike NLU, Tone Analyzer cannot iterate through a URL, so we used NLU (above) to pull the Article Text from the URL and append it to the DataFrame.\n",
    "\n",
    "Now using Tone Analyzer, we iterate through the `Article Text` column which contains all of the free form text from the articles contained in the Facebook posts. \n",
    "\n",
    "We are using Tone Analyzer to gather the top Social, Language and Emotion Tones from the Articles."
   ]
  },
  {
   "cell_type": "code",
   "execution_count": 73,
   "metadata": {},
   "outputs": [],
   "source": [
    "highestEmotionTone = []\n",
    "emotionToneScore = []\n",
    "\n",
    "highestLanguageTone = []\n",
    "languageToneScore = []\n",
    "\n",
    "highestSocialTone = []\n",
    "socialToneScore = []\n",
    "\n",
    "for text in df['Article Text']:\n",
    "    if not text:\n",
    "        emotionToneScore.append(' ')\n",
    "        highestEmotionTone.append(' ')     \n",
    "        languageToneScore.append(' ')\n",
    "        highestLanguageTone.append(' ')     \n",
    "        socialToneScore.append(' ')\n",
    "        highestSocialTone.append(' ')  \n",
    "        continue\n",
    "\n",
    "    enriched_json = tone_analyzer.tone(text, content_type='text/plain', sentences=False).get_result()\n",
    "        \n",
    "    maxTone = max(enriched_json[\"document_tone\"][\"tone_categories\"][0][\"tones\"], key = itemgetter('score'))['tone_name']      \n",
    "    highestEmotionTone.append(maxTone)\n",
    "    maxToneScore = max(enriched_json[\"document_tone\"][\"tone_categories\"][0][\"tones\"], key = itemgetter('score'))['score']\n",
    "    emotionToneScore.append(maxToneScore)\n",
    "            \n",
    "    maxLanguageTone = max(enriched_json[\"document_tone\"][\"tone_categories\"][1][\"tones\"], key = itemgetter('score'))['tone_name']      \n",
    "    highestLanguageTone.append(maxLanguageTone)\n",
    "    maxLanguageScore = max(enriched_json[\"document_tone\"][\"tone_categories\"][1][\"tones\"], key = itemgetter('score'))['score']\n",
    "    languageToneScore.append(maxLanguageScore)\n",
    "            \n",
    "    maxSocial = max(enriched_json[\"document_tone\"][\"tone_categories\"][2][\"tones\"], key = itemgetter('score'))['tone_name']      \n",
    "    highestSocialTone.append(maxSocial)\n",
    "    maxSocialScore = max(enriched_json[\"document_tone\"][\"tone_categories\"][2][\"tones\"], key = itemgetter('score'))['score']\n",
    "    socialToneScore.append(maxSocialScore)\n",
    "\n",
    "df['articlehighestEmotionTone'] = highestEmotionTone\n",
    "df['articleEmotionToneScore'] = emotionToneScore\n",
    "df['articlelanguageToneScore'] = languageToneScore\n",
    "df['articlehighestLanguageTone'] = highestLanguageTone\n",
    "df['articlehighestSocialTone'] = highestSocialTone\n",
    "df['articlesocialToneScore'] = socialToneScore"
   ]
  },
  {
   "cell_type": "markdown",
   "metadata": {},
   "source": [
    "<a id='visual'></a> \n",
    "### 4.6 Visual Recognition\n",
    "Below uses Visual Recognition to classify the thumbnail images.\n",
    "\n",
    "> NOTE: When using the **free tier** of Visual Recognition, _classify_ has a limit of 250 images per day."
   ]
  },
  {
   "cell_type": "code",
   "execution_count": 74,
   "metadata": {},
   "outputs": [
    {
     "name": "stdout",
     "output_type": "stream",
     "text": [
      "Skipping url http://www.ibm.com/watson/assets/img/cloud/hero_cloud.jpg: Error: Unknown error, Code: 400 , X-dp-watson-tran-id: gateway01-280373725 , X-global-transaction-id: 7ecac92c5c14431f10b629dd\n",
      "Skipping url http://www-03.ibm.com/press/img/ibmpos_blu_feed.jpg: Error: Unknown error, Code: 400 , X-dp-watson-tran-id: gateway01-89010979 , X-global-transaction-id: 7ecac92c5c144323054e3323\n"
     ]
    }
   ],
   "source": [
    "piclinks = df[\"Image\"]\n",
    "\n",
    "picclass = []\n",
    "piccolor = []\n",
    "pictype1 = []\n",
    "pictype2 = []\n",
    "pictype3 = []\n",
    "\n",
    "for pic in piclinks:\n",
    "    if not pic or pic == 'default-img':\n",
    "        picclass.append(' ')\n",
    "        piccolor.append(' ')\n",
    "        pictype1.append(' ')\n",
    "        pictype2.append(' ')\n",
    "        pictype3.append(' ')\n",
    "        continue\n",
    "\n",
    "    classes = []\n",
    "    enriched_json = {}\n",
    "    try:\n",
    "        enriched_json = visual_recognition.classify(url=pic).get_result()\n",
    "    except Exception as e:\n",
    "        print(\"Skipping url %s: %s\" % (pic, e))\n",
    "\n",
    "    if 'error' in enriched_json:\n",
    "        print(enriched_json['error'])\n",
    "    if 'images' in enriched_json and 'classifiers' in enriched_json['images'][0]:\n",
    "        classes = enriched_json['images'][0][\"classifiers\"][0][\"classes\"]\n",
    "\n",
    "    color1 = None\n",
    "    class1 = None\n",
    "    type_hierarchy1 = None\n",
    "\n",
    "    for iclass in classes:\n",
    "        # Grab the first color, first class, and first type hierarchy.\n",
    "        # Note: Usually you'd filter by 'score' too.\n",
    "        if not type_hierarchy1 and 'type_hierarchy' in iclass:\n",
    "            type_hierarchy1 = iclass['type_hierarchy']\n",
    "        if not class1:\n",
    "            class1 = iclass['class']\n",
    "        if not color1 and iclass['class'].endswith(' color'):\n",
    "            color1 = iclass['class'][:-len(' color')]\n",
    "        if type_hierarchy1 and class1 and color1:\n",
    "            # We are only using 1 of each per image. When we have all 3, break.\n",
    "            break\n",
    "\n",
    "    picclass.append(class1 or ' ')\n",
    "    piccolor.append(color1 or ' ')\n",
    "    type_split = (type_hierarchy1 or '/ / / ').split('/')\n",
    "    pictype1.append(type_split[1] if len(type_split) > 1 else '-')\n",
    "    pictype2.append(type_split[2] if len(type_split) > 2 else '- ')\n",
    "    pictype3.append(type_split[3] if len(type_split) > 3 else '-')\n",
    "\n",
    "df[\"Image Color\"] = piccolor\n",
    "df[\"Image Class\"] = picclass\n",
    "df[\"Image Type\"] = pictype1\n",
    "df[\"Image Subtype\"] = pictype2\n",
    "df[\"Image Subtype2\"] = pictype3"
   ]
  },
  {
   "cell_type": "markdown",
   "metadata": {},
   "source": [
    " <a id='write'></a>\n",
    "## Enrichment is now COMPLETE!\n",
    "<a id='write1'></a> \n",
    "Save a copy of the enriched DataFrame as a file in Cloud Object Storage. To run the upload_file function we first need to create a variable that contains our credentials we created in section 2.2. No user input is required as we already have all of the information we need. To upload the file to COS simply run the next two cells."
   ]
  },
  {
   "cell_type": "code",
   "execution_count": 75,
   "metadata": {},
   "outputs": [],
   "source": [
    "cos = ibm_boto3.client(service_name='s3',\n",
    "    ibm_api_key_id=credentials['IBM_API_KEY_ID'],\n",
    "    ibm_service_instance_id=credentials['IAM_SERVICE_ID'],\n",
    "    ibm_auth_endpoint=credentials['IBM_AUTH_ENDPOINT'],\n",
    "    config=Config(signature_version='oauth'),\n",
    "    endpoint_url=credentials['ENDPOINT'])"
   ]
  },
  {
   "cell_type": "code",
   "execution_count": 76,
   "metadata": {},
   "outputs": [],
   "source": [
    "# Build the enriched file name from the original filename.\n",
    "localfilename = 'enriched_' + credentials['FILE']\n",
    "\n",
    "# Write a CSV file from the enriched pandas DataFrame.\n",
    "df.to_csv(localfilename, index=False)\n",
    "\n",
    "# Use the above put_file method with credentials to put the file in Object Storage.\n",
    "cos.upload_file(localfilename, Bucket=credentials['BUCKET'],Key=localfilename)"
   ]
  },
  {
   "cell_type": "markdown",
   "metadata": {},
   "source": [
    "<a id=\"part2\"></a> \n",
    "# Part II - Data Preparation\n",
    "<a id='prepare'></a>\n",
    "## 1. Prepare Data\n",
    " <a id='visualizations'></a>\n",
    "### 1.1 Prepare Multiple DataFrames for Visualizations\n",
    "Before we can create the separate tables for each Watson feature we need to organize and reformat the data. First, we need to determine which data points are tied to metrics. Second, we need to make sure make sure each metric is numeric. _(This is necessary for PixieDust in Part III)_"
   ]
  },
  {
   "cell_type": "code",
   "execution_count": 77,
   "metadata": {},
   "outputs": [],
   "source": [
    "# Determine which data points are tied to metrics and put them in a list\n",
    "metrics = [\"Lifetime Post Total Reach\", \"Lifetime Post organic reach\", \"Lifetime Post Paid Reach\", \"Lifetime Post Total Impressions\", \"Lifetime Post Organic Impressions\", \n",
    "           \"Lifetime Post Paid Impressions\", \"Lifetime Engaged Users\", \"Lifetime Post Consumers\", \"Lifetime Post Consumptions\", \"Lifetime Negative feedback\", \"Lifetime Negative Feedback from Users\", \n",
    "           \"Lifetime Post Impressions by people who have liked your Page\", \"Lifetime Post reach by people who like your Page\", \"Lifetime Post Paid Impressions by people who have liked your Page\", \n",
    "           \"Lifetime Paid reach of a post by people who like your Page\", \"Lifetime People who have liked your Page and engaged with your post\", \"Lifetime Talking About This (Post) by action type - comment\", \n",
    "           \"Lifetime Talking About This (Post) by action type - like\", \"Lifetime Talking About This (Post) by action type - share\", \"Lifetime Post Stories by action type - comment\", \"Lifetime Post Stories by action type - like\", \n",
    "           \"Lifetime Post Stories by action type - share\", \"Lifetime Post consumers by type - link clicks\", \"Lifetime Post consumers by type - other clicks\", \"Lifetime Post consumers by type - photo view\", \"Lifetime Post Consumptions by type - link clicks\", \n",
    "           \"Lifetime Post Consumptions by type - other clicks\", \"Lifetime Post Consumptions by type - photo view\", \"Lifetime Negative feedback - hide_all_clicks\", \"Lifetime Negative feedback - hide_clicks\", \n",
    "           \"Lifetime Negative Feedback from Users by Type - hide_all_clicks\", \"Lifetime Negative Feedback from Users by Type - hide_clicks\"]\n"
   ]
  },
  {
   "cell_type": "markdown",
   "metadata": {},
   "source": [
    "<a id='tone'></a> \n",
    "### 1.2 Create a Consolidated Tone DataFrame\n",
    "You'll create a DataFrame for the tones of the post text and a DataFrame for the tones of the article text. Then you'll combine them into one DataFrame.\n",
    "\n",
    "Create a DataFrame for post tones:"
   ]
  },
  {
   "cell_type": "markdown",
   "metadata": {},
   "source": [
    "#### Post Tone DataFrame"
   ]
  },
  {
   "cell_type": "code",
   "execution_count": 78,
   "metadata": {},
   "outputs": [],
   "source": [
    "# Create a list with only Post Tone Values\n",
    "post_tones = [\"Text\",\"highestEmotionTone\", \"emotionToneScore\", \"languageToneScore\", \"highestLanguageTone\", \"highestSocialTone\", \"socialToneScore\"]\n",
    "\n",
    "# Append DataFrame with these metrics\n",
    "post_tones.extend(metrics)\n",
    "\n",
    "# Create a new DataFrame with tones and metrics\n",
    "df_post_tones = df[post_tones]\n",
    "\n",
    "# Determine which tone values are suppose to be numeric and ensure they are numeric. \n",
    "post_numeric_values = [\"emotionToneScore\", \"languageToneScore\", \"socialToneScore\"]\n",
    "for i in post_numeric_values:\n",
    "    df_post_tones[i] = pd.to_numeric(df_post_tones[i], errors='coerce')\n",
    "\n",
    "# Make all metrics numeric\n",
    "for i in metrics:\n",
    "    df_post_tones[i] = pd.to_numeric(df_post_tones[i], errors='coerce')\n",
    "    \n",
    "# Drop NA Values in Tone Enrichment Columns\n",
    "df_post_tones.dropna(subset=[\"socialToneScore\"] , inplace = True)\n",
    "\n",
    "\n",
    "# Add in a column to distinguish what portion the enrichment was happening \n",
    "df_post_tones[\"Type\"] = \"Post\""
   ]
  },
  {
   "cell_type": "markdown",
   "metadata": {},
   "source": [
    "#### Article Tone DataFrame"
   ]
  },
  {
   "cell_type": "code",
   "execution_count": 79,
   "metadata": {},
   "outputs": [],
   "source": [
    "# Create a list with only Article Tone Values\n",
    "article_tones = [\"Text\", \"articlehighestEmotionTone\", \"articleEmotionToneScore\", \"articlelanguageToneScore\", \"articlehighestLanguageTone\", \"articlehighestSocialTone\", \"articlesocialToneScore\"]\n",
    "\n",
    "# Append DataFrame with these metrics\n",
    "article_tones.extend(metrics)\n",
    "\n",
    "# Create a new DataFrame with tones and metrics\n",
    "df_article_tones = df[article_tones]\n",
    "\n",
    "# Determine which values are suppose to be numeric and ensure they are numeric. \n",
    "art_numeric_values = [\"articleEmotionToneScore\", \"articlelanguageToneScore\", \"articlesocialToneScore\"]\n",
    "for i in art_numeric_values:\n",
    "    df_article_tones[i] = pd.to_numeric(df_article_tones[i], errors='coerce')\n",
    "    \n",
    "# Make all metrics numeric\n",
    "for i in metrics:\n",
    "    df_article_tones[i] = pd.to_numeric(df_article_tones[i], errors='coerce')\n",
    "    \n",
    "# Drop NA Values in Tone Enrichment Columns\n",
    "df_article_tones.dropna(subset=[\"articlesocialToneScore\"] , inplace = True)\n",
    "\n",
    "# Add in a column to distinguish what portion the enrichment was happening \n",
    "df_article_tones[\"Type\"] = \"Article\""
   ]
  },
  {
   "cell_type": "markdown",
   "metadata": {},
   "source": [
    "#### Combine Post and Article DataFrames to Make One Tone DataFrame"
   ]
  },
  {
   "cell_type": "code",
   "execution_count": 80,
   "metadata": {},
   "outputs": [],
   "source": [
    "# First make the Column Headers the same\n",
    "df_post_tones.rename(columns={\"highestEmotionTone\":\"Emotion Tone\", \"emotionToneScore\":\"Emotion Tone Score\", \"languageToneScore\": \"Language Tone Score\", \"highestLanguageTone\": \"Language Tone\", \"highestSocialTone\": \"Social Tone\", \"socialToneScore\":\"Social Tone Score\"\n",
    "}, inplace=True)\n",
    "\n",
    "df_article_tones.rename(columns={\"articlehighestEmotionTone\":\"Emotion Tone\", \"articleEmotionToneScore\":\"Emotion Tone Score\", \"articlelanguageToneScore\": \"Language Tone Score\", \"articlehighestLanguageTone\": \"Language Tone\", \"articlehighestSocialTone\": \"Social Tone\", \"articlesocialToneScore\":\"Social Tone Score\"\n",
    "}, inplace=True)\n",
    "\n",
    "# Combine into one data frame\n",
    "df_tones = pd.concat([df_post_tones, df_article_tones])"
   ]
  },
  {
   "cell_type": "markdown",
   "metadata": {},
   "source": [
    " <a id='keyword'></a> \n",
    "### 1.3 Create a Consolidated Keyword DataFrame\n",
    "You'll create DataFrames for the keywords of the article text, the thumbnail text, and the post text. Then you'll combine them into one DataFrame."
   ]
  },
  {
   "cell_type": "markdown",
   "metadata": {},
   "source": [
    " #### Article Keyword DataFrame "
   ]
  },
  {
   "cell_type": "code",
   "execution_count": 81,
   "metadata": {},
   "outputs": [],
   "source": [
    "# Create a list with only Article Keywords\n",
    "article_keywords = [\"Text\", \"MaxLinkKeywords\"]\n",
    "\n",
    "# Append DataFrame with these metrics\n",
    "article_keywords.extend(metrics)\n",
    "\n",
    "# Create a new DataFrame with keywords and metrics\n",
    "df_article_keywords = df[article_keywords]\n",
    "\n",
    "# Make all metrics numeric\n",
    "for i in metrics:\n",
    "    df_article_keywords[i] = pd.to_numeric(df_article_keywords[i], errors='coerce')\n",
    "\n",
    "# Drop NA Values in Keywords Column\n",
    "\n",
    "df_article_keywords['MaxLinkKeywords'].replace(' ', np.nan, inplace=True)\n",
    "df_article_keywords.dropna(subset=['MaxLinkKeywords'], inplace=True)\n",
    "\n",
    "# Add in a column to distinguish what portion the enrichment was happening \n",
    "df_article_keywords[\"Type\"] = \"Article\""
   ]
  },
  {
   "cell_type": "markdown",
   "metadata": {},
   "source": [
    "#### Thumbnail Keyword DataFrame "
   ]
  },
  {
   "cell_type": "code",
   "execution_count": 82,
   "metadata": {},
   "outputs": [],
   "source": [
    "# Create a list with only Thumbnail Keywords\n",
    "thumbnail_keywords = [\"Text\", \"MaxThumbnailKeywords\"]\n",
    "\n",
    "# Append DataFrame with these metrics\n",
    "thumbnail_keywords.extend(metrics)\n",
    "\n",
    "# Create a new DataFrame with keywords and metrics\n",
    "df_thumbnail_keywords = df[thumbnail_keywords]\n",
    "\n",
    "\n",
    "# Make all metrics numeric\n",
    "for i in metrics:\n",
    "    df_thumbnail_keywords[i] = pd.to_numeric(df_thumbnail_keywords[i], errors='coerce')\n",
    "    \n",
    "# Drop NA Values in Keywords Column\n",
    "df_thumbnail_keywords['MaxThumbnailKeywords'].replace(' ', np.nan, inplace=True)\n",
    "df_thumbnail_keywords.dropna(subset=['MaxThumbnailKeywords'], inplace=True)\n",
    "\n",
    "# Add in a column to distinguish what portion the enrichment was happening \n",
    "df_thumbnail_keywords[\"Type\"] = \"Thumbnails\""
   ]
  },
  {
   "cell_type": "markdown",
   "metadata": {},
   "source": [
    "#### Post Keyword DataFrame "
   ]
  },
  {
   "cell_type": "code",
   "execution_count": 83,
   "metadata": {},
   "outputs": [],
   "source": [
    "# Create a list with only Thumbnail Keywords\n",
    "post_keywords = [\"Text\", \"MaxTextKeywords\"]\n",
    "\n",
    "# Append DataFrame with these metrics\n",
    "post_keywords.extend(metrics)\n",
    "\n",
    "# Create a new DataFrame with keywords and metrics\n",
    "df_post_keywords = df[post_keywords]\n",
    "\n",
    "# Make all metrics numeric\n",
    "for i in metrics:\n",
    "    df_post_keywords[i] = pd.to_numeric(df_post_keywords[i], errors='coerce')\n",
    "    \n",
    "# Drop NA Values in Keywords Column\n",
    "\n",
    "df_post_keywords['MaxTextKeywords'].replace(' ', np.nan, inplace=True)\n",
    "df_post_keywords.dropna(subset=['MaxTextKeywords'], inplace=True)\n",
    "\n",
    "# Add in a column to distinguish what portion the enrichment was happening \n",
    "df_post_keywords[\"Type\"] = \"Posts\""
   ]
  },
  {
   "cell_type": "markdown",
   "metadata": {},
   "source": [
    "#### Combine Post, Thumbnail, and Article DataFrames to Make One Keywords DataFrame"
   ]
  },
  {
   "cell_type": "code",
   "execution_count": 84,
   "metadata": {},
   "outputs": [],
   "source": [
    "# First make the column headers the same\n",
    "df_post_keywords.rename(columns={\"MaxTextKeywords\": \"Keywords\"}, inplace=True)\n",
    "\n",
    "df_thumbnail_keywords.rename(columns={\"MaxThumbnailKeywords\":\"Keywords\"}, inplace=True)\n",
    "\n",
    "df_article_keywords.rename(columns={\"MaxLinkKeywords\":\"Keywords\"}, inplace=True)\n",
    "\n",
    "# Combine into one data frame\n",
    "df_keywords = pd.concat([df_post_keywords, df_thumbnail_keywords, df_article_keywords])\n",
    "\n",
    "# Discard keywords with lower consumption to make charting easier\n",
    "df_keywords = df_keywords[df_keywords[\"Lifetime Post Consumptions\"] > 175]"
   ]
  },
  {
   "cell_type": "markdown",
   "metadata": {},
   "source": [
    "<a id='entity'></a>\n",
    "###  1.4 Create a Consolidated Entity DataFrame\n",
    "You'll create DataFrames for the entities of the article text, the thumbnail text, and the post text. Then you'll combine them into one DataFrame."
   ]
  },
  {
   "cell_type": "markdown",
   "metadata": {},
   "source": [
    "#### Article Entity DataFrame "
   ]
  },
  {
   "cell_type": "code",
   "execution_count": 85,
   "metadata": {},
   "outputs": [],
   "source": [
    "# Create a list with only Article Keywords\n",
    "article_entities = [\"Text\", \"MaxLinkEntity\"]\n",
    "\n",
    "# Append DataFrame with these metrics\n",
    "article_entities.extend(metrics)\n",
    "\n",
    "# Create a new DataFrame with keywords and metrics\n",
    "df_article_entities = df[article_entities]\n",
    "    \n",
    "# Make all metrics numeric\n",
    "for i in metrics:\n",
    "    df_article_entities[i] = pd.to_numeric(df_article_entities[i], errors='coerce')\n",
    "    \n",
    "# Drop NA Values in Keywords Column\n",
    "df_article_entities['MaxLinkEntity'] = df[\"MaxLinkEntity\"].replace(r'\\s+', np.nan, regex=True)\n",
    "df_article_entities.dropna(subset=['MaxLinkEntity'], inplace=True)\n",
    "\n",
    "# Add in a column to distinguish what portion the enrichment was happening \n",
    "df_article_entities[\"Type\"] = \"Article\""
   ]
  },
  {
   "cell_type": "markdown",
   "metadata": {},
   "source": [
    "#### Thumbnail Entity DataFrame"
   ]
  },
  {
   "cell_type": "code",
   "execution_count": 86,
   "metadata": {},
   "outputs": [],
   "source": [
    "# Create a list with only Thumbnail Keywords\n",
    "thumbnail_entities = [\"Text\", \"MaxThumbnailEntity\"]\n",
    "\n",
    "# Append DataFrame with these metrics\n",
    "thumbnail_entities.extend(metrics)\n",
    "\n",
    "# Create a new DataFrame with keywords and metrics\n",
    "df_thumbnail_entities = df[thumbnail_entities]\n",
    "\n",
    "# Make all metrics numeric\n",
    "for i in metrics:\n",
    "    df_thumbnail_entities[i] = pd.to_numeric(df_thumbnail_entities[i], errors='coerce')\n",
    "    \n",
    "# Drop NA Values in Keywords Column\n",
    "df_thumbnail_entities['MaxThumbnailEntity'] = df_thumbnail_entities['MaxThumbnailEntity'].replace(r'\\s+', np.nan, regex=True)\n",
    "df_thumbnail_entities.dropna(subset=['MaxThumbnailEntity'], inplace=True)\n",
    "\n",
    "# Add in a column to distinguish what portion the enrichment was happening \n",
    "df_thumbnail_entities[\"Type\"] = \"Thumbnails\""
   ]
  },
  {
   "cell_type": "markdown",
   "metadata": {},
   "source": [
    "#### Post Entity DataFrame"
   ]
  },
  {
   "cell_type": "code",
   "execution_count": 87,
   "metadata": {},
   "outputs": [],
   "source": [
    "# Create a list with only Thumbnail Keywords\n",
    "post_entities = [\"Text\", \"MaxTextEntity\"]\n",
    "\n",
    "# Append DataFrame with these metrics\n",
    "post_entities.extend(metrics)\n",
    "\n",
    "# Create a new DataFrame with keywords and metrics\n",
    "df_post_entities = df[post_entities]\n",
    "\n",
    "# Make all metrics numeric\n",
    "for i in metrics:\n",
    "    df_post_entities[i] = pd.to_numeric(df_post_entities[i], errors='coerce')\n",
    "    \n",
    "# Drop NA Values in Keywords Column\n",
    "df_post_entities['MaxTextEntity'] = df_post_entities['MaxTextEntity'].replace(r'\\s+', np.nan, regex=True)\n",
    "df_post_entities.dropna(subset=['MaxTextEntity'], inplace=True)\n",
    "\n",
    "# Add in a column to distinguish what portion the enrichment was happening \n",
    "df_post_entities[\"Type\"] = \"Posts\""
   ]
  },
  {
   "cell_type": "markdown",
   "metadata": {},
   "source": [
    "#### Combine Post, Thumbnail, and Article DataFrames to Make One Entity DataFrame"
   ]
  },
  {
   "cell_type": "code",
   "execution_count": 88,
   "metadata": {},
   "outputs": [],
   "source": [
    "# First make the column headers the same\n",
    "df_post_entities.rename(columns={\"MaxTextEntity\": \"Entities\"}, inplace=True)\n",
    "\n",
    "df_thumbnail_entities.rename(columns={\"MaxThumbnailEntity\":\"Entities\"}, inplace=True)\n",
    "\n",
    "df_article_entities.rename(columns={\"MaxLinkEntity\":\"Entities\"}, inplace=True)\n",
    "\n",
    "# Combine into one data frame\n",
    "df_entities = pd.concat([df_post_entities, df_thumbnail_entities, df_article_entities])\n",
    "\n",
    "df_entities[\"Entities\"] = df_entities[\"Entities\"].replace('', np.nan)\n",
    "df_entities.dropna(subset=[\"Entities\"], inplace=True)"
   ]
  },
  {
   "cell_type": "markdown",
   "metadata": {},
   "source": [
    "<a id='image_dataframe'></a>\n",
    "###  1.5 Create a Consolidated Image DataFrame"
   ]
  },
  {
   "cell_type": "markdown",
   "metadata": {},
   "source": [
    "#### Combine Metrics with Type Hierarchy, Class and Color to Make One Image DataFrame"
   ]
  },
  {
   "cell_type": "code",
   "execution_count": 89,
   "metadata": {},
   "outputs": [],
   "source": [
    "# Create a list with only Visual Recognition columns\n",
    "pic_keywords = ['Image Type', 'Image Subtype', 'Image Subtype2', 'Image Class', 'Image Color']\n",
    "\n",
    "# Append DataFrame with these metrics\n",
    "pic_keywords.extend(metrics)\n",
    "\n",
    "# Create a new DataFrame with keywords and metrics\n",
    "df_pic_keywords = df[pic_keywords]\n",
    "\n",
    "# Make all metrics numeric\n",
    "for i in metrics:\n",
    "    df_pic_keywords[i] = pd.to_numeric(df_pic_keywords[i], errors='coerce')"
   ]
  },
  {
   "cell_type": "markdown",
   "metadata": {},
   "source": [
    "<a id=\"part3\"></a> \n",
    "# Part III\n",
    "<a id='2setup'></a> \n",
    "## 1. Setup\n",
    "<a id='2setup2'></a>\n",
    "###  1.1 Assign Variables\n",
    "Assign new DataFrames to variables. "
   ]
  },
  {
   "cell_type": "code",
   "execution_count": 90,
   "metadata": {},
   "outputs": [],
   "source": [
    "entities = df_entities\n",
    "tones = df_tones\n",
    "keywords = df_keywords"
   ]
  },
  {
   "cell_type": "markdown",
   "metadata": {},
   "source": [
    "<a id='2visual'></a>\n",
    "##  2. Visualize Data\n",
    "<a id='2visual1'></a> \n",
    "### 2.1 Run PixieDust Visualization Library with Display() API\n",
    "PixieDust lets you visualize your data in just a few clicks using the display() API. You can find more info at https://pixiedust.github.io/pixiedust/displayapi.html."
   ]
  },
  {
   "cell_type": "markdown",
   "metadata": {},
   "source": [
    "#### We can use a pie chart to identify how post consumption was broken up by tone. \n",
    "\n",
    "Click on the `Options` button to change the chart.  Here are some things to try:\n",
    "* Add *Type* to make the breakdown show *Post* or *Article*.\n",
    "* Show *Social Tone* intead of *Emotion Tone* (or both).\n",
    "* Try a different metric."
   ]
  },
  {
   "cell_type": "code",
   "execution_count": 91,
   "metadata": {
    "pixiedust": {
     "displayParams": {
      "aggregation": "SUM",
      "chartsize": "50",
      "handlerId": "barChart",
      "keyFields": "Emotion Tone",
      "legend": "false",
      "mpld3": "false",
      "rowCount": "100",
      "title": "Tone in Posts and Articles",
      "valueFields": "Lifetime Post Consumptions",
      "ylabel": "true"
     }
    }
   },
   "outputs": [
    {
     "data": {
      "text/html": [
       "<style type=\"text/css\">.pd_warning{display:none;}</style><div class=\"pd_warning\"><em>Hey, there's something awesome here! To see it, open this notebook outside GitHub, in a viewer like Jupyter</em></div><img style=\"max-width:initial !important\" src=\"data:image/png;base64,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\" class=\"pd_save is-viewer-good\">"
      ],
      "text/plain": [
       "<IPython.core.display.HTML object>"
      ]
     },
     "metadata": {},
     "output_type": "display_data"
    }
   ],
   "source": [
    "display(tones)"
   ]
  },
  {
   "cell_type": "markdown",
   "metadata": {},
   "source": [
    "#### Now let's look at the same statistics as a bar chart.\n",
    "\n",
    "It is the same line of code. Use the `Edit Metadata` button to see how PixieDust knows to show us a bar chart. If you don't have a button use the menu and select `View > Cell Toolbar > Edit Metadata`.\n",
    "\n",
    "A bar chart is better at showing more information. We added `Cluster By: Type` so we already see numbers for posts and articles. Notice what the chart tells you. *Joy* seems to be the dominant emotion. Click on `Options` and try this:\n",
    "\n",
    "* Change the aggregation to `AVG`.\n",
    "\n",
    "What emotion leads to higher average consumption?\n"
   ]
  },
  {
   "cell_type": "code",
   "execution_count": 92,
   "metadata": {
    "pixiedust": {
     "displayParams": {
      "aggregation": "SUM",
      "chartsize": "50",
      "charttype": "grouped",
      "clusterby": "Type",
      "handlerId": "barChart",
      "keyFields": "Emotion Tone",
      "legend": "true",
      "rendererId": "matplotlib",
      "rowCount": "100",
      "title": "Tone in Posts and Articles",
      "valueFields": "Lifetime Post Consumptions"
     }
    },
    "scrolled": false
   },
   "outputs": [
    {
     "data": {
      "text/html": [
       "<style type=\"text/css\">.pd_warning{display:none;}</style><div class=\"pd_warning\"><em>Hey, there's something awesome here! To see it, open this notebook outside GitHub, in a viewer like Jupyter</em></div><img style=\"max-width:initial !important\" src=\"data:image/png;base64,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\" class=\"pd_save is-viewer-good\">"
      ],
      "text/plain": [
       "<IPython.core.display.HTML object>"
      ]
     },
     "metadata": {},
     "output_type": "display_data"
    }
   ],
   "source": [
    "display(tones)"
   ]
  },
  {
   "cell_type": "markdown",
   "metadata": {},
   "source": [
    "#### Now let's look at the entities that were detected by Natural Language Understanding.\n",
    "\n",
    "The following bar chart shows the entities that were detected. This time we are stacking negative feedback and \"likes\" to get a picture of the kind of feedback the entities were getting. We chose a horizontal, stacked bar chart with descending values for a little variety.\n",
    "\n",
    "* Try a different renderer and see what you get."
   ]
  },
  {
   "cell_type": "code",
   "execution_count": 93,
   "metadata": {
    "pixiedust": {
     "displayParams": {
      "aggregation": "SUM",
      "chartsize": "50",
      "charttype": "stacked",
      "handlerId": "barChart",
      "keyFields": "Entities",
      "orientation": "horizontal",
      "rendererId": "matplotlib",
      "rowCount": "100",
      "sortby": "Values ASC",
      "title": "Entities in Posts and Articles",
      "valueFields": "Lifetime Post Stories by action type - like,Lifetime Negative Feedback from Users"
     }
    },
    "scrolled": false
   },
   "outputs": [
    {
     "data": {
      "text/html": [
       "<style type=\"text/css\">.pd_warning{display:none;}</style><div class=\"pd_warning\"><em>Hey, there's something awesome here! To see it, open this notebook outside GitHub, in a viewer like Jupyter</em></div><img style=\"max-width:initial !important\" src=\"data:image/png;base64,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\" class=\"pd_save is-viewer-good\">"
      ],
      "text/plain": [
       "<IPython.core.display.HTML object>"
      ]
     },
     "metadata": {},
     "output_type": "display_data"
    }
   ],
   "source": [
    "display(entities)"
   ]
  },
  {
   "cell_type": "markdown",
   "metadata": {},
   "source": [
    "#### Next we look at the keywords detected by Natural Language Understanding\n",
    "\n",
    "This time we are using the bokeh renderer for a different look. The renderers have different capabilities."
   ]
  },
  {
   "cell_type": "code",
   "execution_count": 94,
   "metadata": {
    "pixiedust": {
     "displayParams": {
      "aggregation": "AVG",
      "chartsize": "50",
      "charttype": "stacked",
      "clusterby": "Type",
      "handlerId": "barChart",
      "keyFields": "Keywords",
      "legend": "true",
      "mpld3": "false",
      "orientation": "horizontal",
      "rendererId": "matplotlib",
      "rowCount": "100",
      "sortby": "Values ASC",
      "timeseries": "false",
      "title": "Keywords in Posts,Articles and Thumbnails",
      "valueFields": "Lifetime Post Consumptions"
     }
    },
    "scrolled": false
   },
   "outputs": [
    {
     "data": {
      "text/html": [
       "<style type=\"text/css\">.pd_warning{display:none;}</style><div class=\"pd_warning\"><em>Hey, there's something awesome here! To see it, open this notebook outside GitHub, in a viewer like Jupyter</em></div><img style=\"max-width:initial !important\" src=\"data:image/png;base64,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\" class=\"pd_save is-viewer-good\">"
      ],
      "text/plain": [
       "<IPython.core.display.HTML object>"
      ]
     },
     "metadata": {},
     "output_type": "display_data"
    }
   ],
   "source": [
    "display(keywords)"
   ]
  },
  {
   "cell_type": "markdown",
   "metadata": {},
   "source": [
    "#### Now let's take a look at what Visual Recognition can show us.\n",
    "\n",
    "See how the images influenced the metrics. We've used visual recognition to identify a class and a type hierarchy for each image. We've also captured the top recognized color for each image. Our sample data doesn't have a significant number of data points, but these three charts demonstrate how you could:\n",
    "\n",
    "1. Recognize image classes that correlate to higher average post consumption.\n",
    "1. Add a type hierarchy for a higher level abstraction or to add grouping/stacking to the class data.\n",
    "1. Determine if image color correlates to user reactions.\n",
    "\n",
    "Visual recognition makes it surprisingly easy to do all of the above. Of course, you can easily try different metrics as you experiment. If you are not convinced that you should add ultramarine robot pictures to all of your articles, then you might want to do some research with a better data sample."
   ]
  },
  {
   "cell_type": "code",
   "execution_count": 95,
   "metadata": {
    "pixiedust": {
     "displayParams": {
      "aggregation": "AVG",
      "chartsize": "50",
      "charttype": "stacked",
      "handlerId": "barChart",
      "keyFields": "Image Class",
      "legend": "false",
      "rendererId": "matplotlib",
      "rowCount": "100",
      "sortby": "Values ASC",
      "title": "Image Class",
      "valueFields": "Lifetime Post Consumptions"
     }
    }
   },
   "outputs": [
    {
     "data": {
      "text/html": [
       "<style type=\"text/css\">.pd_warning{display:none;}</style><div class=\"pd_warning\"><em>Hey, there's something awesome here! To see it, open this notebook outside GitHub, in a viewer like Jupyter</em></div>\n",
       "        <div class=\"pd_save is-viewer-good\" style=\"padding-right:10px;text-align: center;line-height:initial !important;font-size: xx-large;font-weight: 500;color: coral;\">\n",
       "            Image Class\n",
       "        </div>\n",
       "    \n",
       "        <div id=\"chartFigure6732baf5\" class=\"pd_save\" style=\"overflow-x:auto\">\n",
       "            \n",
       "                    \n",
       "                            <center><img style=\"max-width:initial !important\" src=\"data:image/png;base64,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\" class=\"pd_save\"></center>\n",
       "                        \n",
       "                    \n",
       "                \n",
       "        </div>\n",
       "    "
      ],
      "text/plain": [
       "<IPython.core.display.HTML object>"
      ]
     },
     "metadata": {},
     "output_type": "display_data"
    }
   ],
   "source": [
    "display(df_pic_keywords)"
   ]
  },
  {
   "cell_type": "code",
   "execution_count": 96,
   "metadata": {
    "pixiedust": {
     "displayParams": {
      "aggregation": "AVG",
      "chartsize": "50",
      "charttype": "stacked",
      "handlerId": "barChart",
      "keyFields": "Image Type,Image Subtype,Image Subtype2",
      "legend": "false",
      "rendererId": "matplotlib",
      "rowCount": "100",
      "sortby": "Values ASC",
      "title": "Image Type Hierarchy",
      "valueFields": "Lifetime Post Consumptions"
     }
    }
   },
   "outputs": [
    {
     "data": {
      "text/html": [
       "<style type=\"text/css\">.pd_warning{display:none;}</style><div class=\"pd_warning\"><em>Hey, there's something awesome here! To see it, open this notebook outside GitHub, in a viewer like Jupyter</em></div><img style=\"max-width:initial !important\" src=\"data:image/png;base64,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\" class=\"pd_save is-viewer-good\">"
      ],
      "text/plain": [
       "<IPython.core.display.HTML object>"
      ]
     },
     "metadata": {},
     "output_type": "display_data"
    }
   ],
   "source": [
    "display(df_pic_keywords)"
   ]
  },
  {
   "cell_type": "code",
   "execution_count": 97,
   "metadata": {
    "pixiedust": {
     "displayParams": {
      "aggregation": "AVG",
      "chartsize": "50",
      "charttype": "stacked",
      "handlerId": "barChart",
      "keyFields": "Image Color",
      "legend": "false",
      "rendererId": "matplotlib",
      "rowCount": "100",
      "sortby": "Values ASC",
      "title": "Image Color",
      "valueFields": "Lifetime Post Consumptions"
     }
    }
   },
   "outputs": [
    {
     "data": {
      "text/html": [
       "<style type=\"text/css\">.pd_warning{display:none;}</style><div class=\"pd_warning\"><em>Hey, there's something awesome here! To see it, open this notebook outside GitHub, in a viewer like Jupyter</em></div><img style=\"max-width:initial !important\" src=\"data:image/png;base64,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\" class=\"pd_save is-viewer-good\">"
      ],
      "text/plain": [
       "<IPython.core.display.HTML object>"
      ]
     },
     "metadata": {},
     "output_type": "display_data"
    }
   ],
   "source": [
    "display(df_pic_keywords)"
   ]
  },
  {
   "cell_type": "markdown",
   "metadata": {},
   "source": [
    "# More Info.\n",
    "For more information about PixieDust, check out the following:\n",
    "* PixieDust Documentation: https://pixiedust.github.io/pixiedust/\n",
    "* PixieDust GitHub Repo: https://github.com/pixiedust/pixiedust\n",
    "\n",
    "Visit the With Watson page to learn more about the work we are doing with our partners to make Watson and Watson Studio come to life for our clients\n",
    "* With Watson Page: https://www.ibm.com/watson/with-watson/\n",
    "\n",
    "Visit the Watson Accelerators portal to see more live patterns in action:\n",
    "* Watson Accelerators: http://www.watsonaccelerators.com \n"
   ]
  },
  {
   "cell_type": "markdown",
   "metadata": {},
   "source": [
    "### About the Authors:\n",
    "#### Tyler Andersen and Anna Quincy\n",
    "Tyler and Anna are part of the With Watson team focused on pairing Cognitive Services with Data Science Patterns and Techniques for clients around the world. They work directly with clients to determine how they can use Watson and IBM's Watson Studio with their own data to solve a wide range of business issues.\n",
    " \n",
    "#### Mark Sturdevant\n",
    "Mark is a Developer Advocate at IBM where he implements open source code patterns to guide developers as they innovate using IBM's AI and data analytics solutions with Watson and Watson Studio."
   ]
  },
  {
   "cell_type": "markdown",
   "metadata": {},
   "source": [
    "<hr>\n",
    "Copyright © IBM Corp. 2017, 2018. This notebook and its source code are released under the terms of the Apache 2.0."
   ]
  },
  {
   "cell_type": "markdown",
   "metadata": {},
   "source": [
    "Licensed under the Apache License, Version 2.0 (the \"License\"); you may\n",
    "not use this file except in compliance with the License. You may obtain\n",
    "a copy of the License at\n",
    "\n",
    "      http://www.apache.org/licenses/LICENSE-2.0\n",
    "\n",
    "Unless required by applicable law or agreed to in writing, software\n",
    "distributed under the License is distributed on an \"AS IS\" BASIS, WITHOUT\n",
    "WARRANTIES OR CONDITIONS OF ANY KIND, either express or implied. See the\n",
    "License for the specific language governing permissions and limitations\n",
    "under the License."
   ]
  }
 ],
 "metadata": {
  "kernelspec": {
   "display_name": "Python 3.5",
   "language": "python",
   "name": "python3"
  },
  "language_info": {
   "codemirror_mode": {
    "name": "ipython",
    "version": 3
   },
   "file_extension": ".py",
   "mimetype": "text/x-python",
   "name": "python",
   "nbconvert_exporter": "python",
   "pygments_lexer": "ipython3",
   "version": "3.5.5"
  }
 },
 "nbformat": 4,
 "nbformat_minor": 1
}
